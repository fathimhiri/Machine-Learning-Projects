{
  "nbformat": 4,
  "nbformat_minor": 0,
  "metadata": {
    "colab": {
      "name": "Loan Prediction Analysis 1 .ipynb",
      "provenance": [],
      "collapsed_sections": [
        "h47bkLFRfb4M",
        "0dusmCXg-FHz"
      ]
    },
    "kernelspec": {
      "name": "python3",
      "display_name": "Python 3"
    },
    "language_info": {
      "name": "python"
    }
  },
  "cells": [
    {
      "cell_type": "code",
      "execution_count": null,
      "metadata": {
        "id": "fNKQbCtAIRaa"
      },
      "outputs": [],
      "source": [
        "import pandas as pd\n",
        "import numpy as np\n",
        "import seaborn as sns\n",
        "import matplotlib.pyplot as plt\n"
      ]
    },
    {
      "cell_type": "code",
      "source": [
        "df = pd.read_csv(\"/content/train_loan.csv\")"
      ],
      "metadata": {
        "id": "y_eqAigzI1iO"
      },
      "execution_count": null,
      "outputs": []
    },
    {
      "cell_type": "code",
      "source": [
        "df= df.drop(\"Loan_ID\",axis=1)"
      ],
      "metadata": {
        "id": "Dl8jQwRjJbtz"
      },
      "execution_count": null,
      "outputs": []
    },
    {
      "cell_type": "code",
      "source": [
        "df.head(3)"
      ],
      "metadata": {
        "colab": {
          "base_uri": "https://localhost:8080/",
          "height": 207
        },
        "id": "reLPCCAqaaTe",
        "outputId": "a93f341c-384a-4ba8-e9fa-7c8eaa98ac82"
      },
      "execution_count": null,
      "outputs": [
        {
          "output_type": "execute_result",
          "data": {
            "text/plain": [
              "  Gender Married Dependents Education Self_Employed  ApplicantIncome  CoapplicantIncome  LoanAmount  Loan_Amount_Term  Credit_History Property_Area Loan_Status\n",
              "0   Male      No          0  Graduate            No             5849                0.0         NaN             360.0             1.0         Urban           Y\n",
              "1   Male     Yes          1  Graduate            No             4583             1508.0       128.0             360.0             1.0         Rural           N\n",
              "2   Male     Yes          0  Graduate           Yes             3000                0.0        66.0             360.0             1.0         Urban           Y"
            ],
            "text/html": [
              "\n",
              "  <div id=\"df-7170b313-db78-4432-b569-fc9781e5cfe5\">\n",
              "    <div class=\"colab-df-container\">\n",
              "      <div>\n",
              "<style scoped>\n",
              "    .dataframe tbody tr th:only-of-type {\n",
              "        vertical-align: middle;\n",
              "    }\n",
              "\n",
              "    .dataframe tbody tr th {\n",
              "        vertical-align: top;\n",
              "    }\n",
              "\n",
              "    .dataframe thead th {\n",
              "        text-align: right;\n",
              "    }\n",
              "</style>\n",
              "<table border=\"1\" class=\"dataframe\">\n",
              "  <thead>\n",
              "    <tr style=\"text-align: right;\">\n",
              "      <th></th>\n",
              "      <th>Gender</th>\n",
              "      <th>Married</th>\n",
              "      <th>Dependents</th>\n",
              "      <th>Education</th>\n",
              "      <th>Self_Employed</th>\n",
              "      <th>ApplicantIncome</th>\n",
              "      <th>CoapplicantIncome</th>\n",
              "      <th>LoanAmount</th>\n",
              "      <th>Loan_Amount_Term</th>\n",
              "      <th>Credit_History</th>\n",
              "      <th>Property_Area</th>\n",
              "      <th>Loan_Status</th>\n",
              "    </tr>\n",
              "  </thead>\n",
              "  <tbody>\n",
              "    <tr>\n",
              "      <th>0</th>\n",
              "      <td>Male</td>\n",
              "      <td>No</td>\n",
              "      <td>0</td>\n",
              "      <td>Graduate</td>\n",
              "      <td>No</td>\n",
              "      <td>5849</td>\n",
              "      <td>0.0</td>\n",
              "      <td>NaN</td>\n",
              "      <td>360.0</td>\n",
              "      <td>1.0</td>\n",
              "      <td>Urban</td>\n",
              "      <td>Y</td>\n",
              "    </tr>\n",
              "    <tr>\n",
              "      <th>1</th>\n",
              "      <td>Male</td>\n",
              "      <td>Yes</td>\n",
              "      <td>1</td>\n",
              "      <td>Graduate</td>\n",
              "      <td>No</td>\n",
              "      <td>4583</td>\n",
              "      <td>1508.0</td>\n",
              "      <td>128.0</td>\n",
              "      <td>360.0</td>\n",
              "      <td>1.0</td>\n",
              "      <td>Rural</td>\n",
              "      <td>N</td>\n",
              "    </tr>\n",
              "    <tr>\n",
              "      <th>2</th>\n",
              "      <td>Male</td>\n",
              "      <td>Yes</td>\n",
              "      <td>0</td>\n",
              "      <td>Graduate</td>\n",
              "      <td>Yes</td>\n",
              "      <td>3000</td>\n",
              "      <td>0.0</td>\n",
              "      <td>66.0</td>\n",
              "      <td>360.0</td>\n",
              "      <td>1.0</td>\n",
              "      <td>Urban</td>\n",
              "      <td>Y</td>\n",
              "    </tr>\n",
              "  </tbody>\n",
              "</table>\n",
              "</div>\n",
              "      <button class=\"colab-df-convert\" onclick=\"convertToInteractive('df-7170b313-db78-4432-b569-fc9781e5cfe5')\"\n",
              "              title=\"Convert this dataframe to an interactive table.\"\n",
              "              style=\"display:none;\">\n",
              "        \n",
              "  <svg xmlns=\"http://www.w3.org/2000/svg\" height=\"24px\"viewBox=\"0 0 24 24\"\n",
              "       width=\"24px\">\n",
              "    <path d=\"M0 0h24v24H0V0z\" fill=\"none\"/>\n",
              "    <path d=\"M18.56 5.44l.94 2.06.94-2.06 2.06-.94-2.06-.94-.94-2.06-.94 2.06-2.06.94zm-11 1L8.5 8.5l.94-2.06 2.06-.94-2.06-.94L8.5 2.5l-.94 2.06-2.06.94zm10 10l.94 2.06.94-2.06 2.06-.94-2.06-.94-.94-2.06-.94 2.06-2.06.94z\"/><path d=\"M17.41 7.96l-1.37-1.37c-.4-.4-.92-.59-1.43-.59-.52 0-1.04.2-1.43.59L10.3 9.45l-7.72 7.72c-.78.78-.78 2.05 0 2.83L4 21.41c.39.39.9.59 1.41.59.51 0 1.02-.2 1.41-.59l7.78-7.78 2.81-2.81c.8-.78.8-2.07 0-2.86zM5.41 20L4 18.59l7.72-7.72 1.47 1.35L5.41 20z\"/>\n",
              "  </svg>\n",
              "      </button>\n",
              "      \n",
              "  <style>\n",
              "    .colab-df-container {\n",
              "      display:flex;\n",
              "      flex-wrap:wrap;\n",
              "      gap: 12px;\n",
              "    }\n",
              "\n",
              "    .colab-df-convert {\n",
              "      background-color: #E8F0FE;\n",
              "      border: none;\n",
              "      border-radius: 50%;\n",
              "      cursor: pointer;\n",
              "      display: none;\n",
              "      fill: #1967D2;\n",
              "      height: 32px;\n",
              "      padding: 0 0 0 0;\n",
              "      width: 32px;\n",
              "    }\n",
              "\n",
              "    .colab-df-convert:hover {\n",
              "      background-color: #E2EBFA;\n",
              "      box-shadow: 0px 1px 2px rgba(60, 64, 67, 0.3), 0px 1px 3px 1px rgba(60, 64, 67, 0.15);\n",
              "      fill: #174EA6;\n",
              "    }\n",
              "\n",
              "    [theme=dark] .colab-df-convert {\n",
              "      background-color: #3B4455;\n",
              "      fill: #D2E3FC;\n",
              "    }\n",
              "\n",
              "    [theme=dark] .colab-df-convert:hover {\n",
              "      background-color: #434B5C;\n",
              "      box-shadow: 0px 1px 3px 1px rgba(0, 0, 0, 0.15);\n",
              "      filter: drop-shadow(0px 1px 2px rgba(0, 0, 0, 0.3));\n",
              "      fill: #FFFFFF;\n",
              "    }\n",
              "  </style>\n",
              "\n",
              "      <script>\n",
              "        const buttonEl =\n",
              "          document.querySelector('#df-7170b313-db78-4432-b569-fc9781e5cfe5 button.colab-df-convert');\n",
              "        buttonEl.style.display =\n",
              "          google.colab.kernel.accessAllowed ? 'block' : 'none';\n",
              "\n",
              "        async function convertToInteractive(key) {\n",
              "          const element = document.querySelector('#df-7170b313-db78-4432-b569-fc9781e5cfe5');\n",
              "          const dataTable =\n",
              "            await google.colab.kernel.invokeFunction('convertToInteractive',\n",
              "                                                     [key], {});\n",
              "          if (!dataTable) return;\n",
              "\n",
              "          const docLinkHtml = 'Like what you see? Visit the ' +\n",
              "            '<a target=\"_blank\" href=https://colab.research.google.com/notebooks/data_table.ipynb>data table notebook</a>'\n",
              "            + ' to learn more about interactive tables.';\n",
              "          element.innerHTML = '';\n",
              "          dataTable['output_type'] = 'display_data';\n",
              "          await google.colab.output.renderOutput(dataTable, element);\n",
              "          const docLink = document.createElement('div');\n",
              "          docLink.innerHTML = docLinkHtml;\n",
              "          element.appendChild(docLink);\n",
              "        }\n",
              "      </script>\n",
              "    </div>\n",
              "  </div>\n",
              "  "
            ]
          },
          "metadata": {},
          "execution_count": 244
        }
      ]
    },
    {
      "cell_type": "markdown",
      "source": [
        "# New Section"
      ],
      "metadata": {
        "id": "newmXVBLJJIb"
      }
    },
    {
      "cell_type": "code",
      "source": [
        "df.describe()"
      ],
      "metadata": {
        "colab": {
          "base_uri": "https://localhost:8080/",
          "height": 300
        },
        "id": "_fCWXVYBJoNb",
        "outputId": "a5685832-6911-4bd7-c5d3-8520b6ed8b71"
      },
      "execution_count": null,
      "outputs": [
        {
          "output_type": "execute_result",
          "data": {
            "text/plain": [
              "       ApplicantIncome  CoapplicantIncome  LoanAmount  Loan_Amount_Term  Credit_History\n",
              "count       614.000000         614.000000  592.000000         600.00000      564.000000\n",
              "mean       5403.459283        1621.245798  146.412162         342.00000        0.842199\n",
              "std        6109.041673        2926.248369   85.587325          65.12041        0.364878\n",
              "min         150.000000           0.000000    9.000000          12.00000        0.000000\n",
              "25%        2877.500000           0.000000  100.000000         360.00000        1.000000\n",
              "50%        3812.500000        1188.500000  128.000000         360.00000        1.000000\n",
              "75%        5795.000000        2297.250000  168.000000         360.00000        1.000000\n",
              "max       81000.000000       41667.000000  700.000000         480.00000        1.000000"
            ],
            "text/html": [
              "\n",
              "  <div id=\"df-b1e75586-1446-44a2-8c1d-94d3d12d6552\">\n",
              "    <div class=\"colab-df-container\">\n",
              "      <div>\n",
              "<style scoped>\n",
              "    .dataframe tbody tr th:only-of-type {\n",
              "        vertical-align: middle;\n",
              "    }\n",
              "\n",
              "    .dataframe tbody tr th {\n",
              "        vertical-align: top;\n",
              "    }\n",
              "\n",
              "    .dataframe thead th {\n",
              "        text-align: right;\n",
              "    }\n",
              "</style>\n",
              "<table border=\"1\" class=\"dataframe\">\n",
              "  <thead>\n",
              "    <tr style=\"text-align: right;\">\n",
              "      <th></th>\n",
              "      <th>ApplicantIncome</th>\n",
              "      <th>CoapplicantIncome</th>\n",
              "      <th>LoanAmount</th>\n",
              "      <th>Loan_Amount_Term</th>\n",
              "      <th>Credit_History</th>\n",
              "    </tr>\n",
              "  </thead>\n",
              "  <tbody>\n",
              "    <tr>\n",
              "      <th>count</th>\n",
              "      <td>614.000000</td>\n",
              "      <td>614.000000</td>\n",
              "      <td>592.000000</td>\n",
              "      <td>600.00000</td>\n",
              "      <td>564.000000</td>\n",
              "    </tr>\n",
              "    <tr>\n",
              "      <th>mean</th>\n",
              "      <td>5403.459283</td>\n",
              "      <td>1621.245798</td>\n",
              "      <td>146.412162</td>\n",
              "      <td>342.00000</td>\n",
              "      <td>0.842199</td>\n",
              "    </tr>\n",
              "    <tr>\n",
              "      <th>std</th>\n",
              "      <td>6109.041673</td>\n",
              "      <td>2926.248369</td>\n",
              "      <td>85.587325</td>\n",
              "      <td>65.12041</td>\n",
              "      <td>0.364878</td>\n",
              "    </tr>\n",
              "    <tr>\n",
              "      <th>min</th>\n",
              "      <td>150.000000</td>\n",
              "      <td>0.000000</td>\n",
              "      <td>9.000000</td>\n",
              "      <td>12.00000</td>\n",
              "      <td>0.000000</td>\n",
              "    </tr>\n",
              "    <tr>\n",
              "      <th>25%</th>\n",
              "      <td>2877.500000</td>\n",
              "      <td>0.000000</td>\n",
              "      <td>100.000000</td>\n",
              "      <td>360.00000</td>\n",
              "      <td>1.000000</td>\n",
              "    </tr>\n",
              "    <tr>\n",
              "      <th>50%</th>\n",
              "      <td>3812.500000</td>\n",
              "      <td>1188.500000</td>\n",
              "      <td>128.000000</td>\n",
              "      <td>360.00000</td>\n",
              "      <td>1.000000</td>\n",
              "    </tr>\n",
              "    <tr>\n",
              "      <th>75%</th>\n",
              "      <td>5795.000000</td>\n",
              "      <td>2297.250000</td>\n",
              "      <td>168.000000</td>\n",
              "      <td>360.00000</td>\n",
              "      <td>1.000000</td>\n",
              "    </tr>\n",
              "    <tr>\n",
              "      <th>max</th>\n",
              "      <td>81000.000000</td>\n",
              "      <td>41667.000000</td>\n",
              "      <td>700.000000</td>\n",
              "      <td>480.00000</td>\n",
              "      <td>1.000000</td>\n",
              "    </tr>\n",
              "  </tbody>\n",
              "</table>\n",
              "</div>\n",
              "      <button class=\"colab-df-convert\" onclick=\"convertToInteractive('df-b1e75586-1446-44a2-8c1d-94d3d12d6552')\"\n",
              "              title=\"Convert this dataframe to an interactive table.\"\n",
              "              style=\"display:none;\">\n",
              "        \n",
              "  <svg xmlns=\"http://www.w3.org/2000/svg\" height=\"24px\"viewBox=\"0 0 24 24\"\n",
              "       width=\"24px\">\n",
              "    <path d=\"M0 0h24v24H0V0z\" fill=\"none\"/>\n",
              "    <path d=\"M18.56 5.44l.94 2.06.94-2.06 2.06-.94-2.06-.94-.94-2.06-.94 2.06-2.06.94zm-11 1L8.5 8.5l.94-2.06 2.06-.94-2.06-.94L8.5 2.5l-.94 2.06-2.06.94zm10 10l.94 2.06.94-2.06 2.06-.94-2.06-.94-.94-2.06-.94 2.06-2.06.94z\"/><path d=\"M17.41 7.96l-1.37-1.37c-.4-.4-.92-.59-1.43-.59-.52 0-1.04.2-1.43.59L10.3 9.45l-7.72 7.72c-.78.78-.78 2.05 0 2.83L4 21.41c.39.39.9.59 1.41.59.51 0 1.02-.2 1.41-.59l7.78-7.78 2.81-2.81c.8-.78.8-2.07 0-2.86zM5.41 20L4 18.59l7.72-7.72 1.47 1.35L5.41 20z\"/>\n",
              "  </svg>\n",
              "      </button>\n",
              "      \n",
              "  <style>\n",
              "    .colab-df-container {\n",
              "      display:flex;\n",
              "      flex-wrap:wrap;\n",
              "      gap: 12px;\n",
              "    }\n",
              "\n",
              "    .colab-df-convert {\n",
              "      background-color: #E8F0FE;\n",
              "      border: none;\n",
              "      border-radius: 50%;\n",
              "      cursor: pointer;\n",
              "      display: none;\n",
              "      fill: #1967D2;\n",
              "      height: 32px;\n",
              "      padding: 0 0 0 0;\n",
              "      width: 32px;\n",
              "    }\n",
              "\n",
              "    .colab-df-convert:hover {\n",
              "      background-color: #E2EBFA;\n",
              "      box-shadow: 0px 1px 2px rgba(60, 64, 67, 0.3), 0px 1px 3px 1px rgba(60, 64, 67, 0.15);\n",
              "      fill: #174EA6;\n",
              "    }\n",
              "\n",
              "    [theme=dark] .colab-df-convert {\n",
              "      background-color: #3B4455;\n",
              "      fill: #D2E3FC;\n",
              "    }\n",
              "\n",
              "    [theme=dark] .colab-df-convert:hover {\n",
              "      background-color: #434B5C;\n",
              "      box-shadow: 0px 1px 3px 1px rgba(0, 0, 0, 0.15);\n",
              "      filter: drop-shadow(0px 1px 2px rgba(0, 0, 0, 0.3));\n",
              "      fill: #FFFFFF;\n",
              "    }\n",
              "  </style>\n",
              "\n",
              "      <script>\n",
              "        const buttonEl =\n",
              "          document.querySelector('#df-b1e75586-1446-44a2-8c1d-94d3d12d6552 button.colab-df-convert');\n",
              "        buttonEl.style.display =\n",
              "          google.colab.kernel.accessAllowed ? 'block' : 'none';\n",
              "\n",
              "        async function convertToInteractive(key) {\n",
              "          const element = document.querySelector('#df-b1e75586-1446-44a2-8c1d-94d3d12d6552');\n",
              "          const dataTable =\n",
              "            await google.colab.kernel.invokeFunction('convertToInteractive',\n",
              "                                                     [key], {});\n",
              "          if (!dataTable) return;\n",
              "\n",
              "          const docLinkHtml = 'Like what you see? Visit the ' +\n",
              "            '<a target=\"_blank\" href=https://colab.research.google.com/notebooks/data_table.ipynb>data table notebook</a>'\n",
              "            + ' to learn more about interactive tables.';\n",
              "          element.innerHTML = '';\n",
              "          dataTable['output_type'] = 'display_data';\n",
              "          await google.colab.output.renderOutput(dataTable, element);\n",
              "          const docLink = document.createElement('div');\n",
              "          docLink.innerHTML = docLinkHtml;\n",
              "          element.appendChild(docLink);\n",
              "        }\n",
              "      </script>\n",
              "    </div>\n",
              "  </div>\n",
              "  "
            ]
          },
          "metadata": {},
          "execution_count": 245
        }
      ]
    },
    {
      "cell_type": "code",
      "source": [
        "df.info()"
      ],
      "metadata": {
        "colab": {
          "base_uri": "https://localhost:8080/"
        },
        "id": "vRE43GpDJviR",
        "outputId": "a1cbf7d4-4ca5-4ec8-8e69-ad23419d2a5c"
      },
      "execution_count": null,
      "outputs": [
        {
          "output_type": "stream",
          "name": "stdout",
          "text": [
            "<class 'pandas.core.frame.DataFrame'>\n",
            "RangeIndex: 614 entries, 0 to 613\n",
            "Data columns (total 12 columns):\n",
            " #   Column             Non-Null Count  Dtype  \n",
            "---  ------             --------------  -----  \n",
            " 0   Gender             601 non-null    object \n",
            " 1   Married            611 non-null    object \n",
            " 2   Dependents         599 non-null    object \n",
            " 3   Education          614 non-null    object \n",
            " 4   Self_Employed      582 non-null    object \n",
            " 5   ApplicantIncome    614 non-null    int64  \n",
            " 6   CoapplicantIncome  614 non-null    float64\n",
            " 7   LoanAmount         592 non-null    float64\n",
            " 8   Loan_Amount_Term   600 non-null    float64\n",
            " 9   Credit_History     564 non-null    float64\n",
            " 10  Property_Area      614 non-null    object \n",
            " 11  Loan_Status        614 non-null    object \n",
            "dtypes: float64(4), int64(1), object(7)\n",
            "memory usage: 57.7+ KB\n"
          ]
        }
      ]
    },
    {
      "cell_type": "markdown",
      "source": [
        "# Preprocessing the dataset"
      ],
      "metadata": {
        "id": "dWgAiumZKuY7"
      }
    },
    {
      "cell_type": "code",
      "source": [
        "isna =df.isna().sum()\n",
        "isna"
      ],
      "metadata": {
        "colab": {
          "base_uri": "https://localhost:8080/"
        },
        "id": "XAGRCvoWKup7",
        "outputId": "0c6ead1e-7578-4ec9-a29e-d95a0915f868"
      },
      "execution_count": null,
      "outputs": [
        {
          "output_type": "execute_result",
          "data": {
            "text/plain": [
              "Gender               13\n",
              "Married               3\n",
              "Dependents           15\n",
              "Education             0\n",
              "Self_Employed        32\n",
              "ApplicantIncome       0\n",
              "CoapplicantIncome     0\n",
              "LoanAmount           22\n",
              "Loan_Amount_Term     14\n",
              "Credit_History       50\n",
              "Property_Area         0\n",
              "Loan_Status           0\n",
              "dtype: int64"
            ]
          },
          "metadata": {},
          "execution_count": 247
        }
      ]
    },
    {
      "cell_type": "markdown",
      "source": [
        ""
      ],
      "metadata": {
        "id": "y0PkvYKQLCXF"
      }
    },
    {
      "cell_type": "code",
      "source": [
        "cat=df.select_dtypes(include=object).columns\n",
        "num= df.select_dtypes(include=np.number).columns"
      ],
      "metadata": {
        "id": "S3ohg_FGKzfk"
      },
      "execution_count": null,
      "outputs": []
    },
    {
      "cell_type": "code",
      "source": [
        "cat"
      ],
      "metadata": {
        "colab": {
          "base_uri": "https://localhost:8080/"
        },
        "id": "Ni1eeQZ3JpqB",
        "outputId": "e3b238ee-7c45-43c3-9439-d8f1107d174b"
      },
      "execution_count": null,
      "outputs": [
        {
          "output_type": "execute_result",
          "data": {
            "text/plain": [
              "Index(['Gender', 'Married', 'Dependents', 'Education', 'Self_Employed',\n",
              "       'Property_Area', 'Loan_Status'],\n",
              "      dtype='object')"
            ]
          },
          "metadata": {},
          "execution_count": 249
        }
      ]
    },
    {
      "cell_type": "code",
      "source": [
        "cat_missing = [x for x in cat if isna[x]>0]\n",
        "cat_missing"
      ],
      "metadata": {
        "colab": {
          "base_uri": "https://localhost:8080/"
        },
        "id": "NCP_JmvTMEJ9",
        "outputId": "60d2c6e5-2daa-4944-f8b7-9a3b3968c3ef"
      },
      "execution_count": null,
      "outputs": [
        {
          "output_type": "execute_result",
          "data": {
            "text/plain": [
              "['Gender', 'Married', 'Dependents', 'Self_Employed']"
            ]
          },
          "metadata": {},
          "execution_count": 250
        }
      ]
    },
    {
      "cell_type": "code",
      "source": [
        "num_m = [x for x in num if isna[x]>0]\n",
        "num_m"
      ],
      "metadata": {
        "colab": {
          "base_uri": "https://localhost:8080/"
        },
        "id": "3BfD4TZXazx7",
        "outputId": "6f41b5bf-df91-4591-d943-7f0092d4fb2c"
      },
      "execution_count": null,
      "outputs": [
        {
          "output_type": "execute_result",
          "data": {
            "text/plain": [
              "['LoanAmount', 'Loan_Amount_Term', 'Credit_History']"
            ]
          },
          "metadata": {},
          "execution_count": 251
        }
      ]
    },
    {
      "cell_type": "markdown",
      "source": [
        "treating misssing values"
      ],
      "metadata": {
        "id": "qXpRhGYIbjsX"
      }
    },
    {
      "cell_type": "code",
      "source": [
        "for x in num_m:\n",
        "  df[x]=df[x].fillna(df[x].mean( ))"
      ],
      "metadata": {
        "id": "JAUfzzDlbbvF"
      },
      "execution_count": null,
      "outputs": []
    },
    {
      "cell_type": "code",
      "source": [
        "for c in cat_missing:\n",
        "  df[c]=df[c].fillna(df[c].mode()[0])"
      ],
      "metadata": {
        "id": "LRnLpJbcb0Bg"
      },
      "execution_count": null,
      "outputs": []
    },
    {
      "cell_type": "code",
      "source": [
        "df.isna().any().sum()"
      ],
      "metadata": {
        "colab": {
          "base_uri": "https://localhost:8080/"
        },
        "id": "EpUO__Abb7B1",
        "outputId": "98a43f67-dda7-43d1-ec93-d0b25934896d"
      },
      "execution_count": null,
      "outputs": [
        {
          "output_type": "execute_result",
          "data": {
            "text/plain": [
              "0"
            ]
          },
          "metadata": {},
          "execution_count": 254
        }
      ]
    },
    {
      "cell_type": "markdown",
      "source": [
        "# Exploratory Data Analysis"
      ],
      "metadata": {
        "id": "h47bkLFRfb4M"
      }
    },
    {
      "cell_type": "code",
      "source": [
        "\n",
        "i=0\n",
        "for x in cat:\n",
        "  if x=='Loan_ID':\n",
        "    continue\n",
        "  i+=1\n",
        "  plt.figure()\n",
        "  sns.countplot(df[x])"
      ],
      "metadata": {
        "colab": {
          "base_uri": "https://localhost:8080/"
        },
        "id": "plGsn4nlcFqB",
        "outputId": "b2ea2409-c0b5-4dce-a7dd-5849a98685bb"
      },
      "execution_count": null,
      "outputs": [
        {
          "output_type": "stream",
          "name": "stderr",
          "text": [
            "/usr/local/lib/python3.7/dist-packages/seaborn/_decorators.py:43: FutureWarning: Pass the following variable as a keyword arg: x. From version 0.12, the only valid positional argument will be `data`, and passing other arguments without an explicit keyword will result in an error or misinterpretation.\n",
            "  FutureWarning\n",
            "/usr/local/lib/python3.7/dist-packages/seaborn/_decorators.py:43: FutureWarning: Pass the following variable as a keyword arg: x. From version 0.12, the only valid positional argument will be `data`, and passing other arguments without an explicit keyword will result in an error or misinterpretation.\n",
            "  FutureWarning\n",
            "/usr/local/lib/python3.7/dist-packages/seaborn/_decorators.py:43: FutureWarning: Pass the following variable as a keyword arg: x. From version 0.12, the only valid positional argument will be `data`, and passing other arguments without an explicit keyword will result in an error or misinterpretation.\n",
            "  FutureWarning\n",
            "/usr/local/lib/python3.7/dist-packages/seaborn/_decorators.py:43: FutureWarning: Pass the following variable as a keyword arg: x. From version 0.12, the only valid positional argument will be `data`, and passing other arguments without an explicit keyword will result in an error or misinterpretation.\n",
            "  FutureWarning\n",
            "/usr/local/lib/python3.7/dist-packages/seaborn/_decorators.py:43: FutureWarning: Pass the following variable as a keyword arg: x. From version 0.12, the only valid positional argument will be `data`, and passing other arguments without an explicit keyword will result in an error or misinterpretation.\n",
            "  FutureWarning\n",
            "/usr/local/lib/python3.7/dist-packages/seaborn/_decorators.py:43: FutureWarning: Pass the following variable as a keyword arg: x. From version 0.12, the only valid positional argument will be `data`, and passing other arguments without an explicit keyword will result in an error or misinterpretation.\n",
            "  FutureWarning\n",
            "/usr/local/lib/python3.7/dist-packages/seaborn/_decorators.py:43: FutureWarning: Pass the following variable as a keyword arg: x. From version 0.12, the only valid positional argument will be `data`, and passing other arguments without an explicit keyword will result in an error or misinterpretation.\n",
            "  FutureWarning\n"
          ]
        },
        {
          "output_type": "display_data",
          "data": {
            "text/plain": [
              "<Figure size 432x288 with 1 Axes>"
            ],
            "image/png": "[encoded data removed]"
          },
          "metadata": {
            "needs_background": "light"
          }
        },
        {
          "output_type": "display_data",
          "data": {
            "text/plain": [
              "<Figure size 432x288 with 1 Axes>"
            ],
            "image/png": "[encoded data removed]"
          },
          "metadata": {
            "needs_background": "light"
          }
        },
        {
          "output_type": "display_data",
          "data": {
            "text/plain": [
              "<Figure size 432x288 with 1 Axes>"
            ],
            "image/png": "[encoded data removed]"
          },
          "metadata": {
            "needs_background": "light"
          }
        },
        {
          "output_type": "display_data",
          "data": {
            "text/plain": [
              "<Figure size 432x288 with 1 Axes>"
            ],
            "image/png": "[encoded data removed]"
          },
          "metadata": {
            "needs_background": "light"
          }
        },
        {
          "output_type": "display_data",
          "data": {
            "text/plain": [
              "<Figure size 432x288 with 1 Axes>"
            ],
            "image/png": "[encoded data removed]"
          },
          "metadata": {
            "needs_background": "light"
          }
        },
        {
          "output_type": "display_data",
          "data": {
            "text/plain": [
              "<Figure size 432x288 with 1 Axes>"
            ],
            "image/png": "[encoded data removed]"
          },
          "metadata": {
            "needs_background": "light"
          }
        },
        {
          "output_type": "display_data",
          "data": {
            "text/plain": [
              "<Figure size 432x288 with 1 Axes>"
            ],
            "image/png": "[encoded data removed]"
          },
          "metadata": {
            "needs_background": "light"
          }
        }
      ]
    },
    {
      "cell_type": "code",
      "source": [
        "i=0\n",
        "for x in num:\n",
        "  i+=1\n",
        "  plt.figure()\n",
        "  sns.distplot(df[x])"
      ],
      "metadata": {
        "colab": {
          "base_uri": "https://localhost:8080/"
        },
        "id": "9BQxDsFOhuwj",
        "outputId": "b0d2ec15-3d57-428b-8cac-694176fae651"
      },
      "execution_count": null,
      "outputs": [
        {
          "output_type": "stream",
          "name": "stderr",
          "text": [
            "/usr/local/lib/python3.7/dist-packages/seaborn/distributions.py:2619: FutureWarning: `distplot` is a deprecated function and will be removed in a future version. Please adapt your code to use either `displot` (a figure-level function with similar flexibility) or `histplot` (an axes-level function for histograms).\n",
            "  warnings.warn(msg, FutureWarning)\n",
            "/usr/local/lib/python3.7/dist-packages/seaborn/distributions.py:2619: FutureWarning: `distplot` is a deprecated function and will be removed in a future version. Please adapt your code to use either `displot` (a figure-level function with similar flexibility) or `histplot` (an axes-level function for histograms).\n",
            "  warnings.warn(msg, FutureWarning)\n",
            "/usr/local/lib/python3.7/dist-packages/seaborn/distributions.py:2619: FutureWarning: `distplot` is a deprecated function and will be removed in a future version. Please adapt your code to use either `displot` (a figure-level function with similar flexibility) or `histplot` (an axes-level function for histograms).\n",
            "  warnings.warn(msg, FutureWarning)\n",
            "/usr/local/lib/python3.7/dist-packages/seaborn/distributions.py:2619: FutureWarning: `distplot` is a deprecated function and will be removed in a future version. Please adapt your code to use either `displot` (a figure-level function with similar flexibility) or `histplot` (an axes-level function for histograms).\n",
            "  warnings.warn(msg, FutureWarning)\n",
            "/usr/local/lib/python3.7/dist-packages/seaborn/distributions.py:2619: FutureWarning: `distplot` is a deprecated function and will be removed in a future version. Please adapt your code to use either `displot` (a figure-level function with similar flexibility) or `histplot` (an axes-level function for histograms).\n",
            "  warnings.warn(msg, FutureWarning)\n"
          ]
        },
        {
          "output_type": "display_data",
          "data": {
            "text/plain": [
              "<Figure size 432x288 with 1 Axes>"
            ],
            "image/png": "[encoded data removed]"
          },
          "metadata": {
            "needs_background": "light"
          }
        },
        {
          "output_type": "display_data",
          "data": {
            "text/plain": [
              "<Figure size 432x288 with 1 Axes>"
            ],
            "image/png": "[encoded data removed]"
          },
          "metadata": {
            "needs_background": "light"
          }
        },
        {
          "output_type": "display_data",
          "data": {
            "text/plain": [
              "<Figure size 432x288 with 1 Axes>"
            ],
            "image/png": "[encoded data removed]"
          },
          "metadata": {
            "needs_background": "light"
          }
        },
        {
          "output_type": "display_data",
          "data": {
            "text/plain": [
              "<Figure size 432x288 with 1 Axes>"
            ],
            "image/png": "[encoded data removed]"
          },
          "metadata": {
            "needs_background": "light"
          }
        },
        {
          "output_type": "display_data",
          "data": {
            "text/plain": [
              "<Figure size 432x288 with 1 Axes>"
            ],
            "image/png": "[encoded data removed]"
          },
          "metadata": {
            "needs_background": "light"
          }
        }
      ]
    },
    {
      "cell_type": "markdown",
      "source": [
        "# Coorelation Matrix"
      ],
      "metadata": {
        "id": "YQObTzk8XhvD"
      }
    },
    {
      "cell_type": "code",
      "source": [
        "corr = df.corr()\n",
        "plt.figure(figsize = (7,5))\n",
        "sns.heatmap(corr, annot = True , cmap = \"BuPu\")"
      ],
      "metadata": {
        "colab": {
          "base_uri": "https://localhost:8080/",
          "height": 429
        },
        "id": "zyducDB7YBbP",
        "outputId": "bcffddba-7677-4f02-ae25-90a48f10951e"
      },
      "execution_count": null,
      "outputs": [
        {
          "output_type": "execute_result",
          "data": {
            "text/plain": [
              "<matplotlib.axes._subplots.AxesSubplot at 0x7feafb041d10>"
            ]
          },
          "metadata": {},
          "execution_count": 257
        },
        {
          "output_type": "display_data",
          "data": {
            "text/plain": [
              "<Figure size 504x360 with 2 Axes>"
            ],
            "image/png": "[encoded data removed]"
          },
          "metadata": {
            "needs_background": "light"
          }
        }
      ]
    },
    {
      "cell_type": "code",
      "source": [
        "y=df['Loan_Status']\n",
        "x=df.drop('Loan_Status',axis=1)\n",
        "cat=x.select_dtypes(include=object).columns"
      ],
      "metadata": {
        "id": "KRPzGOQ_upXi"
      },
      "execution_count": null,
      "outputs": []
    },
    {
      "cell_type": "markdown",
      "source": [
        "# converting categorical variables into numerics"
      ],
      "metadata": {
        "id": "yr70aqu4Ysam"
      }
    },
    {
      "cell_type": "code",
      "source": [
        "\n",
        "from sklearn.preprocessing import OneHotEncoder\n",
        "from sklearn.compose import ColumnTransformer\n",
        "\n",
        "columnTransformer = ColumnTransformer([('encoder', OneHotEncoder(drop='first'), cat)], remainder='passthrough')\n",
        "data = columnTransformer.fit_transform(x)\n",
        "column_name = columnTransformer.get_feature_names()\n",
        "data1 =  pd.DataFrame(data, columns= column_name)\n",
        "data1.head(2)"
      ],
      "metadata": {
        "colab": {
          "base_uri": "https://localhost:8080/",
          "height": 230
        },
        "id": "v9de7YmeY7bl",
        "outputId": "65aa2e70-a590-4484-c6de-1b4cc4007c73"
      },
      "execution_count": null,
      "outputs": [
        {
          "output_type": "stream",
          "name": "stderr",
          "text": [
            "/usr/local/lib/python3.7/dist-packages/sklearn/utils/deprecation.py:87: FutureWarning: Function get_feature_names is deprecated; get_feature_names is deprecated in 1.0 and will be removed in 1.2. Please use get_feature_names_out instead.\n",
            "  warnings.warn(msg, category=FutureWarning)\n"
          ]
        },
        {
          "output_type": "execute_result",
          "data": {
            "text/plain": [
              "   encoder__x0_Male  encoder__x1_Yes  encoder__x2_1  encoder__x2_2  encoder__x2_3+  encoder__x3_Not Graduate  encoder__x4_Yes  encoder__x5_Semiurban  encoder__x5_Urban  ApplicantIncome  CoapplicantIncome  LoanAmount  Loan_Amount_Term  Credit_History\n",
              "0               1.0              0.0            0.0            0.0             0.0                       0.0              0.0                    0.0                1.0           5849.0                0.0  146.412162             360.0             1.0\n",
              "1               1.0              1.0            1.0            0.0             0.0                       0.0              0.0                    0.0                0.0           4583.0             1508.0  128.000000             360.0             1.0"
            ],
            "text/html": [
              "\n",
              "  <div id=\"df-487fdf84-777a-4e5c-a589-1f55f70ef4cb\">\n",
              "    <div class=\"colab-df-container\">\n",
              "      <div>\n",
              "<style scoped>\n",
              "    .dataframe tbody tr th:only-of-type {\n",
              "        vertical-align: middle;\n",
              "    }\n",
              "\n",
              "    .dataframe tbody tr th {\n",
              "        vertical-align: top;\n",
              "    }\n",
              "\n",
              "    .dataframe thead th {\n",
              "        text-align: right;\n",
              "    }\n",
              "</style>\n",
              "<table border=\"1\" class=\"dataframe\">\n",
              "  <thead>\n",
              "    <tr style=\"text-align: right;\">\n",
              "      <th></th>\n",
              "      <th>encoder__x0_Male</th>\n",
              "      <th>encoder__x1_Yes</th>\n",
              "      <th>encoder__x2_1</th>\n",
              "      <th>encoder__x2_2</th>\n",
              "      <th>encoder__x2_3+</th>\n",
              "      <th>encoder__x3_Not Graduate</th>\n",
              "      <th>encoder__x4_Yes</th>\n",
              "      <th>encoder__x5_Semiurban</th>\n",
              "      <th>encoder__x5_Urban</th>\n",
              "      <th>ApplicantIncome</th>\n",
              "      <th>CoapplicantIncome</th>\n",
              "      <th>LoanAmount</th>\n",
              "      <th>Loan_Amount_Term</th>\n",
              "      <th>Credit_History</th>\n",
              "    </tr>\n",
              "  </thead>\n",
              "  <tbody>\n",
              "    <tr>\n",
              "      <th>0</th>\n",
              "      <td>1.0</td>\n",
              "      <td>0.0</td>\n",
              "      <td>0.0</td>\n",
              "      <td>0.0</td>\n",
              "      <td>0.0</td>\n",
              "      <td>0.0</td>\n",
              "      <td>0.0</td>\n",
              "      <td>0.0</td>\n",
              "      <td>1.0</td>\n",
              "      <td>5849.0</td>\n",
              "      <td>0.0</td>\n",
              "      <td>146.412162</td>\n",
              "      <td>360.0</td>\n",
              "      <td>1.0</td>\n",
              "    </tr>\n",
              "    <tr>\n",
              "      <th>1</th>\n",
              "      <td>1.0</td>\n",
              "      <td>1.0</td>\n",
              "      <td>1.0</td>\n",
              "      <td>0.0</td>\n",
              "      <td>0.0</td>\n",
              "      <td>0.0</td>\n",
              "      <td>0.0</td>\n",
              "      <td>0.0</td>\n",
              "      <td>0.0</td>\n",
              "      <td>4583.0</td>\n",
              "      <td>1508.0</td>\n",
              "      <td>128.000000</td>\n",
              "      <td>360.0</td>\n",
              "      <td>1.0</td>\n",
              "    </tr>\n",
              "  </tbody>\n",
              "</table>\n",
              "</div>\n",
              "      <button class=\"colab-df-convert\" onclick=\"convertToInteractive('df-487fdf84-777a-4e5c-a589-1f55f70ef4cb')\"\n",
              "              title=\"Convert this dataframe to an interactive table.\"\n",
              "              style=\"display:none;\">\n",
              "        \n",
              "  <svg xmlns=\"http://www.w3.org/2000/svg\" height=\"24px\"viewBox=\"0 0 24 24\"\n",
              "       width=\"24px\">\n",
              "    <path d=\"M0 0h24v24H0V0z\" fill=\"none\"/>\n",
              "    <path d=\"M18.56 5.44l.94 2.06.94-2.06 2.06-.94-2.06-.94-.94-2.06-.94 2.06-2.06.94zm-11 1L8.5 8.5l.94-2.06 2.06-.94-2.06-.94L8.5 2.5l-.94 2.06-2.06.94zm10 10l.94 2.06.94-2.06 2.06-.94-2.06-.94-.94-2.06-.94 2.06-2.06.94z\"/><path d=\"M17.41 7.96l-1.37-1.37c-.4-.4-.92-.59-1.43-.59-.52 0-1.04.2-1.43.59L10.3 9.45l-7.72 7.72c-.78.78-.78 2.05 0 2.83L4 21.41c.39.39.9.59 1.41.59.51 0 1.02-.2 1.41-.59l7.78-7.78 2.81-2.81c.8-.78.8-2.07 0-2.86zM5.41 20L4 18.59l7.72-7.72 1.47 1.35L5.41 20z\"/>\n",
              "  </svg>\n",
              "      </button>\n",
              "      \n",
              "  <style>\n",
              "    .colab-df-container {\n",
              "      display:flex;\n",
              "      flex-wrap:wrap;\n",
              "      gap: 12px;\n",
              "    }\n",
              "\n",
              "    .colab-df-convert {\n",
              "      background-color: #E8F0FE;\n",
              "      border: none;\n",
              "      border-radius: 50%;\n",
              "      cursor: pointer;\n",
              "      display: none;\n",
              "      fill: #1967D2;\n",
              "      height: 32px;\n",
              "      padding: 0 0 0 0;\n",
              "      width: 32px;\n",
              "    }\n",
              "\n",
              "    .colab-df-convert:hover {\n",
              "      background-color: #E2EBFA;\n",
              "      box-shadow: 0px 1px 2px rgba(60, 64, 67, 0.3), 0px 1px 3px 1px rgba(60, 64, 67, 0.15);\n",
              "      fill: #174EA6;\n",
              "    }\n",
              "\n",
              "    [theme=dark] .colab-df-convert {\n",
              "      background-color: #3B4455;\n",
              "      fill: #D2E3FC;\n",
              "    }\n",
              "\n",
              "    [theme=dark] .colab-df-convert:hover {\n",
              "      background-color: #434B5C;\n",
              "      box-shadow: 0px 1px 3px 1px rgba(0, 0, 0, 0.15);\n",
              "      filter: drop-shadow(0px 1px 2px rgba(0, 0, 0, 0.3));\n",
              "      fill: #FFFFFF;\n",
              "    }\n",
              "  </style>\n",
              "\n",
              "      <script>\n",
              "        const buttonEl =\n",
              "          document.querySelector('#df-487fdf84-777a-4e5c-a589-1f55f70ef4cb button.colab-df-convert');\n",
              "        buttonEl.style.display =\n",
              "          google.colab.kernel.accessAllowed ? 'block' : 'none';\n",
              "\n",
              "        async function convertToInteractive(key) {\n",
              "          const element = document.querySelector('#df-487fdf84-777a-4e5c-a589-1f55f70ef4cb');\n",
              "          const dataTable =\n",
              "            await google.colab.kernel.invokeFunction('convertToInteractive',\n",
              "                                                     [key], {});\n",
              "          if (!dataTable) return;\n",
              "\n",
              "          const docLinkHtml = 'Like what you see? Visit the ' +\n",
              "            '<a target=\"_blank\" href=https://colab.research.google.com/notebooks/data_table.ipynb>data table notebook</a>'\n",
              "            + ' to learn more about interactive tables.';\n",
              "          element.innerHTML = '';\n",
              "          dataTable['output_type'] = 'display_data';\n",
              "          await google.colab.output.renderOutput(dataTable, element);\n",
              "          const docLink = document.createElement('div');\n",
              "          docLink.innerHTML = docLinkHtml;\n",
              "          element.appendChild(docLink);\n",
              "        }\n",
              "      </script>\n",
              "    </div>\n",
              "  </div>\n",
              "  "
            ]
          },
          "metadata": {},
          "execution_count": 259
        }
      ]
    },
    {
      "cell_type": "markdown",
      "source": [
        "# scaling the data now (for numeric features)"
      ],
      "metadata": {
        "id": "nbjw9raawYCc"
      }
    },
    {
      "cell_type": "code",
      "source": [
        "from sklearn.preprocessing import StandardScaler\n",
        "sub = data1[num]\n",
        "scaler = StandardScaler()\n",
        "X = pd.DataFrame(scaler.fit_transform(sub), columns=sub.columns)"
      ],
      "metadata": {
        "id": "R-mm_Dy_1lhR"
      },
      "execution_count": null,
      "outputs": []
    },
    {
      "cell_type": "code",
      "source": [
        "data1 =data1.drop(num,axis =1)\n",
        "data2 =  pd.concat([data1, X], axis=1)\n",
        "data2.head(3)"
      ],
      "metadata": {
        "colab": {
          "base_uri": "https://localhost:8080/",
          "height": 276
        },
        "id": "BBkWa2Ap7PYp",
        "outputId": "6882f076-8086-4ff5-cbaf-8fa69295a378"
      },
      "execution_count": null,
      "outputs": [
        {
          "output_type": "execute_result",
          "data": {
            "text/plain": [
              "   encoder__x0_Male  encoder__x1_Yes  encoder__x2_1  encoder__x2_2  encoder__x2_3+  encoder__x3_Not Graduate  encoder__x4_Yes  encoder__x5_Semiurban  encoder__x5_Urban  ApplicantIncome  CoapplicantIncome    LoanAmount  Loan_Amount_Term  Credit_History\n",
              "0               1.0              0.0            0.0            0.0             0.0                       0.0              0.0                    0.0                1.0         0.072991          -0.554487  3.384786e-16          0.279851         0.45164\n",
              "1               1.0              1.0            1.0            0.0             0.0                       0.0              0.0                    0.0                0.0        -0.134412          -0.038732 -2.192733e-01          0.279851         0.45164\n",
              "2               1.0              1.0            0.0            0.0             0.0                       0.0              1.0                    0.0                1.0        -0.393747          -0.554487 -9.576410e-01          0.279851         0.45164"
            ],
            "text/html": [
              "\n",
              "  <div id=\"df-b30c15e4-2431-4a4f-88bc-834751278dc7\">\n",
              "    <div class=\"colab-df-container\">\n",
              "      <div>\n",
              "<style scoped>\n",
              "    .dataframe tbody tr th:only-of-type {\n",
              "        vertical-align: middle;\n",
              "    }\n",
              "\n",
              "    .dataframe tbody tr th {\n",
              "        vertical-align: top;\n",
              "    }\n",
              "\n",
              "    .dataframe thead th {\n",
              "        text-align: right;\n",
              "    }\n",
              "</style>\n",
              "<table border=\"1\" class=\"dataframe\">\n",
              "  <thead>\n",
              "    <tr style=\"text-align: right;\">\n",
              "      <th></th>\n",
              "      <th>encoder__x0_Male</th>\n",
              "      <th>encoder__x1_Yes</th>\n",
              "      <th>encoder__x2_1</th>\n",
              "      <th>encoder__x2_2</th>\n",
              "      <th>encoder__x2_3+</th>\n",
              "      <th>encoder__x3_Not Graduate</th>\n",
              "      <th>encoder__x4_Yes</th>\n",
              "      <th>encoder__x5_Semiurban</th>\n",
              "      <th>encoder__x5_Urban</th>\n",
              "      <th>ApplicantIncome</th>\n",
              "      <th>CoapplicantIncome</th>\n",
              "      <th>LoanAmount</th>\n",
              "      <th>Loan_Amount_Term</th>\n",
              "      <th>Credit_History</th>\n",
              "    </tr>\n",
              "  </thead>\n",
              "  <tbody>\n",
              "    <tr>\n",
              "      <th>0</th>\n",
              "      <td>1.0</td>\n",
              "      <td>0.0</td>\n",
              "      <td>0.0</td>\n",
              "      <td>0.0</td>\n",
              "      <td>0.0</td>\n",
              "      <td>0.0</td>\n",
              "      <td>0.0</td>\n",
              "      <td>0.0</td>\n",
              "      <td>1.0</td>\n",
              "      <td>0.072991</td>\n",
              "      <td>-0.554487</td>\n",
              "      <td>3.384786e-16</td>\n",
              "      <td>0.279851</td>\n",
              "      <td>0.45164</td>\n",
              "    </tr>\n",
              "    <tr>\n",
              "      <th>1</th>\n",
              "      <td>1.0</td>\n",
              "      <td>1.0</td>\n",
              "      <td>1.0</td>\n",
              "      <td>0.0</td>\n",
              "      <td>0.0</td>\n",
              "      <td>0.0</td>\n",
              "      <td>0.0</td>\n",
              "      <td>0.0</td>\n",
              "      <td>0.0</td>\n",
              "      <td>-0.134412</td>\n",
              "      <td>-0.038732</td>\n",
              "      <td>-2.192733e-01</td>\n",
              "      <td>0.279851</td>\n",
              "      <td>0.45164</td>\n",
              "    </tr>\n",
              "    <tr>\n",
              "      <th>2</th>\n",
              "      <td>1.0</td>\n",
              "      <td>1.0</td>\n",
              "      <td>0.0</td>\n",
              "      <td>0.0</td>\n",
              "      <td>0.0</td>\n",
              "      <td>0.0</td>\n",
              "      <td>1.0</td>\n",
              "      <td>0.0</td>\n",
              "      <td>1.0</td>\n",
              "      <td>-0.393747</td>\n",
              "      <td>-0.554487</td>\n",
              "      <td>-9.576410e-01</td>\n",
              "      <td>0.279851</td>\n",
              "      <td>0.45164</td>\n",
              "    </tr>\n",
              "  </tbody>\n",
              "</table>\n",
              "</div>\n",
              "      <button class=\"colab-df-convert\" onclick=\"convertToInteractive('df-b30c15e4-2431-4a4f-88bc-834751278dc7')\"\n",
              "              title=\"Convert this dataframe to an interactive table.\"\n",
              "              style=\"display:none;\">\n",
              "        \n",
              "  <svg xmlns=\"http://www.w3.org/2000/svg\" height=\"24px\"viewBox=\"0 0 24 24\"\n",
              "       width=\"24px\">\n",
              "    <path d=\"M0 0h24v24H0V0z\" fill=\"none\"/>\n",
              "    <path d=\"M18.56 5.44l.94 2.06.94-2.06 2.06-.94-2.06-.94-.94-2.06-.94 2.06-2.06.94zm-11 1L8.5 8.5l.94-2.06 2.06-.94-2.06-.94L8.5 2.5l-.94 2.06-2.06.94zm10 10l.94 2.06.94-2.06 2.06-.94-2.06-.94-.94-2.06-.94 2.06-2.06.94z\"/><path d=\"M17.41 7.96l-1.37-1.37c-.4-.4-.92-.59-1.43-.59-.52 0-1.04.2-1.43.59L10.3 9.45l-7.72 7.72c-.78.78-.78 2.05 0 2.83L4 21.41c.39.39.9.59 1.41.59.51 0 1.02-.2 1.41-.59l7.78-7.78 2.81-2.81c.8-.78.8-2.07 0-2.86zM5.41 20L4 18.59l7.72-7.72 1.47 1.35L5.41 20z\"/>\n",
              "  </svg>\n",
              "      </button>\n",
              "      \n",
              "  <style>\n",
              "    .colab-df-container {\n",
              "      display:flex;\n",
              "      flex-wrap:wrap;\n",
              "      gap: 12px;\n",
              "    }\n",
              "\n",
              "    .colab-df-convert {\n",
              "      background-color: #E8F0FE;\n",
              "      border: none;\n",
              "      border-radius: 50%;\n",
              "      cursor: pointer;\n",
              "      display: none;\n",
              "      fill: #1967D2;\n",
              "      height: 32px;\n",
              "      padding: 0 0 0 0;\n",
              "      width: 32px;\n",
              "    }\n",
              "\n",
              "    .colab-df-convert:hover {\n",
              "      background-color: #E2EBFA;\n",
              "      box-shadow: 0px 1px 2px rgba(60, 64, 67, 0.3), 0px 1px 3px 1px rgba(60, 64, 67, 0.15);\n",
              "      fill: #174EA6;\n",
              "    }\n",
              "\n",
              "    [theme=dark] .colab-df-convert {\n",
              "      background-color: #3B4455;\n",
              "      fill: #D2E3FC;\n",
              "    }\n",
              "\n",
              "    [theme=dark] .colab-df-convert:hover {\n",
              "      background-color: #434B5C;\n",
              "      box-shadow: 0px 1px 3px 1px rgba(0, 0, 0, 0.15);\n",
              "      filter: drop-shadow(0px 1px 2px rgba(0, 0, 0, 0.3));\n",
              "      fill: #FFFFFF;\n",
              "    }\n",
              "  </style>\n",
              "\n",
              "      <script>\n",
              "        const buttonEl =\n",
              "          document.querySelector('#df-b30c15e4-2431-4a4f-88bc-834751278dc7 button.colab-df-convert');\n",
              "        buttonEl.style.display =\n",
              "          google.colab.kernel.accessAllowed ? 'block' : 'none';\n",
              "\n",
              "        async function convertToInteractive(key) {\n",
              "          const element = document.querySelector('#df-b30c15e4-2431-4a4f-88bc-834751278dc7');\n",
              "          const dataTable =\n",
              "            await google.colab.kernel.invokeFunction('convertToInteractive',\n",
              "                                                     [key], {});\n",
              "          if (!dataTable) return;\n",
              "\n",
              "          const docLinkHtml = 'Like what you see? Visit the ' +\n",
              "            '<a target=\"_blank\" href=https://colab.research.google.com/notebooks/data_table.ipynb>data table notebook</a>'\n",
              "            + ' to learn more about interactive tables.';\n",
              "          element.innerHTML = '';\n",
              "          dataTable['output_type'] = 'display_data';\n",
              "          await google.colab.output.renderOutput(dataTable, element);\n",
              "          const docLink = document.createElement('div');\n",
              "          docLink.innerHTML = docLinkHtml;\n",
              "          element.appendChild(docLink);\n",
              "        }\n",
              "      </script>\n",
              "    </div>\n",
              "  </div>\n",
              "  "
            ]
          },
          "metadata": {},
          "execution_count": 261
        }
      ]
    },
    {
      "cell_type": "markdown",
      "source": [
        "# Train-Test Split"
      ],
      "metadata": {
        "id": "0dusmCXg-FHz"
      }
    },
    {
      "cell_type": "code",
      "source": [
        "from sklearn.model_selection import train_test_split\n",
        "x_train, x_test, y_train, y_test = train_test_split(data2, y, test_size=0.25, random_state=42)"
      ],
      "metadata": {
        "id": "9uw9gvG2-Ox6"
      },
      "execution_count": null,
      "outputs": []
    },
    {
      "cell_type": "markdown",
      "source": [
        " # Model selection using grid search"
      ],
      "metadata": {
        "id": "nSPSv0LeAGzN"
      }
    },
    {
      "cell_type": "code",
      "source": [
        "from sklearn import svm\n",
        "from sklearn.ensemble import RandomForestClassifier\n",
        "from sklearn.linear_model import LogisticRegression"
      ],
      "metadata": {
        "id": "CNAcmbAx6rW6"
      },
      "execution_count": null,
      "outputs": []
    },
    {
      "cell_type": "code",
      "source": [
        "model_params = {\n",
        "    'svm': {\n",
        "        'model': svm.SVC(gamma='auto'),\n",
        "        'params' : {\n",
        "            'C': [0.001,0.01,0.1],\n",
        "            'kernel': ['rbf','linear']\n",
        "        }  \n",
        "    },\n",
        "    'random_forest': {\n",
        "        'model': RandomForestClassifier(),\n",
        "        'params' : {\n",
        "        \n",
        "            'max_features': ['auto', 'sqrt'],\n",
        "            \n",
        "            'n_estimators': [50,60,70,85]\n",
        "        }\n",
        "    },\n",
        "    'logistic_regression' : {\n",
        "        'model': LogisticRegression(),\n",
        "        'params': {\n",
        "            'C': [ 1e-2, 1e-1, 1],\n",
        "            'solver': [ 'lbfgs', 'liblinear'],\n",
        "            'penalty':['l1', 'l2', 'elasticnet']\n",
        "        }\n",
        "    }\n",
        "}"
      ],
      "metadata": {
        "id": "LjV_n6tTZhze"
      },
      "execution_count": null,
      "outputs": []
    },
    {
      "cell_type": "code",
      "source": [
        "from sklearn.model_selection import RepeatedStratifiedKFold\n",
        "from sklearn.model_selection import GridSearchCV\n",
        "scores = []\n",
        "cv = RepeatedStratifiedKFold(n_splits=5, n_repeats=3, random_state=1)\n",
        "\n",
        "for model_name, mp in model_params.items():\n",
        "    clf =  GridSearchCV(mp['model'], mp['params'], cv=cv, return_train_score=False,scoring='roc_auc',n_jobs=-1)\n",
        "    clf.fit(data2, y)\n",
        "    scores.append({\n",
        "        'model': model_name,\n",
        "        'best_score': clf.best_score_,\n",
        "        'best_params': clf.best_params_\n",
        "    })\n",
        "    \n",
        "df = pd.DataFrame(scores,columns=['model','best_score','best_params'])\n",
        "df"
      ],
      "metadata": {
        "colab": {
          "base_uri": "https://localhost:8080/",
          "height": 967
        },
        "id": "qAYX9_8kjvl5",
        "outputId": "8ff33b91-0e3d-40c0-911a-bfa986f683ca"
      },
      "execution_count": null,
      "outputs": [
        {
          "output_type": "stream",
          "name": "stderr",
          "text": [
            "/usr/local/lib/python3.7/dist-packages/sklearn/model_selection/_validation.py:372: FitFailedWarning: \n",
            "135 fits failed out of a total of 270.\n",
            "The score on these train-test partitions for these parameters will be set to nan.\n",
            "If these failures are not expected, you can try to debug them by setting error_score='raise'.\n",
            "\n",
            "Below are more details about the failures:\n",
            "--------------------------------------------------------------------------------\n",
            "45 fits failed with the following error:\n",
            "Traceback (most recent call last):\n",
            "  File \"/usr/local/lib/python3.7/dist-packages/sklearn/model_selection/_validation.py\", line 680, in _fit_and_score\n",
            "    estimator.fit(X_train, y_train, **fit_params)\n",
            "  File \"/usr/local/lib/python3.7/dist-packages/sklearn/linear_model/_logistic.py\", line 1461, in fit\n",
            "    solver = _check_solver(self.solver, self.penalty, self.dual)\n",
            "  File \"/usr/local/lib/python3.7/dist-packages/sklearn/linear_model/_logistic.py\", line 449, in _check_solver\n",
            "    % (solver, penalty)\n",
            "ValueError: Solver lbfgs supports only 'l2' or 'none' penalties, got l1 penalty.\n",
            "\n",
            "--------------------------------------------------------------------------------\n",
            "45 fits failed with the following error:\n",
            "Traceback (most recent call last):\n",
            "  File \"/usr/local/lib/python3.7/dist-packages/sklearn/model_selection/_validation.py\", line 680, in _fit_and_score\n",
            "    estimator.fit(X_train, y_train, **fit_params)\n",
            "  File \"/usr/local/lib/python3.7/dist-packages/sklearn/linear_model/_logistic.py\", line 1461, in fit\n",
            "    solver = _check_solver(self.solver, self.penalty, self.dual)\n",
            "  File \"/usr/local/lib/python3.7/dist-packages/sklearn/linear_model/_logistic.py\", line 449, in _check_solver\n",
            "    % (solver, penalty)\n",
            "ValueError: Solver lbfgs supports only 'l2' or 'none' penalties, got elasticnet penalty.\n",
            "\n",
            "--------------------------------------------------------------------------------\n",
            "45 fits failed with the following error:\n",
            "Traceback (most recent call last):\n",
            "  File \"/usr/local/lib/python3.7/dist-packages/sklearn/model_selection/_validation.py\", line 680, in _fit_and_score\n",
            "    estimator.fit(X_train, y_train, **fit_params)\n",
            "  File \"/usr/local/lib/python3.7/dist-packages/sklearn/linear_model/_logistic.py\", line 1461, in fit\n",
            "    solver = _check_solver(self.solver, self.penalty, self.dual)\n",
            "  File \"/usr/local/lib/python3.7/dist-packages/sklearn/linear_model/_logistic.py\", line 459, in _check_solver\n",
            "    solver\n",
            "ValueError: Only 'saga' solver supports elasticnet penalty, got solver=liblinear.\n",
            "\n",
            "  warnings.warn(some_fits_failed_message, FitFailedWarning)\n",
            "/usr/local/lib/python3.7/dist-packages/sklearn/model_selection/_search.py:972: UserWarning: One or more of the test scores are non-finite: [       nan 0.71296597 0.74465457 0.75772397        nan        nan\n",
            "        nan 0.75611841 0.75101094 0.75522604        nan        nan\n",
            "        nan 0.75295946 0.74957734 0.75057075        nan        nan]\n",
            "  category=UserWarning,\n"
          ]
        },
        {
          "output_type": "execute_result",
          "data": {
            "text/plain": [
              "                 model  best_score                                        best_params\n",
              "0                  svm    0.768070                       {'C': 0.01, 'kernel': 'rbf'}\n",
              "1        random_forest    0.773250       {'max_features': 'sqrt', 'n_estimators': 50}\n",
              "2  logistic_regression    0.757724  {'C': 0.01, 'penalty': 'l2', 'solver': 'liblin..."
            ],
            "text/html": [
              "\n",
              "  <div id=\"df-38753172-60b3-46fb-945e-1b8a405dbc7a\">\n",
              "    <div class=\"colab-df-container\">\n",
              "      <div>\n",
              "<style scoped>\n",
              "    .dataframe tbody tr th:only-of-type {\n",
              "        vertical-align: middle;\n",
              "    }\n",
              "\n",
              "    .dataframe tbody tr th {\n",
              "        vertical-align: top;\n",
              "    }\n",
              "\n",
              "    .dataframe thead th {\n",
              "        text-align: right;\n",
              "    }\n",
              "</style>\n",
              "<table border=\"1\" class=\"dataframe\">\n",
              "  <thead>\n",
              "    <tr style=\"text-align: right;\">\n",
              "      <th></th>\n",
              "      <th>model</th>\n",
              "      <th>best_score</th>\n",
              "      <th>best_params</th>\n",
              "    </tr>\n",
              "  </thead>\n",
              "  <tbody>\n",
              "    <tr>\n",
              "      <th>0</th>\n",
              "      <td>svm</td>\n",
              "      <td>0.768070</td>\n",
              "      <td>{'C': 0.01, 'kernel': 'rbf'}</td>\n",
              "    </tr>\n",
              "    <tr>\n",
              "      <th>1</th>\n",
              "      <td>random_forest</td>\n",
              "      <td>0.773250</td>\n",
              "      <td>{'max_features': 'sqrt', 'n_estimators': 50}</td>\n",
              "    </tr>\n",
              "    <tr>\n",
              "      <th>2</th>\n",
              "      <td>logistic_regression</td>\n",
              "      <td>0.757724</td>\n",
              "      <td>{'C': 0.01, 'penalty': 'l2', 'solver': 'liblin...</td>\n",
              "    </tr>\n",
              "  </tbody>\n",
              "</table>\n",
              "</div>\n",
              "      <button class=\"colab-df-convert\" onclick=\"convertToInteractive('df-38753172-60b3-46fb-945e-1b8a405dbc7a')\"\n",
              "              title=\"Convert this dataframe to an interactive table.\"\n",
              "              style=\"display:none;\">\n",
              "        \n",
              "  <svg xmlns=\"http://www.w3.org/2000/svg\" height=\"24px\"viewBox=\"0 0 24 24\"\n",
              "       width=\"24px\">\n",
              "    <path d=\"M0 0h24v24H0V0z\" fill=\"none\"/>\n",
              "    <path d=\"M18.56 5.44l.94 2.06.94-2.06 2.06-.94-2.06-.94-.94-2.06-.94 2.06-2.06.94zm-11 1L8.5 8.5l.94-2.06 2.06-.94-2.06-.94L8.5 2.5l-.94 2.06-2.06.94zm10 10l.94 2.06.94-2.06 2.06-.94-2.06-.94-.94-2.06-.94 2.06-2.06.94z\"/><path d=\"M17.41 7.96l-1.37-1.37c-.4-.4-.92-.59-1.43-.59-.52 0-1.04.2-1.43.59L10.3 9.45l-7.72 7.72c-.78.78-.78 2.05 0 2.83L4 21.41c.39.39.9.59 1.41.59.51 0 1.02-.2 1.41-.59l7.78-7.78 2.81-2.81c.8-.78.8-2.07 0-2.86zM5.41 20L4 18.59l7.72-7.72 1.47 1.35L5.41 20z\"/>\n",
              "  </svg>\n",
              "      </button>\n",
              "      \n",
              "  <style>\n",
              "    .colab-df-container {\n",
              "      display:flex;\n",
              "      flex-wrap:wrap;\n",
              "      gap: 12px;\n",
              "    }\n",
              "\n",
              "    .colab-df-convert {\n",
              "      background-color: #E8F0FE;\n",
              "      border: none;\n",
              "      border-radius: 50%;\n",
              "      cursor: pointer;\n",
              "      display: none;\n",
              "      fill: #1967D2;\n",
              "      height: 32px;\n",
              "      padding: 0 0 0 0;\n",
              "      width: 32px;\n",
              "    }\n",
              "\n",
              "    .colab-df-convert:hover {\n",
              "      background-color: #E2EBFA;\n",
              "      box-shadow: 0px 1px 2px rgba(60, 64, 67, 0.3), 0px 1px 3px 1px rgba(60, 64, 67, 0.15);\n",
              "      fill: #174EA6;\n",
              "    }\n",
              "\n",
              "    [theme=dark] .colab-df-convert {\n",
              "      background-color: #3B4455;\n",
              "      fill: #D2E3FC;\n",
              "    }\n",
              "\n",
              "    [theme=dark] .colab-df-convert:hover {\n",
              "      background-color: #434B5C;\n",
              "      box-shadow: 0px 1px 3px 1px rgba(0, 0, 0, 0.15);\n",
              "      filter: drop-shadow(0px 1px 2px rgba(0, 0, 0, 0.3));\n",
              "      fill: #FFFFFF;\n",
              "    }\n",
              "  </style>\n",
              "\n",
              "      <script>\n",
              "        const buttonEl =\n",
              "          document.querySelector('#df-38753172-60b3-46fb-945e-1b8a405dbc7a button.colab-df-convert');\n",
              "        buttonEl.style.display =\n",
              "          google.colab.kernel.accessAllowed ? 'block' : 'none';\n",
              "\n",
              "        async function convertToInteractive(key) {\n",
              "          const element = document.querySelector('#df-38753172-60b3-46fb-945e-1b8a405dbc7a');\n",
              "          const dataTable =\n",
              "            await google.colab.kernel.invokeFunction('convertToInteractive',\n",
              "                                                     [key], {});\n",
              "          if (!dataTable) return;\n",
              "\n",
              "          const docLinkHtml = 'Like what you see? Visit the ' +\n",
              "            '<a target=\"_blank\" href=https://colab.research.google.com/notebooks/data_table.ipynb>data table notebook</a>'\n",
              "            + ' to learn more about interactive tables.';\n",
              "          element.innerHTML = '';\n",
              "          dataTable['output_type'] = 'display_data';\n",
              "          await google.colab.output.renderOutput(dataTable, element);\n",
              "          const docLink = document.createElement('div');\n",
              "          docLink.innerHTML = docLinkHtml;\n",
              "          element.appendChild(docLink);\n",
              "        }\n",
              "      </script>\n",
              "    </div>\n",
              "  </div>\n",
              "  "
            ]
          },
          "metadata": {},
          "execution_count": 265
        }
      ]
    },
    {
      "cell_type": "markdown",
      "source": [
        "Based on above, I can conclude that random forest with max_features = 'sqrt' and n_estimators=50 is the best model for solving my problem of loan prediction so far"
      ],
      "metadata": {
        "id": "mH_zehlmEKCP"
      }
    },
    {
      "cell_type": "markdown",
      "source": [
        "# Confusion Matrix\n"
      ],
      "metadata": {
        "id": "gC-VwRB8_otd"
      }
    },
    {
      "cell_type": "markdown",
      "source": [
        "A confusion matrix is a summary of prediction results on a classification problem. The number of correct and incorrect predictions are summarized with count values and broken down by each class. It gives us insight not only into the errors being made by a classifier but more importantly the types of errors that are being made."
      ],
      "metadata": {
        "id": "4--EAlc3_o31"
      }
    },
    {
      "cell_type": "code",
      "source": [
        "model = svm.SVC()\n",
        "model.fit(x_train, y_train)"
      ],
      "metadata": {
        "colab": {
          "base_uri": "https://localhost:8080/"
        },
        "id": "bbJtOaNhB46C",
        "outputId": "8ebe6fdb-a167-4c81-c957-19327cdd3b0a"
      },
      "execution_count": null,
      "outputs": [
        {
          "output_type": "execute_result",
          "data": {
            "text/plain": [
              "SVC()"
            ]
          },
          "metadata": {},
          "execution_count": 266
        }
      ]
    },
    {
      "cell_type": "code",
      "source": [
        "from sklearn.metrics import confusion_matrix\n",
        "y_pred = model.predict(x_test)\n",
        "cm = confusion_matrix(y_test, y_pred)\n",
        "cm"
      ],
      "metadata": {
        "colab": {
          "base_uri": "https://localhost:8080/"
        },
        "id": "4O5B8rWVB5s2",
        "outputId": "6779f521-3fcd-4bc3-c4c9-be92e5e85ebc"
      },
      "execution_count": null,
      "outputs": [
        {
          "output_type": "execute_result",
          "data": {
            "text/plain": [
              "array([[22, 32],\n",
              "       [ 1, 99]])"
            ]
          },
          "metadata": {},
          "execution_count": 267
        }
      ]
    },
    {
      "cell_type": "code",
      "source": [
        "class_names=[0,1] # name  of classes\n",
        "fig, ax = plt.subplots()\n",
        "tick_marks = np.arange(len(class_names))\n",
        "plt.xticks(tick_marks, class_names)\n",
        "plt.yticks(tick_marks, class_names)\n",
        "# create heatmap\n",
        "sns.heatmap(cm, annot=True)\n",
        "ax.xaxis.set_label_position(\"top\")\n",
        "#plt.tight_layout()\n",
        "plt.title('Confusion matrix', y=1.1)\n",
        "plt.ylabel('Actual label')\n",
        "plt.xlabel('Predicted label')"
      ],
      "metadata": {
        "colab": {
          "base_uri": "https://localhost:8080/",
          "height": 311
        },
        "id": "MjL-XIC6B-bE",
        "outputId": "b0631ce0-58a0-4a4d-8254-c273b11f77ad"
      },
      "execution_count": null,
      "outputs": [
        {
          "output_type": "execute_result",
          "data": {
            "text/plain": [
              "Text(0.5, 15.0, 'Predicted label')"
            ]
          },
          "metadata": {},
          "execution_count": 268
        },
        {
          "output_type": "display_data",
          "data": {
            "text/plain": [
              "<Figure size 432x288 with 2 Axes>"
            ],
            "image/png": "[encoded data removed]"
          },
          "metadata": {
            "needs_background": "light"
          }
        }
      ]
    },
    {
      "cell_type": "markdown",
      "source": [
        "wow, that is a huge number of false positive, we don't wanna be in a situation that we accept a home loan for someone who not eligible for it, that's the worst case that we are in now, wow 32 false positive of 131 total positive thats really huge number , we need to fix that immmeadiately.\n",
        "Not even svm, even logistic regression will give us 30 false positive too.\n",
        "it's because our unbalanced data\n"
      ],
      "metadata": {
        "id": "yN9zDsYG_o-V"
      }
    },
    {
      "cell_type": "markdown",
      "source": [
        "# use stratify while splitting the data"
      ],
      "metadata": {
        "id": "agIkYNVG_pCp"
      }
    },
    {
      "cell_type": "markdown",
      "source": [
        "This stratify parameter makes a split so that the proportion of values in the sample produced will be the same as the proportion of values provided to parameter stratify"
      ],
      "metadata": {
        "id": "HMcTjANv_pFn"
      }
    },
    {
      "cell_type": "code",
      "source": [
        "from sklearn.model_selection import train_test_split\n",
        "x_train, x_test, y_train, y_test = train_test_split(data2, y, test_size=0.25, random_state=42,stratify=y)"
      ],
      "metadata": {
        "id": "pt66tQzxgTpC"
      },
      "execution_count": null,
      "outputs": []
    },
    {
      "cell_type": "code",
      "source": [
        "model = svm.SVC()\n",
        "model.fit(x_train, y_train)\n",
        "from sklearn.metrics import confusion_matrix\n",
        "y_pred = model.predict(x_test)\n",
        "cm = confusion_matrix(y_test, y_pred)\n",
        "class_names=[0,1] # name  of classes\n",
        "fig, ax = plt.subplots()\n",
        "tick_marks = np.arange(len(class_names))\n",
        "plt.xticks(tick_marks, class_names)\n",
        "plt.yticks(tick_marks, class_names)\n",
        "# create heatmap\n",
        "sns.heatmap(cm, annot=True)\n",
        "ax.xaxis.set_label_position(\"top\")\n",
        "#plt.tight_layout()\n",
        "plt.title('Confusion matrix', y=1.1)\n",
        "plt.ylabel('Actual label')\n",
        "plt.xlabel('Predicted label')"
      ],
      "metadata": {
        "colab": {
          "base_uri": "https://localhost:8080/",
          "height": 311
        },
        "id": "WZYP0u48gZP0",
        "outputId": "2280dfdc-3fcd-4f7f-c7f2-e28587130243"
      },
      "execution_count": null,
      "outputs": [
        {
          "output_type": "execute_result",
          "data": {
            "text/plain": [
              "Text(0.5, 15.0, 'Predicted label')"
            ]
          },
          "metadata": {},
          "execution_count": 270
        },
        {
          "output_type": "display_data",
          "data": {
            "text/plain": [
              "<Figure size 432x288 with 2 Axes>"
            ],
            "image/png": "[encoded data removed]"
          },
          "metadata": {
            "needs_background": "light"
          }
        }
      ]
    },
    {
      "cell_type": "markdown",
      "source": [
        "voila ! its better now , we reduced the number if false positive to 22 "
      ],
      "metadata": {
        "id": "8WjuEPb5_pIX"
      }
    },
    {
      "cell_type": "markdown",
      "source": [
        "i will return to work and pick model using precision metric (to reduce false positive, we will be working on choosing a model based on the higher precision)"
      ],
      "metadata": {
        "id": "OLOTz7AWigVR"
      }
    },
    {
      "cell_type": "code",
      "source": [
        "rfc = RandomForestClassifier()\n",
        "\n",
        "grid_values = {'n_estimators': [40,50,80, 100],\n",
        "               'max_features': ['sqrt', 0.25, 0.5, 0.75, 1.0],\n",
        "               'max_depth' : [4,5,6,7,8],\n",
        "              }\n",
        "\n",
        "grid_search_rfc = GridSearchCV(rfc, param_grid = grid_values, scoring = 'accuracy')\n",
        "grid_search_rfc.fit(x_train, y_train)"
      ],
      "metadata": {
        "id": "ni4LPzSAoQf1",
        "colab": {
          "base_uri": "https://localhost:8080/"
        },
        "outputId": "71338e05-4b2b-478b-b591-e5523ffcc5a5"
      },
      "execution_count": null,
      "outputs": [
        {
          "output_type": "execute_result",
          "data": {
            "text/plain": [
              "GridSearchCV(estimator=RandomForestClassifier(),\n",
              "             param_grid={'max_depth': [4, 5, 6, 7, 8],\n",
              "                         'max_features': ['sqrt', 0.25, 0.5, 0.75, 1.0],\n",
              "                         'n_estimators': [40, 50, 80, 100]},\n",
              "             scoring='accuracy')"
            ]
          },
          "metadata": {},
          "execution_count": 271
        }
      ]
    },
    {
      "cell_type": "code",
      "source": [
        "grid_search_rfc.best_params_\n"
      ],
      "metadata": {
        "colab": {
          "base_uri": "https://localhost:8080/"
        },
        "id": "H6li8ypp7RCX",
        "outputId": "8b4c6a30-3d93-47e1-b39c-a855adcff474"
      },
      "execution_count": null,
      "outputs": [
        {
          "output_type": "execute_result",
          "data": {
            "text/plain": [
              "{'max_depth': 5, 'max_features': 'sqrt', 'n_estimators': 100}"
            ]
          },
          "metadata": {},
          "execution_count": 272
        }
      ]
    },
    {
      "cell_type": "code",
      "source": [
        "pred =grid_search_rfc.predict(x_test)\n"
      ],
      "metadata": {
        "id": "0az82M21754D"
      },
      "execution_count": null,
      "outputs": []
    },
    {
      "cell_type": "code",
      "source": [
        "from sklearn.metrics import classification_report\n",
        "print(classification_report(y_test, pred))"
      ],
      "metadata": {
        "colab": {
          "base_uri": "https://localhost:8080/"
        },
        "id": "f10GYWqB8Grx",
        "outputId": "db905111-1147-4ba0-cc3a-a279f799a7fd"
      },
      "execution_count": null,
      "outputs": [
        {
          "output_type": "stream",
          "name": "stdout",
          "text": [
            "              precision    recall  f1-score   support\n",
            "\n",
            "           N       0.96      0.54      0.69        48\n",
            "           Y       0.83      0.99      0.90       106\n",
            "\n",
            "    accuracy                           0.85       154\n",
            "   macro avg       0.89      0.77      0.80       154\n",
            "weighted avg       0.87      0.85      0.84       154\n",
            "\n"
          ]
        }
      ]
    },
    {
      "cell_type": "markdown",
      "source": [
        "# tuning random forest model , and using with many metrics now"
      ],
      "metadata": {
        "id": "OdGYtfwKakUq"
      }
    },
    {
      "cell_type": "code",
      "source": [
        "from sklearn.metrics import make_scorer, accuracy_score, precision_score, recall_score, f1_score\n",
        "\n",
        "scoring = {'accuracy': make_scorer(accuracy_score),\n",
        "           'precision': make_scorer(precision_score, average = 'macro'),\n",
        "           'recall': make_scorer(recall_score, average = 'macro'),\n",
        "           'f1': make_scorer(f1_score, average = 'macro')}\n",
        "\n",
        "grid_search_rfc = GridSearchCV(rfc, param_grid = grid_values, scoring = scoring, refit='f1')\n",
        "grid_search_rfc.fit(x_train, y_train)"
      ],
      "metadata": {
        "colab": {
          "base_uri": "https://localhost:8080/"
        },
        "id": "FN4nThZF-jtd",
        "outputId": "bbc75e49-e123-4112-c289-4a484b781684"
      },
      "execution_count": null,
      "outputs": [
        {
          "output_type": "execute_result",
          "data": {
            "text/plain": [
              "GridSearchCV(estimator=RandomForestClassifier(),\n",
              "             param_grid={'max_depth': [4, 5, 6, 7, 8],\n",
              "                         'max_features': ['sqrt', 0.25, 0.5, 0.75, 1.0],\n",
              "                         'n_estimators': [40, 50, 80, 100]},\n",
              "             refit='f1',\n",
              "             scoring={'accuracy': make_scorer(accuracy_score),\n",
              "                      'f1': make_scorer(f1_score, average=macro),\n",
              "                      'precision': make_scorer(precision_score, average=macro),\n",
              "                      'recall': make_scorer(recall_score, average=macro)})"
            ]
          },
          "metadata": {},
          "execution_count": 275
        }
      ]
    },
    {
      "cell_type": "code",
      "source": [
        "grid_search_rfc.best_params_ \n"
      ],
      "metadata": {
        "id": "CZDJkFnv_1d3",
        "colab": {
          "base_uri": "https://localhost:8080/"
        },
        "outputId": "3cbf87b3-fb28-4166-c120-97fa1504b2fd"
      },
      "execution_count": null,
      "outputs": [
        {
          "output_type": "execute_result",
          "data": {
            "text/plain": [
              "{'max_depth': 4, 'max_features': 0.5, 'n_estimators': 50}"
            ]
          },
          "metadata": {},
          "execution_count": 276
        }
      ]
    },
    {
      "cell_type": "code",
      "source": [
        "res =pd.DataFrame.from_dict(grid_search_rfc.cv_results_)\n",
        "res.columns"
      ],
      "metadata": {
        "colab": {
          "base_uri": "https://localhost:8080/"
        },
        "id": "4oibazL_MmB1",
        "outputId": "76bed172-8fb3-4bd5-9701-d797d4d6414c"
      },
      "execution_count": null,
      "outputs": [
        {
          "output_type": "execute_result",
          "data": {
            "text/plain": [
              "Index(['mean_fit_time', 'std_fit_time', 'mean_score_time', 'std_score_time',\n",
              "       'param_max_depth', 'param_max_features', 'param_n_estimators', 'params',\n",
              "       'split0_test_accuracy', 'split1_test_accuracy', 'split2_test_accuracy',\n",
              "       'split3_test_accuracy', 'split4_test_accuracy', 'mean_test_accuracy',\n",
              "       'std_test_accuracy', 'rank_test_accuracy', 'split0_test_precision',\n",
              "       'split1_test_precision', 'split2_test_precision',\n",
              "       'split3_test_precision', 'split4_test_precision', 'mean_test_precision',\n",
              "       'std_test_precision', 'rank_test_precision', 'split0_test_recall',\n",
              "       'split1_test_recall', 'split2_test_recall', 'split3_test_recall',\n",
              "       'split4_test_recall', 'mean_test_recall', 'std_test_recall',\n",
              "       'rank_test_recall', 'split0_test_f1', 'split1_test_f1',\n",
              "       'split2_test_f1', 'split3_test_f1', 'split4_test_f1', 'mean_test_f1',\n",
              "       'std_test_f1', 'rank_test_f1'],\n",
              "      dtype='object')"
            ]
          },
          "metadata": {},
          "execution_count": 277
        }
      ]
    },
    {
      "cell_type": "markdown",
      "source": [
        "I want looking for these results for each metric, so in this case, let say i want look for F1 and precision:"
      ],
      "metadata": {
        "id": "4DySw_3vRwqS"
      }
    },
    {
      "cell_type": "code",
      "source": [
        "df = res[['params', 'mean_test_precision', 'rank_test_precision', 'mean_test_f1', 'rank_test_f1']]\n",
        "\n",
        "pd.set_option(\"display.max_rows\", None, \"display.max_columns\", None)\n",
        "pd.set_option('expand_frame_repr', False)\n",
        "df"
      ],
      "metadata": {
        "colab": {
          "base_uri": "https://localhost:8080/",
          "height": 1000
        },
        "id": "490WxggjQp9w",
        "outputId": "2d568ce2-cf23-4b26-92a0-fc602383b1bc"
      },
      "execution_count": null,
      "outputs": [
        {
          "output_type": "execute_result",
          "data": {
            "text/plain": [
              "                                               params  mean_test_precision  rank_test_precision  mean_test_f1  rank_test_f1\n",
              "0   {'max_depth': 4, 'max_features': 'sqrt', 'n_es...             0.837164                    3      0.698625             4\n",
              "1   {'max_depth': 4, 'max_features': 'sqrt', 'n_es...             0.834872                   21      0.693692            45\n",
              "2   {'max_depth': 4, 'max_features': 'sqrt', 'n_es...             0.837164                    3      0.698625             4\n",
              "3   {'max_depth': 4, 'max_features': 'sqrt', 'n_es...             0.837164                    3      0.698625             4\n",
              "4   {'max_depth': 4, 'max_features': 0.25, 'n_esti...             0.837164                    3      0.698625             4\n",
              "5   {'max_depth': 4, 'max_features': 0.25, 'n_esti...             0.837164                    3      0.698625             4\n",
              "6   {'max_depth': 4, 'max_features': 0.25, 'n_esti...             0.837164                    3      0.698625             4\n",
              "7   {'max_depth': 4, 'max_features': 0.25, 'n_esti...             0.837164                    3      0.698625             4\n",
              "8   {'max_depth': 4, 'max_features': 0.5, 'n_estim...             0.828553                   31      0.696497            25\n",
              "9   {'max_depth': 4, 'max_features': 0.5, 'n_estim...             0.838161                    2      0.702614             1\n",
              "10  {'max_depth': 4, 'max_features': 0.5, 'n_estim...             0.828553                   31      0.696497            25\n",
              "11  {'max_depth': 4, 'max_features': 0.5, 'n_estim...             0.828553                   31      0.696497            25\n",
              "12  {'max_depth': 4, 'max_features': 0.75, 'n_esti...             0.837164                    3      0.698625             4\n",
              "13  {'max_depth': 4, 'max_features': 0.75, 'n_esti...             0.820245                   43      0.690273            55\n",
              "14  {'max_depth': 4, 'max_features': 0.75, 'n_esti...             0.828553                   31      0.696497            25\n",
              "15  {'max_depth': 4, 'max_features': 0.75, 'n_esti...             0.828553                   31      0.696497            25\n",
              "16  {'max_depth': 4, 'max_features': 1.0, 'n_estim...             0.819959                   44      0.694283            44\n",
              "17  {'max_depth': 4, 'max_features': 1.0, 'n_estim...             0.814881                   49      0.692395            48\n",
              "18  {'max_depth': 4, 'max_features': 1.0, 'n_estim...             0.828553                   31      0.696497            25\n",
              "19  {'max_depth': 4, 'max_features': 1.0, 'n_estim...             0.828553                   31      0.696497            25\n",
              "20  {'max_depth': 5, 'max_features': 'sqrt', 'n_es...             0.836216                   20      0.694304            43\n",
              "21  {'max_depth': 5, 'max_features': 'sqrt', 'n_es...             0.831075                   24      0.696410            37\n",
              "22  {'max_depth': 5, 'max_features': 'sqrt', 'n_es...             0.837164                    3      0.698625             4\n",
              "23  {'max_depth': 5, 'max_features': 'sqrt', 'n_es...             0.837164                    3      0.698625             4\n",
              "24  {'max_depth': 5, 'max_features': 0.25, 'n_esti...             0.829203                   27      0.696444            33\n",
              "25  {'max_depth': 5, 'max_features': 0.25, 'n_esti...             0.837164                    3      0.698625             4\n",
              "26  {'max_depth': 5, 'max_features': 0.25, 'n_esti...             0.837164                    3      0.698625             4\n",
              "27  {'max_depth': 5, 'max_features': 0.25, 'n_esti...             0.837164                    3      0.698625             4\n",
              "28  {'max_depth': 5, 'max_features': 0.5, 'n_estim...             0.813256                   52      0.692240            50\n",
              "29  {'max_depth': 5, 'max_features': 0.5, 'n_estim...             0.816726                   46      0.692569            46\n",
              "30  {'max_depth': 5, 'max_features': 0.5, 'n_estim...             0.832673                   22      0.696773            21\n",
              "31  {'max_depth': 5, 'max_features': 0.5, 'n_estim...             0.828553                   31      0.696497            25\n",
              "32  {'max_depth': 5, 'max_features': 0.75, 'n_esti...             0.829550                   26      0.700486             3\n",
              "33  {'max_depth': 5, 'max_features': 0.75, 'n_esti...             0.807166                   58      0.690024            58\n",
              "34  {'max_depth': 5, 'max_features': 0.75, 'n_esti...             0.820592                   42      0.694316            42\n",
              "35  {'max_depth': 5, 'max_features': 0.75, 'n_esti...             0.808765                   57      0.690387            52\n",
              "36  {'max_depth': 5, 'max_features': 1.0, 'n_estim...             0.803573                   61      0.686031            71\n",
              "37  {'max_depth': 5, 'max_features': 1.0, 'n_estim...             0.786376                   75      0.684311            74\n",
              "38  {'max_depth': 5, 'max_features': 1.0, 'n_estim...             0.806920                   60      0.690213            56\n",
              "39  {'max_depth': 5, 'max_features': 1.0, 'n_estim...             0.800830                   65      0.687997            65\n",
              "40  {'max_depth': 6, 'max_features': 'sqrt', 'n_es...             0.837164                    3      0.698625             4\n",
              "41  {'max_depth': 6, 'max_features': 'sqrt', 'n_es...             0.816101                   47      0.692463            47\n",
              "42  {'max_depth': 6, 'max_features': 'sqrt', 'n_es...             0.829203                   27      0.696444            33\n",
              "43  {'max_depth': 6, 'max_features': 'sqrt', 'n_es...             0.832673                   22      0.696773            21\n",
              "44  {'max_depth': 6, 'max_features': 0.25, 'n_esti...             0.830103                   25      0.692261            49\n",
              "45  {'max_depth': 6, 'max_features': 0.25, 'n_esti...             0.837164                    3      0.698625             4\n",
              "46  {'max_depth': 6, 'max_features': 0.25, 'n_esti...             0.842243                    1      0.700513             2\n",
              "47  {'max_depth': 6, 'max_features': 0.25, 'n_esti...             0.837164                    3      0.698625             4\n",
              "48  {'max_depth': 6, 'max_features': 0.5, 'n_estim...             0.823090                   39      0.690496            51\n",
              "49  {'max_depth': 6, 'max_features': 0.5, 'n_estim...             0.801453                   64      0.688433            61\n",
              "50  {'max_depth': 6, 'max_features': 0.5, 'n_estim...             0.792886                   71      0.683833            79\n",
              "51  {'max_depth': 6, 'max_features': 0.5, 'n_estim...             0.802675                   62      0.688172            64\n",
              "52  {'max_depth': 6, 'max_features': 0.75, 'n_esti...             0.780287                   79      0.682096            80\n",
              "53  {'max_depth': 6, 'max_features': 0.75, 'n_esti...             0.789808                   74      0.683965            76\n",
              "54  {'max_depth': 6, 'max_features': 0.75, 'n_esti...             0.802429                   63      0.688360            62\n",
              "55  {'max_depth': 6, 'max_features': 0.75, 'n_esti...             0.814812                   50      0.696182            38\n",
              "56  {'max_depth': 6, 'max_features': 1.0, 'n_estim...             0.807166                   58      0.690024            58\n",
              "57  {'max_depth': 6, 'max_features': 1.0, 'n_estim...             0.781344                   78      0.686495            67\n",
              "58  {'max_depth': 6, 'max_features': 1.0, 'n_estim...             0.774289                   88      0.680017            86\n",
              "59  {'max_depth': 6, 'max_features': 1.0, 'n_estim...             0.793246                   70      0.686439            68\n",
              "60  {'max_depth': 7, 'max_features': 'sqrt', 'n_es...             0.793891                   69      0.690082            57\n",
              "61  {'max_depth': 7, 'max_features': 'sqrt', 'n_es...             0.822334                   40      0.694316            40\n",
              "62  {'max_depth': 7, 'max_features': 'sqrt', 'n_es...             0.819594                   45      0.696524            24\n",
              "63  {'max_depth': 7, 'max_features': 'sqrt', 'n_es...             0.822334                   40      0.694316            40\n",
              "64  {'max_depth': 7, 'max_features': 0.25, 'n_esti...             0.815680                   48      0.687495            66\n",
              "65  {'max_depth': 7, 'max_features': 0.25, 'n_esti...             0.810834                   54      0.689934            60\n",
              "66  {'max_depth': 7, 'max_features': 0.25, 'n_esti...             0.837164                    3      0.698625             4\n",
              "67  {'max_depth': 7, 'max_features': 0.25, 'n_esti...             0.829203                   27      0.696444            33\n",
              "68  {'max_depth': 7, 'max_features': 0.5, 'n_estim...             0.795418                   68      0.686160            69\n",
              "69  {'max_depth': 7, 'max_features': 0.5, 'n_estim...             0.782017                   77      0.684413            72\n",
              "70  {'max_depth': 7, 'max_features': 0.5, 'n_estim...             0.776277                   84      0.680274            85\n",
              "71  {'max_depth': 7, 'max_features': 0.5, 'n_estim...             0.774877                   87      0.679930            87\n",
              "72  {'max_depth': 7, 'max_features': 0.75, 'n_esti...             0.775215                   86      0.679878            89\n",
              "73  {'max_depth': 7, 'max_features': 0.75, 'n_esti...             0.784778                   76      0.683948            77\n",
              "74  {'max_depth': 7, 'max_features': 0.75, 'n_esti...             0.778062                   82      0.679771            90\n",
              "75  {'max_depth': 7, 'max_features': 0.75, 'n_esti...             0.796339                   67      0.686144            70\n",
              "76  {'max_depth': 7, 'max_features': 1.0, 'n_estim...             0.757359                   94      0.677018            92\n",
              "77  {'max_depth': 7, 'max_features': 1.0, 'n_estim...             0.779368                   81      0.681782            81\n",
              "78  {'max_depth': 7, 'max_features': 1.0, 'n_estim...             0.754785                   96      0.670087            96\n",
              "79  {'max_depth': 7, 'max_features': 1.0, 'n_estim...             0.765329                   89      0.676125            93\n",
              "80  {'max_depth': 8, 'max_features': 'sqrt', 'n_es...             0.814123                   51      0.696544            23\n",
              "81  {'max_depth': 8, 'max_features': 'sqrt', 'n_es...             0.812725                   53      0.694396            39\n",
              "82  {'max_depth': 8, 'max_features': 'sqrt', 'n_es...             0.809231                   55      0.690335            53\n",
              "83  {'max_depth': 8, 'max_features': 'sqrt', 'n_es...             0.829203                   27      0.696444            33\n",
              "84  {'max_depth': 8, 'max_features': 0.25, 'n_esti...             0.789949                   73      0.684377            73\n",
              "85  {'max_depth': 8, 'max_features': 0.25, 'n_esti...             0.779699                   80      0.680519            84\n",
              "86  {'max_depth': 8, 'max_features': 0.25, 'n_esti...             0.809231                   55      0.690335            53\n",
              "87  {'max_depth': 8, 'max_features': 0.25, 'n_esti...             0.800828                   66      0.688326            63\n",
              "88  {'max_depth': 8, 'max_features': 0.5, 'n_estim...             0.760593                   92      0.679915            88\n",
              "89  {'max_depth': 8, 'max_features': 0.5, 'n_estim...             0.762110                   90      0.678433            91\n",
              "90  {'max_depth': 8, 'max_features': 0.5, 'n_estim...             0.791163                   72      0.684081            75\n",
              "91  {'max_depth': 8, 'max_features': 0.5, 'n_estim...             0.757878                   93      0.672647            95\n",
              "92  {'max_depth': 8, 'max_features': 0.75, 'n_esti...             0.727576                   99      0.668946            98\n",
              "93  {'max_depth': 8, 'max_features': 0.75, 'n_esti...             0.777304                   83      0.683920            78\n",
              "94  {'max_depth': 8, 'max_features': 0.75, 'n_esti...             0.761305                   91      0.675977            94\n",
              "95  {'max_depth': 8, 'max_features': 0.75, 'n_esti...             0.775243                   85      0.680639            83\n",
              "96  {'max_depth': 8, 'max_features': 1.0, 'n_estim...             0.720719                  100      0.663126           100\n",
              "97  {'max_depth': 8, 'max_features': 1.0, 'n_estim...             0.729777                   98      0.666121            99\n",
              "98  {'max_depth': 8, 'max_features': 1.0, 'n_estim...             0.744553                   97      0.670043            97\n",
              "99  {'max_depth': 8, 'max_features': 1.0, 'n_estim...             0.756715                   95      0.680660            82"
            ],
            "text/html": [
              "\n",
              "  <div id=\"df-f688d263-9a28-473b-8258-1f351f9f5e2d\">\n",
              "    <div class=\"colab-df-container\">\n",
              "      <div>\n",
              "<style scoped>\n",
              "    .dataframe tbody tr th:only-of-type {\n",
              "        vertical-align: middle;\n",
              "    }\n",
              "\n",
              "    .dataframe tbody tr th {\n",
              "        vertical-align: top;\n",
              "    }\n",
              "\n",
              "    .dataframe thead th {\n",
              "        text-align: right;\n",
              "    }\n",
              "</style>\n",
              "<table border=\"1\" class=\"dataframe\">\n",
              "  <thead>\n",
              "    <tr style=\"text-align: right;\">\n",
              "      <th></th>\n",
              "      <th>params</th>\n",
              "      <th>mean_test_precision</th>\n",
              "      <th>rank_test_precision</th>\n",
              "      <th>mean_test_f1</th>\n",
              "      <th>rank_test_f1</th>\n",
              "    </tr>\n",
              "  </thead>\n",
              "  <tbody>\n",
              "    <tr>\n",
              "      <th>0</th>\n",
              "      <td>{'max_depth': 4, 'max_features': 'sqrt', 'n_es...</td>\n",
              "      <td>0.837164</td>\n",
              "      <td>3</td>\n",
              "      <td>0.698625</td>\n",
              "      <td>4</td>\n",
              "    </tr>\n",
              "    <tr>\n",
              "      <th>1</th>\n",
              "      <td>{'max_depth': 4, 'max_features': 'sqrt', 'n_es...</td>\n",
              "      <td>0.834872</td>\n",
              "      <td>21</td>\n",
              "      <td>0.693692</td>\n",
              "      <td>45</td>\n",
              "    </tr>\n",
              "    <tr>\n",
              "      <th>2</th>\n",
              "      <td>{'max_depth': 4, 'max_features': 'sqrt', 'n_es...</td>\n",
              "      <td>0.837164</td>\n",
              "      <td>3</td>\n",
              "      <td>0.698625</td>\n",
              "      <td>4</td>\n",
              "    </tr>\n",
              "    <tr>\n",
              "      <th>3</th>\n",
              "      <td>{'max_depth': 4, 'max_features': 'sqrt', 'n_es...</td>\n",
              "      <td>0.837164</td>\n",
              "      <td>3</td>\n",
              "      <td>0.698625</td>\n",
              "      <td>4</td>\n",
              "    </tr>\n",
              "    <tr>\n",
              "      <th>4</th>\n",
              "      <td>{'max_depth': 4, 'max_features': 0.25, 'n_esti...</td>\n",
              "      <td>0.837164</td>\n",
              "      <td>3</td>\n",
              "      <td>0.698625</td>\n",
              "      <td>4</td>\n",
              "    </tr>\n",
              "    <tr>\n",
              "      <th>5</th>\n",
              "      <td>{'max_depth': 4, 'max_features': 0.25, 'n_esti...</td>\n",
              "      <td>0.837164</td>\n",
              "      <td>3</td>\n",
              "      <td>0.698625</td>\n",
              "      <td>4</td>\n",
              "    </tr>\n",
              "    <tr>\n",
              "      <th>6</th>\n",
              "      <td>{'max_depth': 4, 'max_features': 0.25, 'n_esti...</td>\n",
              "      <td>0.837164</td>\n",
              "      <td>3</td>\n",
              "      <td>0.698625</td>\n",
              "      <td>4</td>\n",
              "    </tr>\n",
              "    <tr>\n",
              "      <th>7</th>\n",
              "      <td>{'max_depth': 4, 'max_features': 0.25, 'n_esti...</td>\n",
              "      <td>0.837164</td>\n",
              "      <td>3</td>\n",
              "      <td>0.698625</td>\n",
              "      <td>4</td>\n",
              "    </tr>\n",
              "    <tr>\n",
              "      <th>8</th>\n",
              "      <td>{'max_depth': 4, 'max_features': 0.5, 'n_estim...</td>\n",
              "      <td>0.828553</td>\n",
              "      <td>31</td>\n",
              "      <td>0.696497</td>\n",
              "      <td>25</td>\n",
              "    </tr>\n",
              "    <tr>\n",
              "      <th>9</th>\n",
              "      <td>{'max_depth': 4, 'max_features': 0.5, 'n_estim...</td>\n",
              "      <td>0.838161</td>\n",
              "      <td>2</td>\n",
              "      <td>0.702614</td>\n",
              "      <td>1</td>\n",
              "    </tr>\n",
              "    <tr>\n",
              "      <th>10</th>\n",
              "      <td>{'max_depth': 4, 'max_features': 0.5, 'n_estim...</td>\n",
              "      <td>0.828553</td>\n",
              "      <td>31</td>\n",
              "      <td>0.696497</td>\n",
              "      <td>25</td>\n",
              "    </tr>\n",
              "    <tr>\n",
              "      <th>11</th>\n",
              "      <td>{'max_depth': 4, 'max_features': 0.5, 'n_estim...</td>\n",
              "      <td>0.828553</td>\n",
              "      <td>31</td>\n",
              "      <td>0.696497</td>\n",
              "      <td>25</td>\n",
              "    </tr>\n",
              "    <tr>\n",
              "      <th>12</th>\n",
              "      <td>{'max_depth': 4, 'max_features': 0.75, 'n_esti...</td>\n",
              "      <td>0.837164</td>\n",
              "      <td>3</td>\n",
              "      <td>0.698625</td>\n",
              "      <td>4</td>\n",
              "    </tr>\n",
              "    <tr>\n",
              "      <th>13</th>\n",
              "      <td>{'max_depth': 4, 'max_features': 0.75, 'n_esti...</td>\n",
              "      <td>0.820245</td>\n",
              "      <td>43</td>\n",
              "      <td>0.690273</td>\n",
              "      <td>55</td>\n",
              "    </tr>\n",
              "    <tr>\n",
              "      <th>14</th>\n",
              "      <td>{'max_depth': 4, 'max_features': 0.75, 'n_esti...</td>\n",
              "      <td>0.828553</td>\n",
              "      <td>31</td>\n",
              "      <td>0.696497</td>\n",
              "      <td>25</td>\n",
              "    </tr>\n",
              "    <tr>\n",
              "      <th>15</th>\n",
              "      <td>{'max_depth': 4, 'max_features': 0.75, 'n_esti...</td>\n",
              "      <td>0.828553</td>\n",
              "      <td>31</td>\n",
              "      <td>0.696497</td>\n",
              "      <td>25</td>\n",
              "    </tr>\n",
              "    <tr>\n",
              "      <th>16</th>\n",
              "      <td>{'max_depth': 4, 'max_features': 1.0, 'n_estim...</td>\n",
              "      <td>0.819959</td>\n",
              "      <td>44</td>\n",
              "      <td>0.694283</td>\n",
              "      <td>44</td>\n",
              "    </tr>\n",
              "    <tr>\n",
              "      <th>17</th>\n",
              "      <td>{'max_depth': 4, 'max_features': 1.0, 'n_estim...</td>\n",
              "      <td>0.814881</td>\n",
              "      <td>49</td>\n",
              "      <td>0.692395</td>\n",
              "      <td>48</td>\n",
              "    </tr>\n",
              "    <tr>\n",
              "      <th>18</th>\n",
              "      <td>{'max_depth': 4, 'max_features': 1.0, 'n_estim...</td>\n",
              "      <td>0.828553</td>\n",
              "      <td>31</td>\n",
              "      <td>0.696497</td>\n",
              "      <td>25</td>\n",
              "    </tr>\n",
              "    <tr>\n",
              "      <th>19</th>\n",
              "      <td>{'max_depth': 4, 'max_features': 1.0, 'n_estim...</td>\n",
              "      <td>0.828553</td>\n",
              "      <td>31</td>\n",
              "      <td>0.696497</td>\n",
              "      <td>25</td>\n",
              "    </tr>\n",
              "    <tr>\n",
              "      <th>20</th>\n",
              "      <td>{'max_depth': 5, 'max_features': 'sqrt', 'n_es...</td>\n",
              "      <td>0.836216</td>\n",
              "      <td>20</td>\n",
              "      <td>0.694304</td>\n",
              "      <td>43</td>\n",
              "    </tr>\n",
              "    <tr>\n",
              "      <th>21</th>\n",
              "      <td>{'max_depth': 5, 'max_features': 'sqrt', 'n_es...</td>\n",
              "      <td>0.831075</td>\n",
              "      <td>24</td>\n",
              "      <td>0.696410</td>\n",
              "      <td>37</td>\n",
              "    </tr>\n",
              "    <tr>\n",
              "      <th>22</th>\n",
              "      <td>{'max_depth': 5, 'max_features': 'sqrt', 'n_es...</td>\n",
              "      <td>0.837164</td>\n",
              "      <td>3</td>\n",
              "      <td>0.698625</td>\n",
              "      <td>4</td>\n",
              "    </tr>\n",
              "    <tr>\n",
              "      <th>23</th>\n",
              "      <td>{'max_depth': 5, 'max_features': 'sqrt', 'n_es...</td>\n",
              "      <td>0.837164</td>\n",
              "      <td>3</td>\n",
              "      <td>0.698625</td>\n",
              "      <td>4</td>\n",
              "    </tr>\n",
              "    <tr>\n",
              "      <th>24</th>\n",
              "      <td>{'max_depth': 5, 'max_features': 0.25, 'n_esti...</td>\n",
              "      <td>0.829203</td>\n",
              "      <td>27</td>\n",
              "      <td>0.696444</td>\n",
              "      <td>33</td>\n",
              "    </tr>\n",
              "    <tr>\n",
              "      <th>25</th>\n",
              "      <td>{'max_depth': 5, 'max_features': 0.25, 'n_esti...</td>\n",
              "      <td>0.837164</td>\n",
              "      <td>3</td>\n",
              "      <td>0.698625</td>\n",
              "      <td>4</td>\n",
              "    </tr>\n",
              "    <tr>\n",
              "      <th>26</th>\n",
              "      <td>{'max_depth': 5, 'max_features': 0.25, 'n_esti...</td>\n",
              "      <td>0.837164</td>\n",
              "      <td>3</td>\n",
              "      <td>0.698625</td>\n",
              "      <td>4</td>\n",
              "    </tr>\n",
              "    <tr>\n",
              "      <th>27</th>\n",
              "      <td>{'max_depth': 5, 'max_features': 0.25, 'n_esti...</td>\n",
              "      <td>0.837164</td>\n",
              "      <td>3</td>\n",
              "      <td>0.698625</td>\n",
              "      <td>4</td>\n",
              "    </tr>\n",
              "    <tr>\n",
              "      <th>28</th>\n",
              "      <td>{'max_depth': 5, 'max_features': 0.5, 'n_estim...</td>\n",
              "      <td>0.813256</td>\n",
              "      <td>52</td>\n",
              "      <td>0.692240</td>\n",
              "      <td>50</td>\n",
              "    </tr>\n",
              "    <tr>\n",
              "      <th>29</th>\n",
              "      <td>{'max_depth': 5, 'max_features': 0.5, 'n_estim...</td>\n",
              "      <td>0.816726</td>\n",
              "      <td>46</td>\n",
              "      <td>0.692569</td>\n",
              "      <td>46</td>\n",
              "    </tr>\n",
              "    <tr>\n",
              "      <th>30</th>\n",
              "      <td>{'max_depth': 5, 'max_features': 0.5, 'n_estim...</td>\n",
              "      <td>0.832673</td>\n",
              "      <td>22</td>\n",
              "      <td>0.696773</td>\n",
              "      <td>21</td>\n",
              "    </tr>\n",
              "    <tr>\n",
              "      <th>31</th>\n",
              "      <td>{'max_depth': 5, 'max_features': 0.5, 'n_estim...</td>\n",
              "      <td>0.828553</td>\n",
              "      <td>31</td>\n",
              "      <td>0.696497</td>\n",
              "      <td>25</td>\n",
              "    </tr>\n",
              "    <tr>\n",
              "      <th>32</th>\n",
              "      <td>{'max_depth': 5, 'max_features': 0.75, 'n_esti...</td>\n",
              "      <td>0.829550</td>\n",
              "      <td>26</td>\n",
              "      <td>0.700486</td>\n",
              "      <td>3</td>\n",
              "    </tr>\n",
              "    <tr>\n",
              "      <th>33</th>\n",
              "      <td>{'max_depth': 5, 'max_features': 0.75, 'n_esti...</td>\n",
              "      <td>0.807166</td>\n",
              "      <td>58</td>\n",
              "      <td>0.690024</td>\n",
              "      <td>58</td>\n",
              "    </tr>\n",
              "    <tr>\n",
              "      <th>34</th>\n",
              "      <td>{'max_depth': 5, 'max_features': 0.75, 'n_esti...</td>\n",
              "      <td>0.820592</td>\n",
              "      <td>42</td>\n",
              "      <td>0.694316</td>\n",
              "      <td>42</td>\n",
              "    </tr>\n",
              "    <tr>\n",
              "      <th>35</th>\n",
              "      <td>{'max_depth': 5, 'max_features': 0.75, 'n_esti...</td>\n",
              "      <td>0.808765</td>\n",
              "      <td>57</td>\n",
              "      <td>0.690387</td>\n",
              "      <td>52</td>\n",
              "    </tr>\n",
              "    <tr>\n",
              "      <th>36</th>\n",
              "      <td>{'max_depth': 5, 'max_features': 1.0, 'n_estim...</td>\n",
              "      <td>0.803573</td>\n",
              "      <td>61</td>\n",
              "      <td>0.686031</td>\n",
              "      <td>71</td>\n",
              "    </tr>\n",
              "    <tr>\n",
              "      <th>37</th>\n",
              "      <td>{'max_depth': 5, 'max_features': 1.0, 'n_estim...</td>\n",
              "      <td>0.786376</td>\n",
              "      <td>75</td>\n",
              "      <td>0.684311</td>\n",
              "      <td>74</td>\n",
              "    </tr>\n",
              "    <tr>\n",
              "      <th>38</th>\n",
              "      <td>{'max_depth': 5, 'max_features': 1.0, 'n_estim...</td>\n",
              "      <td>0.806920</td>\n",
              "      <td>60</td>\n",
              "      <td>0.690213</td>\n",
              "      <td>56</td>\n",
              "    </tr>\n",
              "    <tr>\n",
              "      <th>39</th>\n",
              "      <td>{'max_depth': 5, 'max_features': 1.0, 'n_estim...</td>\n",
              "      <td>0.800830</td>\n",
              "      <td>65</td>\n",
              "      <td>0.687997</td>\n",
              "      <td>65</td>\n",
              "    </tr>\n",
              "    <tr>\n",
              "      <th>40</th>\n",
              "      <td>{'max_depth': 6, 'max_features': 'sqrt', 'n_es...</td>\n",
              "      <td>0.837164</td>\n",
              "      <td>3</td>\n",
              "      <td>0.698625</td>\n",
              "      <td>4</td>\n",
              "    </tr>\n",
              "    <tr>\n",
              "      <th>41</th>\n",
              "      <td>{'max_depth': 6, 'max_features': 'sqrt', 'n_es...</td>\n",
              "      <td>0.816101</td>\n",
              "      <td>47</td>\n",
              "      <td>0.692463</td>\n",
              "      <td>47</td>\n",
              "    </tr>\n",
              "    <tr>\n",
              "      <th>42</th>\n",
              "      <td>{'max_depth': 6, 'max_features': 'sqrt', 'n_es...</td>\n",
              "      <td>0.829203</td>\n",
              "      <td>27</td>\n",
              "      <td>0.696444</td>\n",
              "      <td>33</td>\n",
              "    </tr>\n",
              "    <tr>\n",
              "      <th>43</th>\n",
              "      <td>{'max_depth': 6, 'max_features': 'sqrt', 'n_es...</td>\n",
              "      <td>0.832673</td>\n",
              "      <td>22</td>\n",
              "      <td>0.696773</td>\n",
              "      <td>21</td>\n",
              "    </tr>\n",
              "    <tr>\n",
              "      <th>44</th>\n",
              "      <td>{'max_depth': 6, 'max_features': 0.25, 'n_esti...</td>\n",
              "      <td>0.830103</td>\n",
              "      <td>25</td>\n",
              "      <td>0.692261</td>\n",
              "      <td>49</td>\n",
              "    </tr>\n",
              "    <tr>\n",
              "      <th>45</th>\n",
              "      <td>{'max_depth': 6, 'max_features': 0.25, 'n_esti...</td>\n",
              "      <td>0.837164</td>\n",
              "      <td>3</td>\n",
              "      <td>0.698625</td>\n",
              "      <td>4</td>\n",
              "    </tr>\n",
              "    <tr>\n",
              "      <th>46</th>\n",
              "      <td>{'max_depth': 6, 'max_features': 0.25, 'n_esti...</td>\n",
              "      <td>0.842243</td>\n",
              "      <td>1</td>\n",
              "      <td>0.700513</td>\n",
              "      <td>2</td>\n",
              "    </tr>\n",
              "    <tr>\n",
              "      <th>47</th>\n",
              "      <td>{'max_depth': 6, 'max_features': 0.25, 'n_esti...</td>\n",
              "      <td>0.837164</td>\n",
              "      <td>3</td>\n",
              "      <td>0.698625</td>\n",
              "      <td>4</td>\n",
              "    </tr>\n",
              "    <tr>\n",
              "      <th>48</th>\n",
              "      <td>{'max_depth': 6, 'max_features': 0.5, 'n_estim...</td>\n",
              "      <td>0.823090</td>\n",
              "      <td>39</td>\n",
              "      <td>0.690496</td>\n",
              "      <td>51</td>\n",
              "    </tr>\n",
              "    <tr>\n",
              "      <th>49</th>\n",
              "      <td>{'max_depth': 6, 'max_features': 0.5, 'n_estim...</td>\n",
              "      <td>0.801453</td>\n",
              "      <td>64</td>\n",
              "      <td>0.688433</td>\n",
              "      <td>61</td>\n",
              "    </tr>\n",
              "    <tr>\n",
              "      <th>50</th>\n",
              "      <td>{'max_depth': 6, 'max_features': 0.5, 'n_estim...</td>\n",
              "      <td>0.792886</td>\n",
              "      <td>71</td>\n",
              "      <td>0.683833</td>\n",
              "      <td>79</td>\n",
              "    </tr>\n",
              "    <tr>\n",
              "      <th>51</th>\n",
              "      <td>{'max_depth': 6, 'max_features': 0.5, 'n_estim...</td>\n",
              "      <td>0.802675</td>\n",
              "      <td>62</td>\n",
              "      <td>0.688172</td>\n",
              "      <td>64</td>\n",
              "    </tr>\n",
              "    <tr>\n",
              "      <th>52</th>\n",
              "      <td>{'max_depth': 6, 'max_features': 0.75, 'n_esti...</td>\n",
              "      <td>0.780287</td>\n",
              "      <td>79</td>\n",
              "      <td>0.682096</td>\n",
              "      <td>80</td>\n",
              "    </tr>\n",
              "    <tr>\n",
              "      <th>53</th>\n",
              "      <td>{'max_depth': 6, 'max_features': 0.75, 'n_esti...</td>\n",
              "      <td>0.789808</td>\n",
              "      <td>74</td>\n",
              "      <td>0.683965</td>\n",
              "      <td>76</td>\n",
              "    </tr>\n",
              "    <tr>\n",
              "      <th>54</th>\n",
              "      <td>{'max_depth': 6, 'max_features': 0.75, 'n_esti...</td>\n",
              "      <td>0.802429</td>\n",
              "      <td>63</td>\n",
              "      <td>0.688360</td>\n",
              "      <td>62</td>\n",
              "    </tr>\n",
              "    <tr>\n",
              "      <th>55</th>\n",
              "      <td>{'max_depth': 6, 'max_features': 0.75, 'n_esti...</td>\n",
              "      <td>0.814812</td>\n",
              "      <td>50</td>\n",
              "      <td>0.696182</td>\n",
              "      <td>38</td>\n",
              "    </tr>\n",
              "    <tr>\n",
              "      <th>56</th>\n",
              "      <td>{'max_depth': 6, 'max_features': 1.0, 'n_estim...</td>\n",
              "      <td>0.807166</td>\n",
              "      <td>58</td>\n",
              "      <td>0.690024</td>\n",
              "      <td>58</td>\n",
              "    </tr>\n",
              "    <tr>\n",
              "      <th>57</th>\n",
              "      <td>{'max_depth': 6, 'max_features': 1.0, 'n_estim...</td>\n",
              "      <td>0.781344</td>\n",
              "      <td>78</td>\n",
              "      <td>0.686495</td>\n",
              "      <td>67</td>\n",
              "    </tr>\n",
              "    <tr>\n",
              "      <th>58</th>\n",
              "      <td>{'max_depth': 6, 'max_features': 1.0, 'n_estim...</td>\n",
              "      <td>0.774289</td>\n",
              "      <td>88</td>\n",
              "      <td>0.680017</td>\n",
              "      <td>86</td>\n",
              "    </tr>\n",
              "    <tr>\n",
              "      <th>59</th>\n",
              "      <td>{'max_depth': 6, 'max_features': 1.0, 'n_estim...</td>\n",
              "      <td>0.793246</td>\n",
              "      <td>70</td>\n",
              "      <td>0.686439</td>\n",
              "      <td>68</td>\n",
              "    </tr>\n",
              "    <tr>\n",
              "      <th>60</th>\n",
              "      <td>{'max_depth': 7, 'max_features': 'sqrt', 'n_es...</td>\n",
              "      <td>0.793891</td>\n",
              "      <td>69</td>\n",
              "      <td>0.690082</td>\n",
              "      <td>57</td>\n",
              "    </tr>\n",
              "    <tr>\n",
              "      <th>61</th>\n",
              "      <td>{'max_depth': 7, 'max_features': 'sqrt', 'n_es...</td>\n",
              "      <td>0.822334</td>\n",
              "      <td>40</td>\n",
              "      <td>0.694316</td>\n",
              "      <td>40</td>\n",
              "    </tr>\n",
              "    <tr>\n",
              "      <th>62</th>\n",
              "      <td>{'max_depth': 7, 'max_features': 'sqrt', 'n_es...</td>\n",
              "      <td>0.819594</td>\n",
              "      <td>45</td>\n",
              "      <td>0.696524</td>\n",
              "      <td>24</td>\n",
              "    </tr>\n",
              "    <tr>\n",
              "      <th>63</th>\n",
              "      <td>{'max_depth': 7, 'max_features': 'sqrt', 'n_es...</td>\n",
              "      <td>0.822334</td>\n",
              "      <td>40</td>\n",
              "      <td>0.694316</td>\n",
              "      <td>40</td>\n",
              "    </tr>\n",
              "    <tr>\n",
              "      <th>64</th>\n",
              "      <td>{'max_depth': 7, 'max_features': 0.25, 'n_esti...</td>\n",
              "      <td>0.815680</td>\n",
              "      <td>48</td>\n",
              "      <td>0.687495</td>\n",
              "      <td>66</td>\n",
              "    </tr>\n",
              "    <tr>\n",
              "      <th>65</th>\n",
              "      <td>{'max_depth': 7, 'max_features': 0.25, 'n_esti...</td>\n",
              "      <td>0.810834</td>\n",
              "      <td>54</td>\n",
              "      <td>0.689934</td>\n",
              "      <td>60</td>\n",
              "    </tr>\n",
              "    <tr>\n",
              "      <th>66</th>\n",
              "      <td>{'max_depth': 7, 'max_features': 0.25, 'n_esti...</td>\n",
              "      <td>0.837164</td>\n",
              "      <td>3</td>\n",
              "      <td>0.698625</td>\n",
              "      <td>4</td>\n",
              "    </tr>\n",
              "    <tr>\n",
              "      <th>67</th>\n",
              "      <td>{'max_depth': 7, 'max_features': 0.25, 'n_esti...</td>\n",
              "      <td>0.829203</td>\n",
              "      <td>27</td>\n",
              "      <td>0.696444</td>\n",
              "      <td>33</td>\n",
              "    </tr>\n",
              "    <tr>\n",
              "      <th>68</th>\n",
              "      <td>{'max_depth': 7, 'max_features': 0.5, 'n_estim...</td>\n",
              "      <td>0.795418</td>\n",
              "      <td>68</td>\n",
              "      <td>0.686160</td>\n",
              "      <td>69</td>\n",
              "    </tr>\n",
              "    <tr>\n",
              "      <th>69</th>\n",
              "      <td>{'max_depth': 7, 'max_features': 0.5, 'n_estim...</td>\n",
              "      <td>0.782017</td>\n",
              "      <td>77</td>\n",
              "      <td>0.684413</td>\n",
              "      <td>72</td>\n",
              "    </tr>\n",
              "    <tr>\n",
              "      <th>70</th>\n",
              "      <td>{'max_depth': 7, 'max_features': 0.5, 'n_estim...</td>\n",
              "      <td>0.776277</td>\n",
              "      <td>84</td>\n",
              "      <td>0.680274</td>\n",
              "      <td>85</td>\n",
              "    </tr>\n",
              "    <tr>\n",
              "      <th>71</th>\n",
              "      <td>{'max_depth': 7, 'max_features': 0.5, 'n_estim...</td>\n",
              "      <td>0.774877</td>\n",
              "      <td>87</td>\n",
              "      <td>0.679930</td>\n",
              "      <td>87</td>\n",
              "    </tr>\n",
              "    <tr>\n",
              "      <th>72</th>\n",
              "      <td>{'max_depth': 7, 'max_features': 0.75, 'n_esti...</td>\n",
              "      <td>0.775215</td>\n",
              "      <td>86</td>\n",
              "      <td>0.679878</td>\n",
              "      <td>89</td>\n",
              "    </tr>\n",
              "    <tr>\n",
              "      <th>73</th>\n",
              "      <td>{'max_depth': 7, 'max_features': 0.75, 'n_esti...</td>\n",
              "      <td>0.784778</td>\n",
              "      <td>76</td>\n",
              "      <td>0.683948</td>\n",
              "      <td>77</td>\n",
              "    </tr>\n",
              "    <tr>\n",
              "      <th>74</th>\n",
              "      <td>{'max_depth': 7, 'max_features': 0.75, 'n_esti...</td>\n",
              "      <td>0.778062</td>\n",
              "      <td>82</td>\n",
              "      <td>0.679771</td>\n",
              "      <td>90</td>\n",
              "    </tr>\n",
              "    <tr>\n",
              "      <th>75</th>\n",
              "      <td>{'max_depth': 7, 'max_features': 0.75, 'n_esti...</td>\n",
              "      <td>0.796339</td>\n",
              "      <td>67</td>\n",
              "      <td>0.686144</td>\n",
              "      <td>70</td>\n",
              "    </tr>\n",
              "    <tr>\n",
              "      <th>76</th>\n",
              "      <td>{'max_depth': 7, 'max_features': 1.0, 'n_estim...</td>\n",
              "      <td>0.757359</td>\n",
              "      <td>94</td>\n",
              "      <td>0.677018</td>\n",
              "      <td>92</td>\n",
              "    </tr>\n",
              "    <tr>\n",
              "      <th>77</th>\n",
              "      <td>{'max_depth': 7, 'max_features': 1.0, 'n_estim...</td>\n",
              "      <td>0.779368</td>\n",
              "      <td>81</td>\n",
              "      <td>0.681782</td>\n",
              "      <td>81</td>\n",
              "    </tr>\n",
              "    <tr>\n",
              "      <th>78</th>\n",
              "      <td>{'max_depth': 7, 'max_features': 1.0, 'n_estim...</td>\n",
              "      <td>0.754785</td>\n",
              "      <td>96</td>\n",
              "      <td>0.670087</td>\n",
              "      <td>96</td>\n",
              "    </tr>\n",
              "    <tr>\n",
              "      <th>79</th>\n",
              "      <td>{'max_depth': 7, 'max_features': 1.0, 'n_estim...</td>\n",
              "      <td>0.765329</td>\n",
              "      <td>89</td>\n",
              "      <td>0.676125</td>\n",
              "      <td>93</td>\n",
              "    </tr>\n",
              "    <tr>\n",
              "      <th>80</th>\n",
              "      <td>{'max_depth': 8, 'max_features': 'sqrt', 'n_es...</td>\n",
              "      <td>0.814123</td>\n",
              "      <td>51</td>\n",
              "      <td>0.696544</td>\n",
              "      <td>23</td>\n",
              "    </tr>\n",
              "    <tr>\n",
              "      <th>81</th>\n",
              "      <td>{'max_depth': 8, 'max_features': 'sqrt', 'n_es...</td>\n",
              "      <td>0.812725</td>\n",
              "      <td>53</td>\n",
              "      <td>0.694396</td>\n",
              "      <td>39</td>\n",
              "    </tr>\n",
              "    <tr>\n",
              "      <th>82</th>\n",
              "      <td>{'max_depth': 8, 'max_features': 'sqrt', 'n_es...</td>\n",
              "      <td>0.809231</td>\n",
              "      <td>55</td>\n",
              "      <td>0.690335</td>\n",
              "      <td>53</td>\n",
              "    </tr>\n",
              "    <tr>\n",
              "      <th>83</th>\n",
              "      <td>{'max_depth': 8, 'max_features': 'sqrt', 'n_es...</td>\n",
              "      <td>0.829203</td>\n",
              "      <td>27</td>\n",
              "      <td>0.696444</td>\n",
              "      <td>33</td>\n",
              "    </tr>\n",
              "    <tr>\n",
              "      <th>84</th>\n",
              "      <td>{'max_depth': 8, 'max_features': 0.25, 'n_esti...</td>\n",
              "      <td>0.789949</td>\n",
              "      <td>73</td>\n",
              "      <td>0.684377</td>\n",
              "      <td>73</td>\n",
              "    </tr>\n",
              "    <tr>\n",
              "      <th>85</th>\n",
              "      <td>{'max_depth': 8, 'max_features': 0.25, 'n_esti...</td>\n",
              "      <td>0.779699</td>\n",
              "      <td>80</td>\n",
              "      <td>0.680519</td>\n",
              "      <td>84</td>\n",
              "    </tr>\n",
              "    <tr>\n",
              "      <th>86</th>\n",
              "      <td>{'max_depth': 8, 'max_features': 0.25, 'n_esti...</td>\n",
              "      <td>0.809231</td>\n",
              "      <td>55</td>\n",
              "      <td>0.690335</td>\n",
              "      <td>53</td>\n",
              "    </tr>\n",
              "    <tr>\n",
              "      <th>87</th>\n",
              "      <td>{'max_depth': 8, 'max_features': 0.25, 'n_esti...</td>\n",
              "      <td>0.800828</td>\n",
              "      <td>66</td>\n",
              "      <td>0.688326</td>\n",
              "      <td>63</td>\n",
              "    </tr>\n",
              "    <tr>\n",
              "      <th>88</th>\n",
              "      <td>{'max_depth': 8, 'max_features': 0.5, 'n_estim...</td>\n",
              "      <td>0.760593</td>\n",
              "      <td>92</td>\n",
              "      <td>0.679915</td>\n",
              "      <td>88</td>\n",
              "    </tr>\n",
              "    <tr>\n",
              "      <th>89</th>\n",
              "      <td>{'max_depth': 8, 'max_features': 0.5, 'n_estim...</td>\n",
              "      <td>0.762110</td>\n",
              "      <td>90</td>\n",
              "      <td>0.678433</td>\n",
              "      <td>91</td>\n",
              "    </tr>\n",
              "    <tr>\n",
              "      <th>90</th>\n",
              "      <td>{'max_depth': 8, 'max_features': 0.5, 'n_estim...</td>\n",
              "      <td>0.791163</td>\n",
              "      <td>72</td>\n",
              "      <td>0.684081</td>\n",
              "      <td>75</td>\n",
              "    </tr>\n",
              "    <tr>\n",
              "      <th>91</th>\n",
              "      <td>{'max_depth': 8, 'max_features': 0.5, 'n_estim...</td>\n",
              "      <td>0.757878</td>\n",
              "      <td>93</td>\n",
              "      <td>0.672647</td>\n",
              "      <td>95</td>\n",
              "    </tr>\n",
              "    <tr>\n",
              "      <th>92</th>\n",
              "      <td>{'max_depth': 8, 'max_features': 0.75, 'n_esti...</td>\n",
              "      <td>0.727576</td>\n",
              "      <td>99</td>\n",
              "      <td>0.668946</td>\n",
              "      <td>98</td>\n",
              "    </tr>\n",
              "    <tr>\n",
              "      <th>93</th>\n",
              "      <td>{'max_depth': 8, 'max_features': 0.75, 'n_esti...</td>\n",
              "      <td>0.777304</td>\n",
              "      <td>83</td>\n",
              "      <td>0.683920</td>\n",
              "      <td>78</td>\n",
              "    </tr>\n",
              "    <tr>\n",
              "      <th>94</th>\n",
              "      <td>{'max_depth': 8, 'max_features': 0.75, 'n_esti...</td>\n",
              "      <td>0.761305</td>\n",
              "      <td>91</td>\n",
              "      <td>0.675977</td>\n",
              "      <td>94</td>\n",
              "    </tr>\n",
              "    <tr>\n",
              "      <th>95</th>\n",
              "      <td>{'max_depth': 8, 'max_features': 0.75, 'n_esti...</td>\n",
              "      <td>0.775243</td>\n",
              "      <td>85</td>\n",
              "      <td>0.680639</td>\n",
              "      <td>83</td>\n",
              "    </tr>\n",
              "    <tr>\n",
              "      <th>96</th>\n",
              "      <td>{'max_depth': 8, 'max_features': 1.0, 'n_estim...</td>\n",
              "      <td>0.720719</td>\n",
              "      <td>100</td>\n",
              "      <td>0.663126</td>\n",
              "      <td>100</td>\n",
              "    </tr>\n",
              "    <tr>\n",
              "      <th>97</th>\n",
              "      <td>{'max_depth': 8, 'max_features': 1.0, 'n_estim...</td>\n",
              "      <td>0.729777</td>\n",
              "      <td>98</td>\n",
              "      <td>0.666121</td>\n",
              "      <td>99</td>\n",
              "    </tr>\n",
              "    <tr>\n",
              "      <th>98</th>\n",
              "      <td>{'max_depth': 8, 'max_features': 1.0, 'n_estim...</td>\n",
              "      <td>0.744553</td>\n",
              "      <td>97</td>\n",
              "      <td>0.670043</td>\n",
              "      <td>97</td>\n",
              "    </tr>\n",
              "    <tr>\n",
              "      <th>99</th>\n",
              "      <td>{'max_depth': 8, 'max_features': 1.0, 'n_estim...</td>\n",
              "      <td>0.756715</td>\n",
              "      <td>95</td>\n",
              "      <td>0.680660</td>\n",
              "      <td>82</td>\n",
              "    </tr>\n",
              "  </tbody>\n",
              "</table>\n",
              "</div>\n",
              "      <button class=\"colab-df-convert\" onclick=\"convertToInteractive('df-f688d263-9a28-473b-8258-1f351f9f5e2d')\"\n",
              "              title=\"Convert this dataframe to an interactive table.\"\n",
              "              style=\"display:none;\">\n",
              "        \n",
              "  <svg xmlns=\"http://www.w3.org/2000/svg\" height=\"24px\"viewBox=\"0 0 24 24\"\n",
              "       width=\"24px\">\n",
              "    <path d=\"M0 0h24v24H0V0z\" fill=\"none\"/>\n",
              "    <path d=\"M18.56 5.44l.94 2.06.94-2.06 2.06-.94-2.06-.94-.94-2.06-.94 2.06-2.06.94zm-11 1L8.5 8.5l.94-2.06 2.06-.94-2.06-.94L8.5 2.5l-.94 2.06-2.06.94zm10 10l.94 2.06.94-2.06 2.06-.94-2.06-.94-.94-2.06-.94 2.06-2.06.94z\"/><path d=\"M17.41 7.96l-1.37-1.37c-.4-.4-.92-.59-1.43-.59-.52 0-1.04.2-1.43.59L10.3 9.45l-7.72 7.72c-.78.78-.78 2.05 0 2.83L4 21.41c.39.39.9.59 1.41.59.51 0 1.02-.2 1.41-.59l7.78-7.78 2.81-2.81c.8-.78.8-2.07 0-2.86zM5.41 20L4 18.59l7.72-7.72 1.47 1.35L5.41 20z\"/>\n",
              "  </svg>\n",
              "      </button>\n",
              "      \n",
              "  <style>\n",
              "    .colab-df-container {\n",
              "      display:flex;\n",
              "      flex-wrap:wrap;\n",
              "      gap: 12px;\n",
              "    }\n",
              "\n",
              "    .colab-df-convert {\n",
              "      background-color: #E8F0FE;\n",
              "      border: none;\n",
              "      border-radius: 50%;\n",
              "      cursor: pointer;\n",
              "      display: none;\n",
              "      fill: #1967D2;\n",
              "      height: 32px;\n",
              "      padding: 0 0 0 0;\n",
              "      width: 32px;\n",
              "    }\n",
              "\n",
              "    .colab-df-convert:hover {\n",
              "      background-color: #E2EBFA;\n",
              "      box-shadow: 0px 1px 2px rgba(60, 64, 67, 0.3), 0px 1px 3px 1px rgba(60, 64, 67, 0.15);\n",
              "      fill: #174EA6;\n",
              "    }\n",
              "\n",
              "    [theme=dark] .colab-df-convert {\n",
              "      background-color: #3B4455;\n",
              "      fill: #D2E3FC;\n",
              "    }\n",
              "\n",
              "    [theme=dark] .colab-df-convert:hover {\n",
              "      background-color: #434B5C;\n",
              "      box-shadow: 0px 1px 3px 1px rgba(0, 0, 0, 0.15);\n",
              "      filter: drop-shadow(0px 1px 2px rgba(0, 0, 0, 0.3));\n",
              "      fill: #FFFFFF;\n",
              "    }\n",
              "  </style>\n",
              "\n",
              "      <script>\n",
              "        const buttonEl =\n",
              "          document.querySelector('#df-f688d263-9a28-473b-8258-1f351f9f5e2d button.colab-df-convert');\n",
              "        buttonEl.style.display =\n",
              "          google.colab.kernel.accessAllowed ? 'block' : 'none';\n",
              "\n",
              "        async function convertToInteractive(key) {\n",
              "          const element = document.querySelector('#df-f688d263-9a28-473b-8258-1f351f9f5e2d');\n",
              "          const dataTable =\n",
              "            await google.colab.kernel.invokeFunction('convertToInteractive',\n",
              "                                                     [key], {});\n",
              "          if (!dataTable) return;\n",
              "\n",
              "          const docLinkHtml = 'Like what you see? Visit the ' +\n",
              "            '<a target=\"_blank\" href=https://colab.research.google.com/notebooks/data_table.ipynb>data table notebook</a>'\n",
              "            + ' to learn more about interactive tables.';\n",
              "          element.innerHTML = '';\n",
              "          dataTable['output_type'] = 'display_data';\n",
              "          await google.colab.output.renderOutput(dataTable, element);\n",
              "          const docLink = document.createElement('div');\n",
              "          docLink.innerHTML = docLinkHtml;\n",
              "          element.appendChild(docLink);\n",
              "        }\n",
              "      </script>\n",
              "    </div>\n",
              "  </div>\n",
              "  "
            ]
          },
          "metadata": {},
          "execution_count": 278
        }
      ]
    },
    {
      "cell_type": "code",
      "source": [
        "grid_search_rfc.best_score_\n"
      ],
      "metadata": {
        "colab": {
          "base_uri": "https://localhost:8080/"
        },
        "id": "xGkUk8FRMq0s",
        "outputId": "31bec347-760c-42ca-8ce6-8c777bd2c8c8"
      },
      "execution_count": null,
      "outputs": [
        {
          "output_type": "execute_result",
          "data": {
            "text/plain": [
              "0.7026141657479685"
            ]
          },
          "metadata": {},
          "execution_count": 279
        }
      ]
    },
    {
      "cell_type": "markdown",
      "source": [
        "that score of course regarding f1 metric"
      ],
      "metadata": {
        "id": "oVFEr5uKSBo5"
      }
    },
    {
      "cell_type": "markdown",
      "source": [
        "let see now parameters of first ranked based on precision"
      ],
      "metadata": {
        "id": "xfHQWfoPXLjf"
      }
    },
    {
      "cell_type": "code",
      "source": [
        "df.iloc[46,0]"
      ],
      "metadata": {
        "colab": {
          "base_uri": "https://localhost:8080/"
        },
        "id": "zzhKwAAlVxjq",
        "outputId": "31db2686-95a1-4564-ac41-c424320dc7d8"
      },
      "execution_count": null,
      "outputs": [
        {
          "output_type": "execute_result",
          "data": {
            "text/plain": [
              "{'max_depth': 6, 'max_features': 0.25, 'n_estimators': 80}"
            ]
          },
          "metadata": {},
          "execution_count": 284
        }
      ]
    },
    {
      "cell_type": "code",
      "source": [
        "rf = RandomForestClassifier(random_state=42, n_jobs=-1,max_depth = 6, max_features = 0.25, n_estimators= 80)\n",
        "rf.fit(x_train,y_train)"
      ],
      "metadata": {
        "colab": {
          "base_uri": "https://localhost:8080/"
        },
        "id": "wYai9DBXXRFq",
        "outputId": "19b2a3d4-3854-4476-958c-5060e54e7921"
      },
      "execution_count": null,
      "outputs": [
        {
          "output_type": "execute_result",
          "data": {
            "text/plain": [
              "RandomForestClassifier(max_depth=6, max_features=0.25, n_estimators=80,\n",
              "                       n_jobs=-1, random_state=42)"
            ]
          },
          "metadata": {},
          "execution_count": 286
        }
      ]
    },
    {
      "cell_type": "code",
      "source": [
        "pred = rf.predict(x_test)"
      ],
      "metadata": {
        "id": "G6qQiGJ6bRnP"
      },
      "execution_count": null,
      "outputs": []
    },
    {
      "cell_type": "code",
      "source": [
        "cm = confusion_matrix(y_test, pred)\n",
        "class_names=[0,1] # name  of classes\n",
        "fig, ax = plt.subplots()\n",
        "tick_marks = np.arange(len(class_names))\n",
        "plt.xticks(tick_marks, class_names)\n",
        "plt.yticks(tick_marks, class_names)\n",
        "# create heatmap\n",
        "sns.heatmap(cm, annot=True)\n",
        "ax.xaxis.set_label_position(\"top\")\n",
        "#plt.tight_layout()\n",
        "plt.title('Confusion matrix', y=1.1)\n",
        "plt.ylabel('Actual label')\n",
        "plt.xlabel('Predicted label')"
      ],
      "metadata": {
        "colab": {
          "base_uri": "https://localhost:8080/",
          "height": 311
        },
        "id": "L22DFg26b1BO",
        "outputId": "34f41157-eef9-471f-a4f0-900e639afd4c"
      },
      "execution_count": null,
      "outputs": [
        {
          "output_type": "execute_result",
          "data": {
            "text/plain": [
              "Text(0.5, 15.0, 'Predicted label')"
            ]
          },
          "metadata": {},
          "execution_count": 289
        },
        {
          "output_type": "display_data",
          "data": {
            "text/plain": [
              "<Figure size 432x288 with 2 Axes>"
            ],
            "image/png": "[encoded data removed]"
          },
          "metadata": {
            "needs_background": "light"
          }
        }
      ]
    }
  ]
}