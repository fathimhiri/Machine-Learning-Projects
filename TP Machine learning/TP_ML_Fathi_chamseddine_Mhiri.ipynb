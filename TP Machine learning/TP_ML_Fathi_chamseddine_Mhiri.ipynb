{
  "cells": [
    {
      "cell_type": "code",
      "execution_count": 42,
      "id": "a6b0a3a3",
      "metadata": {
        "id": "a6b0a3a3"
      },
      "outputs": [],
      "source": [
        "import numpy as np\n",
        "import pandas as pd \n",
        "\n",
        "from sklearn.model_selection import train_test_split\n",
        "from sklearn.neighbors import KNeighborsClassifier\n",
        "from sklearn.ensemble import RandomForestClassifier\n",
        "from sklearn.linear_model import LogisticRegression"
      ]
    },
    {
      "cell_type": "code",
      "execution_count": 43,
      "id": "8abfd430",
      "metadata": {
        "id": "8abfd430"
      },
      "outputs": [],
      "source": [
        "df= pd.read_csv(\"/content/kidney_disease.csv\")"
      ]
    },
    {
      "cell_type": "code",
      "execution_count": 44,
      "id": "6875bd25",
      "metadata": {
        "colab": {
          "base_uri": "https://localhost:8080/",
          "height": 204
        },
        "id": "6875bd25",
        "outputId": "53ca5001-75fa-4973-b4d0-7243f6bcf0b5"
      },
      "outputs": [
        {
          "output_type": "execute_result",
          "data": {
            "text/plain": [
              "   id   age    bp     sg   al   su     rbc        pc         pcc          ba  \\\n",
              "0   0  48.0  80.0  1.020  1.0  0.0     NaN    normal  notpresent  notpresent   \n",
              "1   1   7.0  50.0  1.020  4.0  0.0     NaN    normal  notpresent  notpresent   \n",
              "2   2  62.0  80.0  1.010  2.0  3.0  normal    normal  notpresent  notpresent   \n",
              "3   3  48.0  70.0  1.005  4.0  0.0  normal  abnormal     present  notpresent   \n",
              "\n",
              "   ...  pcv    wc   rc  htn   dm  cad appet   pe  ane classification  \n",
              "0  ...   44  7800  5.2  yes  yes   no  good   no   no            ckd  \n",
              "1  ...   38  6000  NaN   no   no   no  good   no   no            ckd  \n",
              "2  ...   31  7500  NaN   no  yes   no  poor   no  yes            ckd  \n",
              "3  ...   32  6700  3.9  yes   no   no  poor  yes  yes            ckd  \n",
              "\n",
              "[4 rows x 26 columns]"
            ],
            "text/html": [
              "\n",
              "  <div id=\"df-722163f6-1fdf-4eaa-8193-e7ddaa8e0b50\">\n",
              "    <div class=\"colab-df-container\">\n",
              "      <div>\n",
              "<style scoped>\n",
              "    .dataframe tbody tr th:only-of-type {\n",
              "        vertical-align: middle;\n",
              "    }\n",
              "\n",
              "    .dataframe tbody tr th {\n",
              "        vertical-align: top;\n",
              "    }\n",
              "\n",
              "    .dataframe thead th {\n",
              "        text-align: right;\n",
              "    }\n",
              "</style>\n",
              "<table border=\"1\" class=\"dataframe\">\n",
              "  <thead>\n",
              "    <tr style=\"text-align: right;\">\n",
              "      <th></th>\n",
              "      <th>id</th>\n",
              "      <th>age</th>\n",
              "      <th>bp</th>\n",
              "      <th>sg</th>\n",
              "      <th>al</th>\n",
              "      <th>su</th>\n",
              "      <th>rbc</th>\n",
              "      <th>pc</th>\n",
              "      <th>pcc</th>\n",
              "      <th>ba</th>\n",
              "      <th>...</th>\n",
              "      <th>pcv</th>\n",
              "      <th>wc</th>\n",
              "      <th>rc</th>\n",
              "      <th>htn</th>\n",
              "      <th>dm</th>\n",
              "      <th>cad</th>\n",
              "      <th>appet</th>\n",
              "      <th>pe</th>\n",
              "      <th>ane</th>\n",
              "      <th>classification</th>\n",
              "    </tr>\n",
              "  </thead>\n",
              "  <tbody>\n",
              "    <tr>\n",
              "      <th>0</th>\n",
              "      <td>0</td>\n",
              "      <td>48.0</td>\n",
              "      <td>80.0</td>\n",
              "      <td>1.020</td>\n",
              "      <td>1.0</td>\n",
              "      <td>0.0</td>\n",
              "      <td>NaN</td>\n",
              "      <td>normal</td>\n",
              "      <td>notpresent</td>\n",
              "      <td>notpresent</td>\n",
              "      <td>...</td>\n",
              "      <td>44</td>\n",
              "      <td>7800</td>\n",
              "      <td>5.2</td>\n",
              "      <td>yes</td>\n",
              "      <td>yes</td>\n",
              "      <td>no</td>\n",
              "      <td>good</td>\n",
              "      <td>no</td>\n",
              "      <td>no</td>\n",
              "      <td>ckd</td>\n",
              "    </tr>\n",
              "    <tr>\n",
              "      <th>1</th>\n",
              "      <td>1</td>\n",
              "      <td>7.0</td>\n",
              "      <td>50.0</td>\n",
              "      <td>1.020</td>\n",
              "      <td>4.0</td>\n",
              "      <td>0.0</td>\n",
              "      <td>NaN</td>\n",
              "      <td>normal</td>\n",
              "      <td>notpresent</td>\n",
              "      <td>notpresent</td>\n",
              "      <td>...</td>\n",
              "      <td>38</td>\n",
              "      <td>6000</td>\n",
              "      <td>NaN</td>\n",
              "      <td>no</td>\n",
              "      <td>no</td>\n",
              "      <td>no</td>\n",
              "      <td>good</td>\n",
              "      <td>no</td>\n",
              "      <td>no</td>\n",
              "      <td>ckd</td>\n",
              "    </tr>\n",
              "    <tr>\n",
              "      <th>2</th>\n",
              "      <td>2</td>\n",
              "      <td>62.0</td>\n",
              "      <td>80.0</td>\n",
              "      <td>1.010</td>\n",
              "      <td>2.0</td>\n",
              "      <td>3.0</td>\n",
              "      <td>normal</td>\n",
              "      <td>normal</td>\n",
              "      <td>notpresent</td>\n",
              "      <td>notpresent</td>\n",
              "      <td>...</td>\n",
              "      <td>31</td>\n",
              "      <td>7500</td>\n",
              "      <td>NaN</td>\n",
              "      <td>no</td>\n",
              "      <td>yes</td>\n",
              "      <td>no</td>\n",
              "      <td>poor</td>\n",
              "      <td>no</td>\n",
              "      <td>yes</td>\n",
              "      <td>ckd</td>\n",
              "    </tr>\n",
              "    <tr>\n",
              "      <th>3</th>\n",
              "      <td>3</td>\n",
              "      <td>48.0</td>\n",
              "      <td>70.0</td>\n",
              "      <td>1.005</td>\n",
              "      <td>4.0</td>\n",
              "      <td>0.0</td>\n",
              "      <td>normal</td>\n",
              "      <td>abnormal</td>\n",
              "      <td>present</td>\n",
              "      <td>notpresent</td>\n",
              "      <td>...</td>\n",
              "      <td>32</td>\n",
              "      <td>6700</td>\n",
              "      <td>3.9</td>\n",
              "      <td>yes</td>\n",
              "      <td>no</td>\n",
              "      <td>no</td>\n",
              "      <td>poor</td>\n",
              "      <td>yes</td>\n",
              "      <td>yes</td>\n",
              "      <td>ckd</td>\n",
              "    </tr>\n",
              "  </tbody>\n",
              "</table>\n",
              "<p>4 rows × 26 columns</p>\n",
              "</div>\n",
              "      <button class=\"colab-df-convert\" onclick=\"convertToInteractive('df-722163f6-1fdf-4eaa-8193-e7ddaa8e0b50')\"\n",
              "              title=\"Convert this dataframe to an interactive table.\"\n",
              "              style=\"display:none;\">\n",
              "        \n",
              "  <svg xmlns=\"http://www.w3.org/2000/svg\" height=\"24px\"viewBox=\"0 0 24 24\"\n",
              "       width=\"24px\">\n",
              "    <path d=\"M0 0h24v24H0V0z\" fill=\"none\"/>\n",
              "    <path d=\"M18.56 5.44l.94 2.06.94-2.06 2.06-.94-2.06-.94-.94-2.06-.94 2.06-2.06.94zm-11 1L8.5 8.5l.94-2.06 2.06-.94-2.06-.94L8.5 2.5l-.94 2.06-2.06.94zm10 10l.94 2.06.94-2.06 2.06-.94-2.06-.94-.94-2.06-.94 2.06-2.06.94z\"/><path d=\"M17.41 7.96l-1.37-1.37c-.4-.4-.92-.59-1.43-.59-.52 0-1.04.2-1.43.59L10.3 9.45l-7.72 7.72c-.78.78-.78 2.05 0 2.83L4 21.41c.39.39.9.59 1.41.59.51 0 1.02-.2 1.41-.59l7.78-7.78 2.81-2.81c.8-.78.8-2.07 0-2.86zM5.41 20L4 18.59l7.72-7.72 1.47 1.35L5.41 20z\"/>\n",
              "  </svg>\n",
              "      </button>\n",
              "      \n",
              "  <style>\n",
              "    .colab-df-container {\n",
              "      display:flex;\n",
              "      flex-wrap:wrap;\n",
              "      gap: 12px;\n",
              "    }\n",
              "\n",
              "    .colab-df-convert {\n",
              "      background-color: #E8F0FE;\n",
              "      border: none;\n",
              "      border-radius: 50%;\n",
              "      cursor: pointer;\n",
              "      display: none;\n",
              "      fill: #1967D2;\n",
              "      height: 32px;\n",
              "      padding: 0 0 0 0;\n",
              "      width: 32px;\n",
              "    }\n",
              "\n",
              "    .colab-df-convert:hover {\n",
              "      background-color: #E2EBFA;\n",
              "      box-shadow: 0px 1px 2px rgba(60, 64, 67, 0.3), 0px 1px 3px 1px rgba(60, 64, 67, 0.15);\n",
              "      fill: #174EA6;\n",
              "    }\n",
              "\n",
              "    [theme=dark] .colab-df-convert {\n",
              "      background-color: #3B4455;\n",
              "      fill: #D2E3FC;\n",
              "    }\n",
              "\n",
              "    [theme=dark] .colab-df-convert:hover {\n",
              "      background-color: #434B5C;\n",
              "      box-shadow: 0px 1px 3px 1px rgba(0, 0, 0, 0.15);\n",
              "      filter: drop-shadow(0px 1px 2px rgba(0, 0, 0, 0.3));\n",
              "      fill: #FFFFFF;\n",
              "    }\n",
              "  </style>\n",
              "\n",
              "      <script>\n",
              "        const buttonEl =\n",
              "          document.querySelector('#df-722163f6-1fdf-4eaa-8193-e7ddaa8e0b50 button.colab-df-convert');\n",
              "        buttonEl.style.display =\n",
              "          google.colab.kernel.accessAllowed ? 'block' : 'none';\n",
              "\n",
              "        async function convertToInteractive(key) {\n",
              "          const element = document.querySelector('#df-722163f6-1fdf-4eaa-8193-e7ddaa8e0b50');\n",
              "          const dataTable =\n",
              "            await google.colab.kernel.invokeFunction('convertToInteractive',\n",
              "                                                     [key], {});\n",
              "          if (!dataTable) return;\n",
              "\n",
              "          const docLinkHtml = 'Like what you see? Visit the ' +\n",
              "            '<a target=\"_blank\" href=https://colab.research.google.com/notebooks/data_table.ipynb>data table notebook</a>'\n",
              "            + ' to learn more about interactive tables.';\n",
              "          element.innerHTML = '';\n",
              "          dataTable['output_type'] = 'display_data';\n",
              "          await google.colab.output.renderOutput(dataTable, element);\n",
              "          const docLink = document.createElement('div');\n",
              "          docLink.innerHTML = docLinkHtml;\n",
              "          element.appendChild(docLink);\n",
              "        }\n",
              "      </script>\n",
              "    </div>\n",
              "  </div>\n",
              "  "
            ]
          },
          "metadata": {},
          "execution_count": 44
        }
      ],
      "source": [
        "df.head(4)"
      ]
    },
    {
      "cell_type": "code",
      "execution_count": 45,
      "id": "00533b96",
      "metadata": {
        "id": "00533b96"
      },
      "outputs": [],
      "source": [
        "df = df.sample(frac = 1).reset_index(drop=True)"
      ]
    },
    {
      "cell_type": "code",
      "execution_count": 46,
      "id": "7ee43906",
      "metadata": {
        "colab": {
          "base_uri": "https://localhost:8080/"
        },
        "id": "7ee43906",
        "outputId": "f1e9edfa-6f0e-4203-f376-4faa35e695ff"
      },
      "outputs": [
        {
          "output_type": "execute_result",
          "data": {
            "text/plain": [
              "(400, 26)"
            ]
          },
          "metadata": {},
          "execution_count": 46
        }
      ],
      "source": [
        "df.shape"
      ]
    },
    {
      "cell_type": "code",
      "execution_count": 47,
      "id": "04104535",
      "metadata": {
        "colab": {
          "base_uri": "https://localhost:8080/"
        },
        "id": "04104535",
        "outputId": "a2b7e694-7602-410c-d29a-81fa39b1ae60"
      },
      "outputs": [
        {
          "output_type": "execute_result",
          "data": {
            "text/plain": [
              "id                  0\n",
              "age                 9\n",
              "bp                 12\n",
              "sg                 47\n",
              "al                 46\n",
              "su                 49\n",
              "rbc               152\n",
              "pc                 65\n",
              "pcc                 4\n",
              "ba                  4\n",
              "bgr                44\n",
              "bu                 19\n",
              "sc                 17\n",
              "sod                87\n",
              "pot                88\n",
              "hemo               52\n",
              "pcv                70\n",
              "wc                105\n",
              "rc                130\n",
              "htn                 2\n",
              "dm                  2\n",
              "cad                 2\n",
              "appet               1\n",
              "pe                  1\n",
              "ane                 1\n",
              "classification      0\n",
              "dtype: int64"
            ]
          },
          "metadata": {},
          "execution_count": 47
        }
      ],
      "source": [
        "df.isna().sum()"
      ]
    },
    {
      "cell_type": "code",
      "execution_count": 48,
      "id": "87e742e3",
      "metadata": {
        "colab": {
          "base_uri": "https://localhost:8080/",
          "height": 344
        },
        "id": "87e742e3",
        "outputId": "47bee378-0126-49d1-dc24-ce0269cd1499"
      },
      "outputs": [
        {
          "output_type": "execute_result",
          "data": {
            "text/plain": [
              "               id         age          bp          sg          al          su  \\\n",
              "count  400.000000  391.000000  388.000000  353.000000  354.000000  351.000000   \n",
              "mean   199.500000   51.483376   76.469072    1.017408    1.016949    0.450142   \n",
              "std    115.614301   17.169714   13.683637    0.005717    1.352679    1.099191   \n",
              "min      0.000000    2.000000   50.000000    1.005000    0.000000    0.000000   \n",
              "25%     99.750000   42.000000   70.000000    1.010000    0.000000    0.000000   \n",
              "50%    199.500000   55.000000   80.000000    1.020000    0.000000    0.000000   \n",
              "75%    299.250000   64.500000   80.000000    1.020000    2.000000    0.000000   \n",
              "max    399.000000   90.000000  180.000000    1.025000    5.000000    5.000000   \n",
              "\n",
              "              bgr          bu          sc         sod         pot        hemo  \n",
              "count  356.000000  381.000000  383.000000  313.000000  312.000000  348.000000  \n",
              "mean   148.036517   57.425722    3.072454  137.528754    4.627244   12.526437  \n",
              "std     79.281714   50.503006    5.741126   10.408752    3.193904    2.912587  \n",
              "min     22.000000    1.500000    0.400000    4.500000    2.500000    3.100000  \n",
              "25%     99.000000   27.000000    0.900000  135.000000    3.800000   10.300000  \n",
              "50%    121.000000   42.000000    1.300000  138.000000    4.400000   12.650000  \n",
              "75%    163.000000   66.000000    2.800000  142.000000    4.900000   15.000000  \n",
              "max    490.000000  391.000000   76.000000  163.000000   47.000000   17.800000  "
            ],
            "text/html": [
              "\n",
              "  <div id=\"df-10f05c72-e357-4277-98ea-97d44c323ae0\">\n",
              "    <div class=\"colab-df-container\">\n",
              "      <div>\n",
              "<style scoped>\n",
              "    .dataframe tbody tr th:only-of-type {\n",
              "        vertical-align: middle;\n",
              "    }\n",
              "\n",
              "    .dataframe tbody tr th {\n",
              "        vertical-align: top;\n",
              "    }\n",
              "\n",
              "    .dataframe thead th {\n",
              "        text-align: right;\n",
              "    }\n",
              "</style>\n",
              "<table border=\"1\" class=\"dataframe\">\n",
              "  <thead>\n",
              "    <tr style=\"text-align: right;\">\n",
              "      <th></th>\n",
              "      <th>id</th>\n",
              "      <th>age</th>\n",
              "      <th>bp</th>\n",
              "      <th>sg</th>\n",
              "      <th>al</th>\n",
              "      <th>su</th>\n",
              "      <th>bgr</th>\n",
              "      <th>bu</th>\n",
              "      <th>sc</th>\n",
              "      <th>sod</th>\n",
              "      <th>pot</th>\n",
              "      <th>hemo</th>\n",
              "    </tr>\n",
              "  </thead>\n",
              "  <tbody>\n",
              "    <tr>\n",
              "      <th>count</th>\n",
              "      <td>400.000000</td>\n",
              "      <td>391.000000</td>\n",
              "      <td>388.000000</td>\n",
              "      <td>353.000000</td>\n",
              "      <td>354.000000</td>\n",
              "      <td>351.000000</td>\n",
              "      <td>356.000000</td>\n",
              "      <td>381.000000</td>\n",
              "      <td>383.000000</td>\n",
              "      <td>313.000000</td>\n",
              "      <td>312.000000</td>\n",
              "      <td>348.000000</td>\n",
              "    </tr>\n",
              "    <tr>\n",
              "      <th>mean</th>\n",
              "      <td>199.500000</td>\n",
              "      <td>51.483376</td>\n",
              "      <td>76.469072</td>\n",
              "      <td>1.017408</td>\n",
              "      <td>1.016949</td>\n",
              "      <td>0.450142</td>\n",
              "      <td>148.036517</td>\n",
              "      <td>57.425722</td>\n",
              "      <td>3.072454</td>\n",
              "      <td>137.528754</td>\n",
              "      <td>4.627244</td>\n",
              "      <td>12.526437</td>\n",
              "    </tr>\n",
              "    <tr>\n",
              "      <th>std</th>\n",
              "      <td>115.614301</td>\n",
              "      <td>17.169714</td>\n",
              "      <td>13.683637</td>\n",
              "      <td>0.005717</td>\n",
              "      <td>1.352679</td>\n",
              "      <td>1.099191</td>\n",
              "      <td>79.281714</td>\n",
              "      <td>50.503006</td>\n",
              "      <td>5.741126</td>\n",
              "      <td>10.408752</td>\n",
              "      <td>3.193904</td>\n",
              "      <td>2.912587</td>\n",
              "    </tr>\n",
              "    <tr>\n",
              "      <th>min</th>\n",
              "      <td>0.000000</td>\n",
              "      <td>2.000000</td>\n",
              "      <td>50.000000</td>\n",
              "      <td>1.005000</td>\n",
              "      <td>0.000000</td>\n",
              "      <td>0.000000</td>\n",
              "      <td>22.000000</td>\n",
              "      <td>1.500000</td>\n",
              "      <td>0.400000</td>\n",
              "      <td>4.500000</td>\n",
              "      <td>2.500000</td>\n",
              "      <td>3.100000</td>\n",
              "    </tr>\n",
              "    <tr>\n",
              "      <th>25%</th>\n",
              "      <td>99.750000</td>\n",
              "      <td>42.000000</td>\n",
              "      <td>70.000000</td>\n",
              "      <td>1.010000</td>\n",
              "      <td>0.000000</td>\n",
              "      <td>0.000000</td>\n",
              "      <td>99.000000</td>\n",
              "      <td>27.000000</td>\n",
              "      <td>0.900000</td>\n",
              "      <td>135.000000</td>\n",
              "      <td>3.800000</td>\n",
              "      <td>10.300000</td>\n",
              "    </tr>\n",
              "    <tr>\n",
              "      <th>50%</th>\n",
              "      <td>199.500000</td>\n",
              "      <td>55.000000</td>\n",
              "      <td>80.000000</td>\n",
              "      <td>1.020000</td>\n",
              "      <td>0.000000</td>\n",
              "      <td>0.000000</td>\n",
              "      <td>121.000000</td>\n",
              "      <td>42.000000</td>\n",
              "      <td>1.300000</td>\n",
              "      <td>138.000000</td>\n",
              "      <td>4.400000</td>\n",
              "      <td>12.650000</td>\n",
              "    </tr>\n",
              "    <tr>\n",
              "      <th>75%</th>\n",
              "      <td>299.250000</td>\n",
              "      <td>64.500000</td>\n",
              "      <td>80.000000</td>\n",
              "      <td>1.020000</td>\n",
              "      <td>2.000000</td>\n",
              "      <td>0.000000</td>\n",
              "      <td>163.000000</td>\n",
              "      <td>66.000000</td>\n",
              "      <td>2.800000</td>\n",
              "      <td>142.000000</td>\n",
              "      <td>4.900000</td>\n",
              "      <td>15.000000</td>\n",
              "    </tr>\n",
              "    <tr>\n",
              "      <th>max</th>\n",
              "      <td>399.000000</td>\n",
              "      <td>90.000000</td>\n",
              "      <td>180.000000</td>\n",
              "      <td>1.025000</td>\n",
              "      <td>5.000000</td>\n",
              "      <td>5.000000</td>\n",
              "      <td>490.000000</td>\n",
              "      <td>391.000000</td>\n",
              "      <td>76.000000</td>\n",
              "      <td>163.000000</td>\n",
              "      <td>47.000000</td>\n",
              "      <td>17.800000</td>\n",
              "    </tr>\n",
              "  </tbody>\n",
              "</table>\n",
              "</div>\n",
              "      <button class=\"colab-df-convert\" onclick=\"convertToInteractive('df-10f05c72-e357-4277-98ea-97d44c323ae0')\"\n",
              "              title=\"Convert this dataframe to an interactive table.\"\n",
              "              style=\"display:none;\">\n",
              "        \n",
              "  <svg xmlns=\"http://www.w3.org/2000/svg\" height=\"24px\"viewBox=\"0 0 24 24\"\n",
              "       width=\"24px\">\n",
              "    <path d=\"M0 0h24v24H0V0z\" fill=\"none\"/>\n",
              "    <path d=\"M18.56 5.44l.94 2.06.94-2.06 2.06-.94-2.06-.94-.94-2.06-.94 2.06-2.06.94zm-11 1L8.5 8.5l.94-2.06 2.06-.94-2.06-.94L8.5 2.5l-.94 2.06-2.06.94zm10 10l.94 2.06.94-2.06 2.06-.94-2.06-.94-.94-2.06-.94 2.06-2.06.94z\"/><path d=\"M17.41 7.96l-1.37-1.37c-.4-.4-.92-.59-1.43-.59-.52 0-1.04.2-1.43.59L10.3 9.45l-7.72 7.72c-.78.78-.78 2.05 0 2.83L4 21.41c.39.39.9.59 1.41.59.51 0 1.02-.2 1.41-.59l7.78-7.78 2.81-2.81c.8-.78.8-2.07 0-2.86zM5.41 20L4 18.59l7.72-7.72 1.47 1.35L5.41 20z\"/>\n",
              "  </svg>\n",
              "      </button>\n",
              "      \n",
              "  <style>\n",
              "    .colab-df-container {\n",
              "      display:flex;\n",
              "      flex-wrap:wrap;\n",
              "      gap: 12px;\n",
              "    }\n",
              "\n",
              "    .colab-df-convert {\n",
              "      background-color: #E8F0FE;\n",
              "      border: none;\n",
              "      border-radius: 50%;\n",
              "      cursor: pointer;\n",
              "      display: none;\n",
              "      fill: #1967D2;\n",
              "      height: 32px;\n",
              "      padding: 0 0 0 0;\n",
              "      width: 32px;\n",
              "    }\n",
              "\n",
              "    .colab-df-convert:hover {\n",
              "      background-color: #E2EBFA;\n",
              "      box-shadow: 0px 1px 2px rgba(60, 64, 67, 0.3), 0px 1px 3px 1px rgba(60, 64, 67, 0.15);\n",
              "      fill: #174EA6;\n",
              "    }\n",
              "\n",
              "    [theme=dark] .colab-df-convert {\n",
              "      background-color: #3B4455;\n",
              "      fill: #D2E3FC;\n",
              "    }\n",
              "\n",
              "    [theme=dark] .colab-df-convert:hover {\n",
              "      background-color: #434B5C;\n",
              "      box-shadow: 0px 1px 3px 1px rgba(0, 0, 0, 0.15);\n",
              "      filter: drop-shadow(0px 1px 2px rgba(0, 0, 0, 0.3));\n",
              "      fill: #FFFFFF;\n",
              "    }\n",
              "  </style>\n",
              "\n",
              "      <script>\n",
              "        const buttonEl =\n",
              "          document.querySelector('#df-10f05c72-e357-4277-98ea-97d44c323ae0 button.colab-df-convert');\n",
              "        buttonEl.style.display =\n",
              "          google.colab.kernel.accessAllowed ? 'block' : 'none';\n",
              "\n",
              "        async function convertToInteractive(key) {\n",
              "          const element = document.querySelector('#df-10f05c72-e357-4277-98ea-97d44c323ae0');\n",
              "          const dataTable =\n",
              "            await google.colab.kernel.invokeFunction('convertToInteractive',\n",
              "                                                     [key], {});\n",
              "          if (!dataTable) return;\n",
              "\n",
              "          const docLinkHtml = 'Like what you see? Visit the ' +\n",
              "            '<a target=\"_blank\" href=https://colab.research.google.com/notebooks/data_table.ipynb>data table notebook</a>'\n",
              "            + ' to learn more about interactive tables.';\n",
              "          element.innerHTML = '';\n",
              "          dataTable['output_type'] = 'display_data';\n",
              "          await google.colab.output.renderOutput(dataTable, element);\n",
              "          const docLink = document.createElement('div');\n",
              "          docLink.innerHTML = docLinkHtml;\n",
              "          element.appendChild(docLink);\n",
              "        }\n",
              "      </script>\n",
              "    </div>\n",
              "  </div>\n",
              "  "
            ]
          },
          "metadata": {},
          "execution_count": 48
        }
      ],
      "source": [
        "df.describe()"
      ]
    },
    {
      "cell_type": "code",
      "execution_count": 49,
      "id": "b18be3fa",
      "metadata": {
        "colab": {
          "base_uri": "https://localhost:8080/"
        },
        "id": "b18be3fa",
        "outputId": "26f1fb4a-7309-4c33-b210-bb54d5799f8e"
      },
      "outputs": [
        {
          "output_type": "execute_result",
          "data": {
            "text/plain": [
              "id                  int64\n",
              "age               float64\n",
              "bp                float64\n",
              "sg                float64\n",
              "al                float64\n",
              "su                float64\n",
              "rbc                object\n",
              "pc                 object\n",
              "pcc                object\n",
              "ba                 object\n",
              "bgr               float64\n",
              "bu                float64\n",
              "sc                float64\n",
              "sod               float64\n",
              "pot               float64\n",
              "hemo              float64\n",
              "pcv                object\n",
              "wc                 object\n",
              "rc                 object\n",
              "htn                object\n",
              "dm                 object\n",
              "cad                object\n",
              "appet              object\n",
              "pe                 object\n",
              "ane                object\n",
              "classification     object\n",
              "dtype: object"
            ]
          },
          "metadata": {},
          "execution_count": 49
        }
      ],
      "source": [
        "df.dtypes"
      ]
    },
    {
      "cell_type": "code",
      "execution_count": 50,
      "id": "6fcea4f5",
      "metadata": {
        "colab": {
          "base_uri": "https://localhost:8080/"
        },
        "id": "6fcea4f5",
        "outputId": "2eec7699-d61e-450c-ccac-bc03829fcb25"
      },
      "outputs": [
        {
          "output_type": "execute_result",
          "data": {
            "text/plain": [
              "['rbc',\n",
              " 'pc',\n",
              " 'pcc',\n",
              " 'ba',\n",
              " 'pcv',\n",
              " 'wc',\n",
              " 'rc',\n",
              " 'htn',\n",
              " 'dm',\n",
              " 'cad',\n",
              " 'appet',\n",
              " 'pe',\n",
              " 'ane',\n",
              " 'classification']"
            ]
          },
          "metadata": {},
          "execution_count": 50
        }
      ],
      "source": [
        "cat_col = []\n",
        "num_col=[]\n",
        "for x in df.dtypes.index:\n",
        "    if df.dtypes[x] == 'object':\n",
        "        cat_col.append(x)\n",
        "    else:\n",
        "        num_col.append(x)\n",
        "cat_col"
      ]
    },
    {
      "cell_type": "code",
      "execution_count": 51,
      "id": "dc240785",
      "metadata": {
        "colab": {
          "base_uri": "https://localhost:8080/"
        },
        "id": "dc240785",
        "outputId": "493316aa-adf5-466f-b2f0-cc7ea0a7faa2"
      },
      "outputs": [
        {
          "output_type": "execute_result",
          "data": {
            "text/plain": [
              "['id', 'age', 'bp', 'sg', 'al', 'su', 'bgr', 'bu', 'sc', 'sod', 'pot', 'hemo']"
            ]
          },
          "metadata": {},
          "execution_count": 51
        }
      ],
      "source": [
        "num_col"
      ]
    },
    {
      "cell_type": "code",
      "execution_count": 52,
      "id": "55889114",
      "metadata": {
        "id": "55889114"
      },
      "outputs": [],
      "source": [
        "def unique_values_cat(data):\n",
        "    cat_cols=[c for c in data.dtypes.index if data.dtypes[c] =='object']\n",
        "    cat_unique={c: data[c].unique() for c in cat_cols}\n",
        "    return cat_unique"
      ]
    },
    {
      "cell_type": "code",
      "execution_count": 53,
      "id": "67d8a4f7",
      "metadata": {
        "colab": {
          "base_uri": "https://localhost:8080/"
        },
        "id": "67d8a4f7",
        "outputId": "db29407d-b01c-4a31-94a2-ebc0f8e86d86"
      },
      "outputs": [
        {
          "output_type": "execute_result",
          "data": {
            "text/plain": [
              "{'ane': array(['no', 'yes', nan], dtype=object),\n",
              " 'appet': array(['good', 'poor', nan], dtype=object),\n",
              " 'ba': array(['notpresent', 'present', nan], dtype=object),\n",
              " 'cad': array(['no', 'yes', nan, '\\tno'], dtype=object),\n",
              " 'classification': array(['notckd', 'ckd', 'ckd\\t'], dtype=object),\n",
              " 'dm': array(['no', 'yes', nan, '\\tno', '\\tyes', ' yes'], dtype=object),\n",
              " 'htn': array(['no', 'yes', nan], dtype=object),\n",
              " 'pc': array(['normal', 'abnormal', nan], dtype=object),\n",
              " 'pcc': array(['notpresent', 'present', nan], dtype=object),\n",
              " 'pcv': array([nan, '26', '40', '28', '42', '30', '22', '43', '46', '44', '35',\n",
              "        '48', '27', '29', '41', '49', '32', '54', '36', '50', '34', '24',\n",
              "        '52', '25', '31', '51', '20', '45', '9', '53', '38', '37', '15',\n",
              "        '33', '39', '19', '17', '16', '21', '47', '18', '23', '\\t43',\n",
              "        '\\t?', '14'], dtype=object),\n",
              " 'pe': array(['no', 'yes', nan], dtype=object),\n",
              " 'rbc': array(['normal', 'abnormal', nan], dtype=object),\n",
              " 'rc': array([nan, '3.1', '4.7', '3.2', '6.4', '4.2', '4.8', '2.1', '5.4', '5.3',\n",
              "        '3.4', '4.5', '5.2', '2.7', '3.7', '5.0', '3.9', '6.2', '5.5',\n",
              "        '5.7', '4.9', '5.9', '4.1', '3.0', '4.6', '6.0', '2.8', '5.8',\n",
              "        '5.6', '2.9', '3.5', '3.6', '5.1', '6.1', '6.5', '4.4', '6.3', '3',\n",
              "        '2.6', '4.0', '4.3', '3.8', '3.3', '2.3', '2.5', '4', '8.0', '\\t?',\n",
              "        '5', '2.4'], dtype=object),\n",
              " 'wc': array([nan, '12800', '9900', '14600', '7900', '9800', '16700', '3800',\n",
              "        '10300', '7200', '7100', '9200', '6700', '8300', '16300', '6900',\n",
              "        '5500', '10200', '12200', '11200', '5100', '8100', '9000', '7800',\n",
              "        '11900', '6300', '4500', '7300', '7000', '5800', '5000', '11300',\n",
              "        '6800', '4300', '15200', '8800', '6500', '10400', '5200', '6400',\n",
              "        '8000', '5400', '10500', '10700', '19100', '6000', '18900',\n",
              "        '11000', '9100', '2600', '7500', '8600', '5600', '9600', '7400',\n",
              "        '2200', '21600', '9400', '8400', '4700', '13200', '6200', '9300',\n",
              "        '11800', '9500', '8500', '5700', '11400', '\\t?', '12300', '4200',\n",
              "        '13600', '9700', '14900', '\\t6200', '26400', '12400', '\\t8400',\n",
              "        '15700', '8200', '10900', '6600', '4900', '7700', '10800', '12700',\n",
              "        '12000', '4100', '11500', '12100', '12500', '5900', '5300'],\n",
              "       dtype=object)}"
            ]
          },
          "metadata": {},
          "execution_count": 53
        }
      ],
      "source": [
        "unique_values_cat(df)"
      ]
    },
    {
      "cell_type": "code",
      "execution_count": 54,
      "id": "eac87250",
      "metadata": {
        "id": "eac87250"
      },
      "outputs": [],
      "source": [
        "df=df.replace('\\t',\"\",regex=True)"
      ]
    },
    {
      "cell_type": "code",
      "execution_count": 55,
      "id": "b4dbb104",
      "metadata": {
        "id": "b4dbb104"
      },
      "outputs": [],
      "source": [
        "df=df.replace('?',np.nan)"
      ]
    },
    {
      "cell_type": "code",
      "execution_count": 56,
      "id": "bf3e35fe",
      "metadata": {
        "colab": {
          "base_uri": "https://localhost:8080/"
        },
        "id": "bf3e35fe",
        "outputId": "e767c190-9f57-4185-cd13-c857b94ea6ef"
      },
      "outputs": [
        {
          "output_type": "execute_result",
          "data": {
            "text/plain": [
              "{'ane': array(['no', 'yes', nan], dtype=object),\n",
              " 'appet': array(['good', 'poor', nan], dtype=object),\n",
              " 'ba': array(['notpresent', 'present', nan], dtype=object),\n",
              " 'cad': array(['no', 'yes', nan], dtype=object),\n",
              " 'classification': array(['notckd', 'ckd'], dtype=object),\n",
              " 'dm': array(['no', 'yes', nan, ' yes'], dtype=object),\n",
              " 'htn': array(['no', 'yes', nan], dtype=object),\n",
              " 'pc': array(['normal', 'abnormal', nan], dtype=object),\n",
              " 'pcc': array(['notpresent', 'present', nan], dtype=object),\n",
              " 'pcv': array([nan, '26', '40', '28', '42', '30', '22', '43', '46', '44', '35',\n",
              "        '48', '27', '29', '41', '49', '32', '54', '36', '50', '34', '24',\n",
              "        '52', '25', '31', '51', '20', '45', '9', '53', '38', '37', '15',\n",
              "        '33', '39', '19', '17', '16', '21', '47', '18', '23', '14'],\n",
              "       dtype=object),\n",
              " 'pe': array(['no', 'yes', nan], dtype=object),\n",
              " 'rbc': array(['normal', 'abnormal', nan], dtype=object),\n",
              " 'rc': array([nan, '3.1', '4.7', '3.2', '6.4', '4.2', '4.8', '2.1', '5.4', '5.3',\n",
              "        '3.4', '4.5', '5.2', '2.7', '3.7', '5.0', '3.9', '6.2', '5.5',\n",
              "        '5.7', '4.9', '5.9', '4.1', '3.0', '4.6', '6.0', '2.8', '5.8',\n",
              "        '5.6', '2.9', '3.5', '3.6', '5.1', '6.1', '6.5', '4.4', '6.3', '3',\n",
              "        '2.6', '4.0', '4.3', '3.8', '3.3', '2.3', '2.5', '4', '8.0', '5',\n",
              "        '2.4'], dtype=object),\n",
              " 'wc': array([nan, '12800', '9900', '14600', '7900', '9800', '16700', '3800',\n",
              "        '10300', '7200', '7100', '9200', '6700', '8300', '16300', '6900',\n",
              "        '5500', '10200', '12200', '11200', '5100', '8100', '9000', '7800',\n",
              "        '11900', '6300', '4500', '7300', '7000', '5800', '5000', '11300',\n",
              "        '6800', '4300', '15200', '8800', '6500', '10400', '5200', '6400',\n",
              "        '8000', '5400', '10500', '10700', '19100', '6000', '18900',\n",
              "        '11000', '9100', '2600', '7500', '8600', '5600', '9600', '7400',\n",
              "        '2200', '21600', '9400', '8400', '4700', '13200', '6200', '9300',\n",
              "        '11800', '9500', '8500', '5700', '11400', '12300', '4200', '13600',\n",
              "        '9700', '14900', '26400', '12400', '15700', '8200', '10900',\n",
              "        '6600', '4900', '7700', '10800', '12700', '12000', '4100', '11500',\n",
              "        '12100', '12500', '5900', '5300'], dtype=object)}"
            ]
          },
          "metadata": {},
          "execution_count": 56
        }
      ],
      "source": [
        "unique_values_cat(df)"
      ]
    },
    {
      "cell_type": "code",
      "execution_count": 56,
      "id": "0d51df55",
      "metadata": {
        "id": "0d51df55"
      },
      "outputs": [],
      "source": [
        ""
      ]
    },
    {
      "cell_type": "code",
      "execution_count": 56,
      "id": "ab2ff2ae",
      "metadata": {
        "id": "ab2ff2ae"
      },
      "outputs": [],
      "source": [
        ""
      ]
    },
    {
      "cell_type": "code",
      "execution_count": 56,
      "id": "22a78502",
      "metadata": {
        "id": "22a78502"
      },
      "outputs": [],
      "source": [
        ""
      ]
    },
    {
      "cell_type": "code",
      "execution_count": 57,
      "id": "391c34ba",
      "metadata": {
        "colab": {
          "base_uri": "https://localhost:8080/"
        },
        "id": "391c34ba",
        "outputId": "40a38c3f-c132-436e-c353-234d230021cc"
      },
      "outputs": [
        {
          "output_type": "execute_result",
          "data": {
            "text/plain": [
              "136"
            ]
          },
          "metadata": {},
          "execution_count": 57
        }
      ],
      "source": [
        "df[['pcv','wc','rc']].isna().any(axis=1).sum()"
      ]
    },
    {
      "cell_type": "code",
      "execution_count": 58,
      "id": "213110b1",
      "metadata": {
        "colab": {
          "base_uri": "https://localhost:8080/"
        },
        "id": "213110b1",
        "outputId": "2690a87f-4da4-43c3-a8a9-7a8b3792be33"
      },
      "outputs": [
        {
          "output_type": "execute_result",
          "data": {
            "text/plain": [
              "106"
            ]
          },
          "metadata": {},
          "execution_count": 58
        }
      ],
      "source": [
        "df.wc.isna().sum()"
      ]
    },
    {
      "cell_type": "markdown",
      "id": "c3f7c8c2",
      "metadata": {
        "id": "c3f7c8c2"
      },
      "source": [
        "lors du conversion des colonne de type object to numerics (celles qu'elles doivent etre numeriques) on a un prob : un erreur raised à cause des 'NAN'.\n",
        "jai pensé d'effacer les NAN pour ces 3 colonnes, mais on ne peux pas car le nombre est important, donc on essai de faire une autre logique."
      ]
    },
    {
      "cell_type": "code",
      "execution_count": 59,
      "id": "74fda007",
      "metadata": {
        "id": "74fda007"
      },
      "outputs": [],
      "source": [
        "def convert_cat_to_num(cols,data):\n",
        "\n",
        "    for c in cols:\n",
        "        \n",
        "        data[c]=data[c].apply(lambda x: float(x) if x != np.nan else x)\n",
        "       \n",
        "       "
      ]
    },
    {
      "cell_type": "code",
      "execution_count": 60,
      "id": "7964dfb5",
      "metadata": {
        "id": "7964dfb5"
      },
      "outputs": [],
      "source": [
        "convert_cat_to_num(['pcv','wc','rc'] ,df)"
      ]
    },
    {
      "cell_type": "code",
      "execution_count": 61,
      "id": "dd6dcc86",
      "metadata": {
        "colab": {
          "base_uri": "https://localhost:8080/"
        },
        "id": "dd6dcc86",
        "outputId": "bd1de6e4-08b4-4b6d-ea47-028d408a53a2"
      },
      "outputs": [
        {
          "output_type": "execute_result",
          "data": {
            "text/plain": [
              "['rbc',\n",
              " 'pc',\n",
              " 'pcc',\n",
              " 'ba',\n",
              " 'htn',\n",
              " 'dm',\n",
              " 'cad',\n",
              " 'appet',\n",
              " 'pe',\n",
              " 'ane',\n",
              " 'classification']"
            ]
          },
          "metadata": {},
          "execution_count": 61
        }
      ],
      "source": [
        "cat_col = []\n",
        "num_col=[]\n",
        "for x in df.dtypes.index:\n",
        "    if df.dtypes[x] == 'object':\n",
        "        cat_col.append(x)\n",
        "    else:\n",
        "        num_col.append(x)\n",
        "cat_col"
      ]
    },
    {
      "cell_type": "code",
      "execution_count": 62,
      "id": "64337fe6",
      "metadata": {
        "colab": {
          "base_uri": "https://localhost:8080/"
        },
        "id": "64337fe6",
        "outputId": "38b4dfa2-f542-411e-b6ff-805ee967ca73"
      },
      "outputs": [
        {
          "output_type": "execute_result",
          "data": {
            "text/plain": [
              "id                  0\n",
              "age                 9\n",
              "bp                 12\n",
              "sg                 47\n",
              "al                 46\n",
              "su                 49\n",
              "rbc               152\n",
              "pc                 65\n",
              "pcc                 4\n",
              "ba                  4\n",
              "bgr                44\n",
              "bu                 19\n",
              "sc                 17\n",
              "sod                87\n",
              "pot                88\n",
              "hemo               52\n",
              "pcv                71\n",
              "wc                106\n",
              "rc                131\n",
              "htn                 2\n",
              "dm                  2\n",
              "cad                 2\n",
              "appet               1\n",
              "pe                  1\n",
              "ane                 1\n",
              "classification      0\n",
              "dtype: int64"
            ]
          },
          "metadata": {},
          "execution_count": 62
        }
      ],
      "source": [
        "df.isna().sum()"
      ]
    },
    {
      "cell_type": "code",
      "execution_count": 63,
      "id": "93746017",
      "metadata": {
        "id": "93746017"
      },
      "outputs": [],
      "source": [
        "def impute_missing_values_num(data, columns):\n",
        "    for column in columns:\n",
        "        data[column] = data[column].fillna(data[column].mean())"
      ]
    },
    {
      "cell_type": "code",
      "execution_count": 64,
      "id": "118898f8",
      "metadata": {
        "id": "118898f8"
      },
      "outputs": [],
      "source": [
        "impute_missing_values_num(df, num_col)"
      ]
    },
    {
      "cell_type": "code",
      "execution_count": 65,
      "id": "fc4e8acd",
      "metadata": {
        "colab": {
          "base_uri": "https://localhost:8080/"
        },
        "id": "fc4e8acd",
        "outputId": "b846a92b-ad83-478f-c2b7-41d5f59ba274"
      },
      "outputs": [
        {
          "output_type": "execute_result",
          "data": {
            "text/plain": [
              "{'ane': array(['no', 'yes', nan], dtype=object),\n",
              " 'appet': array(['good', 'poor', nan], dtype=object),\n",
              " 'ba': array(['notpresent', 'present', nan], dtype=object),\n",
              " 'cad': array(['no', 'yes', nan], dtype=object),\n",
              " 'classification': array(['notckd', 'ckd'], dtype=object),\n",
              " 'dm': array(['no', 'yes', nan, ' yes'], dtype=object),\n",
              " 'htn': array(['no', 'yes', nan], dtype=object),\n",
              " 'pc': array(['normal', 'abnormal', nan], dtype=object),\n",
              " 'pcc': array(['notpresent', 'present', nan], dtype=object),\n",
              " 'pe': array(['no', 'yes', nan], dtype=object),\n",
              " 'rbc': array(['normal', 'abnormal', nan], dtype=object)}"
            ]
          },
          "metadata": {},
          "execution_count": 65
        }
      ],
      "source": [
        "unique_values_cat(df)"
      ]
    },
    {
      "cell_type": "code",
      "execution_count": 66,
      "id": "2cac2dcd",
      "metadata": {
        "id": "2cac2dcd"
      },
      "outputs": [],
      "source": [
        "df['dm']=df['dm'].apply(lambda x: 'yes' if (x == ' yes') else x)"
      ]
    },
    {
      "cell_type": "code",
      "execution_count": 67,
      "id": "0c64d6ab",
      "metadata": {
        "colab": {
          "base_uri": "https://localhost:8080/"
        },
        "id": "0c64d6ab",
        "outputId": "72b2c226-54c6-494c-8487-b375c05d2820"
      },
      "outputs": [
        {
          "output_type": "execute_result",
          "data": {
            "text/plain": [
              "array(['no', 'yes', nan], dtype=object)"
            ]
          },
          "metadata": {},
          "execution_count": 67
        }
      ],
      "source": [
        "df['dm'].unique()"
      ]
    },
    {
      "cell_type": "code",
      "execution_count": 68,
      "id": "61853dc4",
      "metadata": {
        "scrolled": true,
        "id": "61853dc4"
      },
      "outputs": [],
      "source": [
        "def impute_missing_values_cat(data, columns):\n",
        "    for column in columns:\n",
        "        data[column] = data[column].fillna(data[column].mode()[0])\n",
        "\n",
        "impute_missing_values_cat(df, cat_col)"
      ]
    },
    {
      "cell_type": "code",
      "execution_count": 69,
      "id": "ed8dc8f3",
      "metadata": {
        "colab": {
          "base_uri": "https://localhost:8080/"
        },
        "id": "ed8dc8f3",
        "outputId": "3a021289-cbdf-485c-ef0b-28a873fce85b"
      },
      "outputs": [
        {
          "output_type": "execute_result",
          "data": {
            "text/plain": [
              "id                0\n",
              "age               0\n",
              "bp                0\n",
              "sg                0\n",
              "al                0\n",
              "su                0\n",
              "rbc               0\n",
              "pc                0\n",
              "pcc               0\n",
              "ba                0\n",
              "bgr               0\n",
              "bu                0\n",
              "sc                0\n",
              "sod               0\n",
              "pot               0\n",
              "hemo              0\n",
              "pcv               0\n",
              "wc                0\n",
              "rc                0\n",
              "htn               0\n",
              "dm                0\n",
              "cad               0\n",
              "appet             0\n",
              "pe                0\n",
              "ane               0\n",
              "classification    0\n",
              "dtype: int64"
            ]
          },
          "metadata": {},
          "execution_count": 69
        }
      ],
      "source": [
        "df.isna().sum()"
      ]
    },
    {
      "cell_type": "code",
      "execution_count": 69,
      "id": "77bf602a",
      "metadata": {
        "id": "77bf602a"
      },
      "outputs": [],
      "source": [
        ""
      ]
    },
    {
      "cell_type": "code",
      "execution_count": 70,
      "id": "ae87dac6",
      "metadata": {
        "id": "ae87dac6"
      },
      "outputs": [],
      "source": [
        "y=df[\"classification\"]\n",
        "x=df.drop(\"classification\",axis=1)"
      ]
    },
    {
      "cell_type": "code",
      "execution_count": 71,
      "id": "7d4c3449",
      "metadata": {
        "colab": {
          "base_uri": "https://localhost:8080/",
          "height": 487
        },
        "id": "7d4c3449",
        "outputId": "608430a9-92f7-4918-ecd1-b87eb9c36b27"
      },
      "outputs": [
        {
          "output_type": "execute_result",
          "data": {
            "text/plain": [
              "      id   age     bp        sg        al        su       rbc        pc  \\\n",
              "0    324  40.0   80.0  1.020000  0.000000  0.000000    normal    normal   \n",
              "1    171  83.0   70.0  1.020000  3.000000  0.000000    normal    normal   \n",
              "2    351  29.0   80.0  1.020000  0.000000  0.000000    normal    normal   \n",
              "3     71  46.0   60.0  1.010000  1.000000  0.000000    normal    normal   \n",
              "4    143  41.0   80.0  1.015000  1.000000  4.000000  abnormal    normal   \n",
              "..   ...   ...    ...       ...       ...       ...       ...       ...   \n",
              "395   11  63.0   70.0  1.010000  3.000000  0.000000  abnormal  abnormal   \n",
              "396   19  62.0   60.0  1.015000  1.000000  0.000000    normal  abnormal   \n",
              "397  151  76.0   90.0  1.017408  1.016949  0.450142    normal    normal   \n",
              "398  346  33.0   60.0  1.017408  1.016949  0.450142    normal    normal   \n",
              "399  245  48.0  100.0  1.017408  1.016949  0.450142    normal    normal   \n",
              "\n",
              "            pcc          ba  ...       hemo        pcv            wc  \\\n",
              "0    notpresent  notpresent  ...  12.526437  38.884498   8406.122449   \n",
              "1    notpresent  notpresent  ...   8.700000  26.000000  12800.000000   \n",
              "2    notpresent  notpresent  ...  17.500000  40.000000   9900.000000   \n",
              "3    notpresent  notpresent  ...   9.800000  28.000000  14600.000000   \n",
              "4    notpresent  notpresent  ...  12.526437  38.884498   8406.122449   \n",
              "..          ...         ...  ...        ...        ...           ...   \n",
              "395     present  notpresent  ...  10.800000  32.000000   4500.000000   \n",
              "396     present  notpresent  ...  10.300000  30.000000   5300.000000   \n",
              "397  notpresent  notpresent  ...   9.600000  30.000000   8406.122449   \n",
              "398  notpresent  notpresent  ...  15.500000  52.000000   4300.000000   \n",
              "399  notpresent  notpresent  ...   6.300000  19.000000   7200.000000   \n",
              "\n",
              "           rc  htn   dm  cad  appet   pe  ane  \n",
              "0    4.707435   no   no   no   good   no   no  \n",
              "1    3.100000  yes   no   no   poor   no  yes  \n",
              "2    4.700000   no   no   no   good   no   no  \n",
              "3    3.200000  yes  yes   no   good   no   no  \n",
              "4    4.707435   no  yes   no   good   no   no  \n",
              "..        ...  ...  ...  ...    ...  ...  ...  \n",
              "395  3.800000  yes  yes   no   poor  yes   no  \n",
              "396  3.700000  yes   no  yes   good   no   no  \n",
              "397  4.707435  yes  yes   no   good   no  yes  \n",
              "398  5.800000   no   no   no   good   no   no  \n",
              "399  2.600000  yes   no  yes   poor   no   no  \n",
              "\n",
              "[400 rows x 25 columns]"
            ],
            "text/html": [
              "\n",
              "  <div id=\"df-db96776a-bf3c-4e4f-b19a-abfb66edb041\">\n",
              "    <div class=\"colab-df-container\">\n",
              "      <div>\n",
              "<style scoped>\n",
              "    .dataframe tbody tr th:only-of-type {\n",
              "        vertical-align: middle;\n",
              "    }\n",
              "\n",
              "    .dataframe tbody tr th {\n",
              "        vertical-align: top;\n",
              "    }\n",
              "\n",
              "    .dataframe thead th {\n",
              "        text-align: right;\n",
              "    }\n",
              "</style>\n",
              "<table border=\"1\" class=\"dataframe\">\n",
              "  <thead>\n",
              "    <tr style=\"text-align: right;\">\n",
              "      <th></th>\n",
              "      <th>id</th>\n",
              "      <th>age</th>\n",
              "      <th>bp</th>\n",
              "      <th>sg</th>\n",
              "      <th>al</th>\n",
              "      <th>su</th>\n",
              "      <th>rbc</th>\n",
              "      <th>pc</th>\n",
              "      <th>pcc</th>\n",
              "      <th>ba</th>\n",
              "      <th>...</th>\n",
              "      <th>hemo</th>\n",
              "      <th>pcv</th>\n",
              "      <th>wc</th>\n",
              "      <th>rc</th>\n",
              "      <th>htn</th>\n",
              "      <th>dm</th>\n",
              "      <th>cad</th>\n",
              "      <th>appet</th>\n",
              "      <th>pe</th>\n",
              "      <th>ane</th>\n",
              "    </tr>\n",
              "  </thead>\n",
              "  <tbody>\n",
              "    <tr>\n",
              "      <th>0</th>\n",
              "      <td>324</td>\n",
              "      <td>40.0</td>\n",
              "      <td>80.0</td>\n",
              "      <td>1.020000</td>\n",
              "      <td>0.000000</td>\n",
              "      <td>0.000000</td>\n",
              "      <td>normal</td>\n",
              "      <td>normal</td>\n",
              "      <td>notpresent</td>\n",
              "      <td>notpresent</td>\n",
              "      <td>...</td>\n",
              "      <td>12.526437</td>\n",
              "      <td>38.884498</td>\n",
              "      <td>8406.122449</td>\n",
              "      <td>4.707435</td>\n",
              "      <td>no</td>\n",
              "      <td>no</td>\n",
              "      <td>no</td>\n",
              "      <td>good</td>\n",
              "      <td>no</td>\n",
              "      <td>no</td>\n",
              "    </tr>\n",
              "    <tr>\n",
              "      <th>1</th>\n",
              "      <td>171</td>\n",
              "      <td>83.0</td>\n",
              "      <td>70.0</td>\n",
              "      <td>1.020000</td>\n",
              "      <td>3.000000</td>\n",
              "      <td>0.000000</td>\n",
              "      <td>normal</td>\n",
              "      <td>normal</td>\n",
              "      <td>notpresent</td>\n",
              "      <td>notpresent</td>\n",
              "      <td>...</td>\n",
              "      <td>8.700000</td>\n",
              "      <td>26.000000</td>\n",
              "      <td>12800.000000</td>\n",
              "      <td>3.100000</td>\n",
              "      <td>yes</td>\n",
              "      <td>no</td>\n",
              "      <td>no</td>\n",
              "      <td>poor</td>\n",
              "      <td>no</td>\n",
              "      <td>yes</td>\n",
              "    </tr>\n",
              "    <tr>\n",
              "      <th>2</th>\n",
              "      <td>351</td>\n",
              "      <td>29.0</td>\n",
              "      <td>80.0</td>\n",
              "      <td>1.020000</td>\n",
              "      <td>0.000000</td>\n",
              "      <td>0.000000</td>\n",
              "      <td>normal</td>\n",
              "      <td>normal</td>\n",
              "      <td>notpresent</td>\n",
              "      <td>notpresent</td>\n",
              "      <td>...</td>\n",
              "      <td>17.500000</td>\n",
              "      <td>40.000000</td>\n",
              "      <td>9900.000000</td>\n",
              "      <td>4.700000</td>\n",
              "      <td>no</td>\n",
              "      <td>no</td>\n",
              "      <td>no</td>\n",
              "      <td>good</td>\n",
              "      <td>no</td>\n",
              "      <td>no</td>\n",
              "    </tr>\n",
              "    <tr>\n",
              "      <th>3</th>\n",
              "      <td>71</td>\n",
              "      <td>46.0</td>\n",
              "      <td>60.0</td>\n",
              "      <td>1.010000</td>\n",
              "      <td>1.000000</td>\n",
              "      <td>0.000000</td>\n",
              "      <td>normal</td>\n",
              "      <td>normal</td>\n",
              "      <td>notpresent</td>\n",
              "      <td>notpresent</td>\n",
              "      <td>...</td>\n",
              "      <td>9.800000</td>\n",
              "      <td>28.000000</td>\n",
              "      <td>14600.000000</td>\n",
              "      <td>3.200000</td>\n",
              "      <td>yes</td>\n",
              "      <td>yes</td>\n",
              "      <td>no</td>\n",
              "      <td>good</td>\n",
              "      <td>no</td>\n",
              "      <td>no</td>\n",
              "    </tr>\n",
              "    <tr>\n",
              "      <th>4</th>\n",
              "      <td>143</td>\n",
              "      <td>41.0</td>\n",
              "      <td>80.0</td>\n",
              "      <td>1.015000</td>\n",
              "      <td>1.000000</td>\n",
              "      <td>4.000000</td>\n",
              "      <td>abnormal</td>\n",
              "      <td>normal</td>\n",
              "      <td>notpresent</td>\n",
              "      <td>notpresent</td>\n",
              "      <td>...</td>\n",
              "      <td>12.526437</td>\n",
              "      <td>38.884498</td>\n",
              "      <td>8406.122449</td>\n",
              "      <td>4.707435</td>\n",
              "      <td>no</td>\n",
              "      <td>yes</td>\n",
              "      <td>no</td>\n",
              "      <td>good</td>\n",
              "      <td>no</td>\n",
              "      <td>no</td>\n",
              "    </tr>\n",
              "    <tr>\n",
              "      <th>...</th>\n",
              "      <td>...</td>\n",
              "      <td>...</td>\n",
              "      <td>...</td>\n",
              "      <td>...</td>\n",
              "      <td>...</td>\n",
              "      <td>...</td>\n",
              "      <td>...</td>\n",
              "      <td>...</td>\n",
              "      <td>...</td>\n",
              "      <td>...</td>\n",
              "      <td>...</td>\n",
              "      <td>...</td>\n",
              "      <td>...</td>\n",
              "      <td>...</td>\n",
              "      <td>...</td>\n",
              "      <td>...</td>\n",
              "      <td>...</td>\n",
              "      <td>...</td>\n",
              "      <td>...</td>\n",
              "      <td>...</td>\n",
              "      <td>...</td>\n",
              "    </tr>\n",
              "    <tr>\n",
              "      <th>395</th>\n",
              "      <td>11</td>\n",
              "      <td>63.0</td>\n",
              "      <td>70.0</td>\n",
              "      <td>1.010000</td>\n",
              "      <td>3.000000</td>\n",
              "      <td>0.000000</td>\n",
              "      <td>abnormal</td>\n",
              "      <td>abnormal</td>\n",
              "      <td>present</td>\n",
              "      <td>notpresent</td>\n",
              "      <td>...</td>\n",
              "      <td>10.800000</td>\n",
              "      <td>32.000000</td>\n",
              "      <td>4500.000000</td>\n",
              "      <td>3.800000</td>\n",
              "      <td>yes</td>\n",
              "      <td>yes</td>\n",
              "      <td>no</td>\n",
              "      <td>poor</td>\n",
              "      <td>yes</td>\n",
              "      <td>no</td>\n",
              "    </tr>\n",
              "    <tr>\n",
              "      <th>396</th>\n",
              "      <td>19</td>\n",
              "      <td>62.0</td>\n",
              "      <td>60.0</td>\n",
              "      <td>1.015000</td>\n",
              "      <td>1.000000</td>\n",
              "      <td>0.000000</td>\n",
              "      <td>normal</td>\n",
              "      <td>abnormal</td>\n",
              "      <td>present</td>\n",
              "      <td>notpresent</td>\n",
              "      <td>...</td>\n",
              "      <td>10.300000</td>\n",
              "      <td>30.000000</td>\n",
              "      <td>5300.000000</td>\n",
              "      <td>3.700000</td>\n",
              "      <td>yes</td>\n",
              "      <td>no</td>\n",
              "      <td>yes</td>\n",
              "      <td>good</td>\n",
              "      <td>no</td>\n",
              "      <td>no</td>\n",
              "    </tr>\n",
              "    <tr>\n",
              "      <th>397</th>\n",
              "      <td>151</td>\n",
              "      <td>76.0</td>\n",
              "      <td>90.0</td>\n",
              "      <td>1.017408</td>\n",
              "      <td>1.016949</td>\n",
              "      <td>0.450142</td>\n",
              "      <td>normal</td>\n",
              "      <td>normal</td>\n",
              "      <td>notpresent</td>\n",
              "      <td>notpresent</td>\n",
              "      <td>...</td>\n",
              "      <td>9.600000</td>\n",
              "      <td>30.000000</td>\n",
              "      <td>8406.122449</td>\n",
              "      <td>4.707435</td>\n",
              "      <td>yes</td>\n",
              "      <td>yes</td>\n",
              "      <td>no</td>\n",
              "      <td>good</td>\n",
              "      <td>no</td>\n",
              "      <td>yes</td>\n",
              "    </tr>\n",
              "    <tr>\n",
              "      <th>398</th>\n",
              "      <td>346</td>\n",
              "      <td>33.0</td>\n",
              "      <td>60.0</td>\n",
              "      <td>1.017408</td>\n",
              "      <td>1.016949</td>\n",
              "      <td>0.450142</td>\n",
              "      <td>normal</td>\n",
              "      <td>normal</td>\n",
              "      <td>notpresent</td>\n",
              "      <td>notpresent</td>\n",
              "      <td>...</td>\n",
              "      <td>15.500000</td>\n",
              "      <td>52.000000</td>\n",
              "      <td>4300.000000</td>\n",
              "      <td>5.800000</td>\n",
              "      <td>no</td>\n",
              "      <td>no</td>\n",
              "      <td>no</td>\n",
              "      <td>good</td>\n",
              "      <td>no</td>\n",
              "      <td>no</td>\n",
              "    </tr>\n",
              "    <tr>\n",
              "      <th>399</th>\n",
              "      <td>245</td>\n",
              "      <td>48.0</td>\n",
              "      <td>100.0</td>\n",
              "      <td>1.017408</td>\n",
              "      <td>1.016949</td>\n",
              "      <td>0.450142</td>\n",
              "      <td>normal</td>\n",
              "      <td>normal</td>\n",
              "      <td>notpresent</td>\n",
              "      <td>notpresent</td>\n",
              "      <td>...</td>\n",
              "      <td>6.300000</td>\n",
              "      <td>19.000000</td>\n",
              "      <td>7200.000000</td>\n",
              "      <td>2.600000</td>\n",
              "      <td>yes</td>\n",
              "      <td>no</td>\n",
              "      <td>yes</td>\n",
              "      <td>poor</td>\n",
              "      <td>no</td>\n",
              "      <td>no</td>\n",
              "    </tr>\n",
              "  </tbody>\n",
              "</table>\n",
              "<p>400 rows × 25 columns</p>\n",
              "</div>\n",
              "      <button class=\"colab-df-convert\" onclick=\"convertToInteractive('df-db96776a-bf3c-4e4f-b19a-abfb66edb041')\"\n",
              "              title=\"Convert this dataframe to an interactive table.\"\n",
              "              style=\"display:none;\">\n",
              "        \n",
              "  <svg xmlns=\"http://www.w3.org/2000/svg\" height=\"24px\"viewBox=\"0 0 24 24\"\n",
              "       width=\"24px\">\n",
              "    <path d=\"M0 0h24v24H0V0z\" fill=\"none\"/>\n",
              "    <path d=\"M18.56 5.44l.94 2.06.94-2.06 2.06-.94-2.06-.94-.94-2.06-.94 2.06-2.06.94zm-11 1L8.5 8.5l.94-2.06 2.06-.94-2.06-.94L8.5 2.5l-.94 2.06-2.06.94zm10 10l.94 2.06.94-2.06 2.06-.94-2.06-.94-.94-2.06-.94 2.06-2.06.94z\"/><path d=\"M17.41 7.96l-1.37-1.37c-.4-.4-.92-.59-1.43-.59-.52 0-1.04.2-1.43.59L10.3 9.45l-7.72 7.72c-.78.78-.78 2.05 0 2.83L4 21.41c.39.39.9.59 1.41.59.51 0 1.02-.2 1.41-.59l7.78-7.78 2.81-2.81c.8-.78.8-2.07 0-2.86zM5.41 20L4 18.59l7.72-7.72 1.47 1.35L5.41 20z\"/>\n",
              "  </svg>\n",
              "      </button>\n",
              "      \n",
              "  <style>\n",
              "    .colab-df-container {\n",
              "      display:flex;\n",
              "      flex-wrap:wrap;\n",
              "      gap: 12px;\n",
              "    }\n",
              "\n",
              "    .colab-df-convert {\n",
              "      background-color: #E8F0FE;\n",
              "      border: none;\n",
              "      border-radius: 50%;\n",
              "      cursor: pointer;\n",
              "      display: none;\n",
              "      fill: #1967D2;\n",
              "      height: 32px;\n",
              "      padding: 0 0 0 0;\n",
              "      width: 32px;\n",
              "    }\n",
              "\n",
              "    .colab-df-convert:hover {\n",
              "      background-color: #E2EBFA;\n",
              "      box-shadow: 0px 1px 2px rgba(60, 64, 67, 0.3), 0px 1px 3px 1px rgba(60, 64, 67, 0.15);\n",
              "      fill: #174EA6;\n",
              "    }\n",
              "\n",
              "    [theme=dark] .colab-df-convert {\n",
              "      background-color: #3B4455;\n",
              "      fill: #D2E3FC;\n",
              "    }\n",
              "\n",
              "    [theme=dark] .colab-df-convert:hover {\n",
              "      background-color: #434B5C;\n",
              "      box-shadow: 0px 1px 3px 1px rgba(0, 0, 0, 0.15);\n",
              "      filter: drop-shadow(0px 1px 2px rgba(0, 0, 0, 0.3));\n",
              "      fill: #FFFFFF;\n",
              "    }\n",
              "  </style>\n",
              "\n",
              "      <script>\n",
              "        const buttonEl =\n",
              "          document.querySelector('#df-db96776a-bf3c-4e4f-b19a-abfb66edb041 button.colab-df-convert');\n",
              "        buttonEl.style.display =\n",
              "          google.colab.kernel.accessAllowed ? 'block' : 'none';\n",
              "\n",
              "        async function convertToInteractive(key) {\n",
              "          const element = document.querySelector('#df-db96776a-bf3c-4e4f-b19a-abfb66edb041');\n",
              "          const dataTable =\n",
              "            await google.colab.kernel.invokeFunction('convertToInteractive',\n",
              "                                                     [key], {});\n",
              "          if (!dataTable) return;\n",
              "\n",
              "          const docLinkHtml = 'Like what you see? Visit the ' +\n",
              "            '<a target=\"_blank\" href=https://colab.research.google.com/notebooks/data_table.ipynb>data table notebook</a>'\n",
              "            + ' to learn more about interactive tables.';\n",
              "          element.innerHTML = '';\n",
              "          dataTable['output_type'] = 'display_data';\n",
              "          await google.colab.output.renderOutput(dataTable, element);\n",
              "          const docLink = document.createElement('div');\n",
              "          docLink.innerHTML = docLinkHtml;\n",
              "          element.appendChild(docLink);\n",
              "        }\n",
              "      </script>\n",
              "    </div>\n",
              "  </div>\n",
              "  "
            ]
          },
          "metadata": {},
          "execution_count": 71
        }
      ],
      "source": [
        "x"
      ]
    },
    {
      "cell_type": "markdown",
      "id": "7c72ca74",
      "metadata": {
        "id": "7c72ca74"
      },
      "source": [
        "###### "
      ]
    },
    {
      "cell_type": "code",
      "execution_count": 72,
      "id": "022736b7",
      "metadata": {
        "colab": {
          "base_uri": "https://localhost:8080/"
        },
        "id": "022736b7",
        "outputId": "162a5ffc-c346-4160-c725-6fe7f3c193f8"
      },
      "outputs": [
        {
          "output_type": "execute_result",
          "data": {
            "text/plain": [
              "0      notckd\n",
              "1         ckd\n",
              "2      notckd\n",
              "3         ckd\n",
              "4         ckd\n",
              "        ...  \n",
              "395       ckd\n",
              "396       ckd\n",
              "397       ckd\n",
              "398    notckd\n",
              "399       ckd\n",
              "Name: classification, Length: 400, dtype: object"
            ]
          },
          "metadata": {},
          "execution_count": 72
        }
      ],
      "source": [
        "y"
      ]
    },
    {
      "cell_type": "code",
      "execution_count": 73,
      "id": "96d3a8aa",
      "metadata": {
        "colab": {
          "base_uri": "https://localhost:8080/"
        },
        "id": "96d3a8aa",
        "outputId": "29ed2d4e-8cca-4252-8155-c21000676ff9"
      },
      "outputs": [
        {
          "output_type": "execute_result",
          "data": {
            "text/plain": [
              "array([0, 1, 0, 1, 1, 0, 1, 1, 1, 1, 1, 0, 0, 0, 0, 1, 0, 1, 1, 1, 0, 1,\n",
              "       1, 1, 0, 1, 1, 1, 1, 1, 1, 0, 1, 1, 0, 1, 0, 1, 1, 0, 1, 1, 0, 1,\n",
              "       0, 0, 0, 1, 1, 1, 1, 0, 0, 1, 1, 1, 1, 1, 1, 1, 0, 0, 0, 0, 1, 1,\n",
              "       0, 1, 1, 1, 1, 0, 0, 1, 1, 1, 0, 0, 0, 1, 1, 1, 0, 1, 1, 1, 0, 1,\n",
              "       1, 0, 1, 1, 0, 0, 1, 0, 1, 1, 0, 1, 0, 1, 0, 0, 0, 1, 0, 1, 1, 0,\n",
              "       0, 1, 0, 1, 1, 1, 0, 1, 0, 0, 1, 1, 1, 1, 1, 1, 0, 1, 1, 1, 1, 1,\n",
              "       1, 1, 0, 0, 1, 1, 1, 0, 1, 0, 1, 0, 1, 1, 0, 1, 0, 1, 1, 1, 1, 1,\n",
              "       0, 1, 1, 0, 1, 0, 0, 0, 1, 0, 1, 1, 1, 1, 0, 1, 0, 0, 1, 1, 1, 1,\n",
              "       1, 0, 1, 0, 1, 1, 1, 0, 1, 1, 0, 0, 1, 0, 0, 1, 1, 1, 1, 1, 1, 1,\n",
              "       1, 0, 1, 0, 1, 1, 1, 0, 0, 1, 0, 1, 1, 1, 1, 1, 0, 1, 1, 1, 1, 0,\n",
              "       1, 0, 0, 0, 1, 0, 1, 0, 1, 1, 1, 0, 1, 0, 1, 1, 1, 0, 0, 1, 1, 1,\n",
              "       0, 1, 1, 0, 1, 1, 0, 1, 1, 0, 0, 1, 0, 1, 1, 0, 0, 0, 1, 1, 1, 1,\n",
              "       1, 1, 1, 1, 1, 0, 1, 1, 0, 0, 0, 0, 0, 1, 1, 1, 0, 0, 0, 1, 0, 1,\n",
              "       0, 1, 1, 0, 0, 1, 1, 0, 0, 1, 1, 1, 0, 0, 1, 0, 0, 1, 1, 1, 0, 1,\n",
              "       0, 1, 1, 1, 1, 1, 1, 0, 0, 1, 1, 0, 0, 1, 1, 1, 1, 0, 1, 0, 0, 1,\n",
              "       1, 1, 1, 1, 0, 0, 0, 0, 0, 1, 1, 1, 1, 1, 1, 1, 1, 1, 1, 1, 1, 1,\n",
              "       1, 1, 1, 0, 0, 1, 1, 1, 1, 1, 0, 1, 1, 0, 1, 1, 1, 1, 1, 0, 1, 0,\n",
              "       0, 0, 0, 1, 0, 1, 0, 0, 0, 1, 1, 0, 1, 0, 1, 0, 0, 1, 1, 0, 0, 1,\n",
              "       1, 1, 0, 1])"
            ]
          },
          "metadata": {},
          "execution_count": 73
        }
      ],
      "source": [
        "y=np.array([0 if value == 'notckd' else 1 for value in y])\n",
        "y"
      ]
    },
    {
      "cell_type": "code",
      "execution_count": 74,
      "id": "aa38fc83",
      "metadata": {
        "colab": {
          "base_uri": "https://localhost:8080/"
        },
        "id": "aa38fc83",
        "outputId": "a55eb849-d41a-47e4-e8ca-f6192c7432a7"
      },
      "outputs": [
        {
          "output_type": "execute_result",
          "data": {
            "text/plain": [
              "0.625"
            ]
          },
          "metadata": {},
          "execution_count": 74
        }
      ],
      "source": [
        "sum(y)/len(y)"
      ]
    },
    {
      "cell_type": "code",
      "execution_count": 75,
      "id": "97f8a509",
      "metadata": {
        "colab": {
          "base_uri": "https://localhost:8080/"
        },
        "id": "97f8a509",
        "outputId": "f2006366-dfbb-4aa3-ac26-d3fd0d2f6099"
      },
      "outputs": [
        {
          "output_type": "execute_result",
          "data": {
            "text/plain": [
              "{'ane': array(['no', 'yes'], dtype=object),\n",
              " 'appet': array(['good', 'poor'], dtype=object),\n",
              " 'ba': array(['notpresent', 'present'], dtype=object),\n",
              " 'cad': array(['no', 'yes'], dtype=object),\n",
              " 'dm': array(['no', 'yes'], dtype=object),\n",
              " 'htn': array(['no', 'yes'], dtype=object),\n",
              " 'pc': array(['normal', 'abnormal'], dtype=object),\n",
              " 'pcc': array(['notpresent', 'present'], dtype=object),\n",
              " 'pe': array(['no', 'yes'], dtype=object),\n",
              " 'rbc': array(['normal', 'abnormal'], dtype=object)}"
            ]
          },
          "metadata": {},
          "execution_count": 75
        }
      ],
      "source": [
        "unique_values_cat(x)"
      ]
    },
    {
      "cell_type": "markdown",
      "id": "5cb42efa",
      "metadata": {
        "id": "5cb42efa"
      },
      "source": [
        "# oneHot encoding"
      ]
    },
    {
      "cell_type": "code",
      "execution_count": 76,
      "id": "313d8c41",
      "metadata": {
        "colab": {
          "base_uri": "https://localhost:8080/",
          "height": 0
        },
        "id": "313d8c41",
        "outputId": "afb7808e-17e9-4071-e3e4-e1b87e97e21f"
      },
      "outputs": [
        {
          "output_type": "stream",
          "name": "stderr",
          "text": [
            "/usr/local/lib/python3.7/dist-packages/sklearn/utils/deprecation.py:87: FutureWarning: Function get_feature_names is deprecated; get_feature_names is deprecated in 1.0 and will be removed in 1.2. Please use get_feature_names_out instead.\n",
            "  warnings.warn(msg, category=FutureWarning)\n"
          ]
        },
        {
          "output_type": "execute_result",
          "data": {
            "text/plain": [
              "   encoder__x0_normal  encoder__x1_normal  encoder__x2_present  \\\n",
              "0                 1.0                 1.0                  0.0   \n",
              "1                 1.0                 1.0                  0.0   \n",
              "\n",
              "   encoder__x3_present  encoder__x4_yes  encoder__x5_yes  encoder__x6_yes  \\\n",
              "0                  0.0              0.0              0.0              0.0   \n",
              "1                  0.0              1.0              0.0              0.0   \n",
              "\n",
              "   encoder__x7_poor  encoder__x8_yes  encoder__x9_yes  ...   su    bgr    bu  \\\n",
              "0               0.0              0.0              0.0  ...  0.0  119.0  15.0   \n",
              "1               1.0              0.0              1.0  ...  0.0  102.0  60.0   \n",
              "\n",
              "    sc    sod  pot       hemo        pcv            wc        rc  \n",
              "0  0.7  150.0  4.9  12.526437  38.884498   8406.122449  4.707435  \n",
              "1  2.6  115.0  5.7   8.700000  26.000000  12800.000000  3.100000  \n",
              "\n",
              "[2 rows x 25 columns]"
            ],
            "text/html": [
              "\n",
              "  <div id=\"df-5236559a-3562-4645-9dc9-4a4ed98b95b4\">\n",
              "    <div class=\"colab-df-container\">\n",
              "      <div>\n",
              "<style scoped>\n",
              "    .dataframe tbody tr th:only-of-type {\n",
              "        vertical-align: middle;\n",
              "    }\n",
              "\n",
              "    .dataframe tbody tr th {\n",
              "        vertical-align: top;\n",
              "    }\n",
              "\n",
              "    .dataframe thead th {\n",
              "        text-align: right;\n",
              "    }\n",
              "</style>\n",
              "<table border=\"1\" class=\"dataframe\">\n",
              "  <thead>\n",
              "    <tr style=\"text-align: right;\">\n",
              "      <th></th>\n",
              "      <th>encoder__x0_normal</th>\n",
              "      <th>encoder__x1_normal</th>\n",
              "      <th>encoder__x2_present</th>\n",
              "      <th>encoder__x3_present</th>\n",
              "      <th>encoder__x4_yes</th>\n",
              "      <th>encoder__x5_yes</th>\n",
              "      <th>encoder__x6_yes</th>\n",
              "      <th>encoder__x7_poor</th>\n",
              "      <th>encoder__x8_yes</th>\n",
              "      <th>encoder__x9_yes</th>\n",
              "      <th>...</th>\n",
              "      <th>su</th>\n",
              "      <th>bgr</th>\n",
              "      <th>bu</th>\n",
              "      <th>sc</th>\n",
              "      <th>sod</th>\n",
              "      <th>pot</th>\n",
              "      <th>hemo</th>\n",
              "      <th>pcv</th>\n",
              "      <th>wc</th>\n",
              "      <th>rc</th>\n",
              "    </tr>\n",
              "  </thead>\n",
              "  <tbody>\n",
              "    <tr>\n",
              "      <th>0</th>\n",
              "      <td>1.0</td>\n",
              "      <td>1.0</td>\n",
              "      <td>0.0</td>\n",
              "      <td>0.0</td>\n",
              "      <td>0.0</td>\n",
              "      <td>0.0</td>\n",
              "      <td>0.0</td>\n",
              "      <td>0.0</td>\n",
              "      <td>0.0</td>\n",
              "      <td>0.0</td>\n",
              "      <td>...</td>\n",
              "      <td>0.0</td>\n",
              "      <td>119.0</td>\n",
              "      <td>15.0</td>\n",
              "      <td>0.7</td>\n",
              "      <td>150.0</td>\n",
              "      <td>4.9</td>\n",
              "      <td>12.526437</td>\n",
              "      <td>38.884498</td>\n",
              "      <td>8406.122449</td>\n",
              "      <td>4.707435</td>\n",
              "    </tr>\n",
              "    <tr>\n",
              "      <th>1</th>\n",
              "      <td>1.0</td>\n",
              "      <td>1.0</td>\n",
              "      <td>0.0</td>\n",
              "      <td>0.0</td>\n",
              "      <td>1.0</td>\n",
              "      <td>0.0</td>\n",
              "      <td>0.0</td>\n",
              "      <td>1.0</td>\n",
              "      <td>0.0</td>\n",
              "      <td>1.0</td>\n",
              "      <td>...</td>\n",
              "      <td>0.0</td>\n",
              "      <td>102.0</td>\n",
              "      <td>60.0</td>\n",
              "      <td>2.6</td>\n",
              "      <td>115.0</td>\n",
              "      <td>5.7</td>\n",
              "      <td>8.700000</td>\n",
              "      <td>26.000000</td>\n",
              "      <td>12800.000000</td>\n",
              "      <td>3.100000</td>\n",
              "    </tr>\n",
              "  </tbody>\n",
              "</table>\n",
              "<p>2 rows × 25 columns</p>\n",
              "</div>\n",
              "      <button class=\"colab-df-convert\" onclick=\"convertToInteractive('df-5236559a-3562-4645-9dc9-4a4ed98b95b4')\"\n",
              "              title=\"Convert this dataframe to an interactive table.\"\n",
              "              style=\"display:none;\">\n",
              "        \n",
              "  <svg xmlns=\"http://www.w3.org/2000/svg\" height=\"24px\"viewBox=\"0 0 24 24\"\n",
              "       width=\"24px\">\n",
              "    <path d=\"M0 0h24v24H0V0z\" fill=\"none\"/>\n",
              "    <path d=\"M18.56 5.44l.94 2.06.94-2.06 2.06-.94-2.06-.94-.94-2.06-.94 2.06-2.06.94zm-11 1L8.5 8.5l.94-2.06 2.06-.94-2.06-.94L8.5 2.5l-.94 2.06-2.06.94zm10 10l.94 2.06.94-2.06 2.06-.94-2.06-.94-.94-2.06-.94 2.06-2.06.94z\"/><path d=\"M17.41 7.96l-1.37-1.37c-.4-.4-.92-.59-1.43-.59-.52 0-1.04.2-1.43.59L10.3 9.45l-7.72 7.72c-.78.78-.78 2.05 0 2.83L4 21.41c.39.39.9.59 1.41.59.51 0 1.02-.2 1.41-.59l7.78-7.78 2.81-2.81c.8-.78.8-2.07 0-2.86zM5.41 20L4 18.59l7.72-7.72 1.47 1.35L5.41 20z\"/>\n",
              "  </svg>\n",
              "      </button>\n",
              "      \n",
              "  <style>\n",
              "    .colab-df-container {\n",
              "      display:flex;\n",
              "      flex-wrap:wrap;\n",
              "      gap: 12px;\n",
              "    }\n",
              "\n",
              "    .colab-df-convert {\n",
              "      background-color: #E8F0FE;\n",
              "      border: none;\n",
              "      border-radius: 50%;\n",
              "      cursor: pointer;\n",
              "      display: none;\n",
              "      fill: #1967D2;\n",
              "      height: 32px;\n",
              "      padding: 0 0 0 0;\n",
              "      width: 32px;\n",
              "    }\n",
              "\n",
              "    .colab-df-convert:hover {\n",
              "      background-color: #E2EBFA;\n",
              "      box-shadow: 0px 1px 2px rgba(60, 64, 67, 0.3), 0px 1px 3px 1px rgba(60, 64, 67, 0.15);\n",
              "      fill: #174EA6;\n",
              "    }\n",
              "\n",
              "    [theme=dark] .colab-df-convert {\n",
              "      background-color: #3B4455;\n",
              "      fill: #D2E3FC;\n",
              "    }\n",
              "\n",
              "    [theme=dark] .colab-df-convert:hover {\n",
              "      background-color: #434B5C;\n",
              "      box-shadow: 0px 1px 3px 1px rgba(0, 0, 0, 0.15);\n",
              "      filter: drop-shadow(0px 1px 2px rgba(0, 0, 0, 0.3));\n",
              "      fill: #FFFFFF;\n",
              "    }\n",
              "  </style>\n",
              "\n",
              "      <script>\n",
              "        const buttonEl =\n",
              "          document.querySelector('#df-5236559a-3562-4645-9dc9-4a4ed98b95b4 button.colab-df-convert');\n",
              "        buttonEl.style.display =\n",
              "          google.colab.kernel.accessAllowed ? 'block' : 'none';\n",
              "\n",
              "        async function convertToInteractive(key) {\n",
              "          const element = document.querySelector('#df-5236559a-3562-4645-9dc9-4a4ed98b95b4');\n",
              "          const dataTable =\n",
              "            await google.colab.kernel.invokeFunction('convertToInteractive',\n",
              "                                                     [key], {});\n",
              "          if (!dataTable) return;\n",
              "\n",
              "          const docLinkHtml = 'Like what you see? Visit the ' +\n",
              "            '<a target=\"_blank\" href=https://colab.research.google.com/notebooks/data_table.ipynb>data table notebook</a>'\n",
              "            + ' to learn more about interactive tables.';\n",
              "          element.innerHTML = '';\n",
              "          dataTable['output_type'] = 'display_data';\n",
              "          await google.colab.output.renderOutput(dataTable, element);\n",
              "          const docLink = document.createElement('div');\n",
              "          docLink.innerHTML = docLinkHtml;\n",
              "          element.appendChild(docLink);\n",
              "        }\n",
              "      </script>\n",
              "    </div>\n",
              "  </div>\n",
              "  "
            ]
          },
          "metadata": {},
          "execution_count": 76
        }
      ],
      "source": [
        "from sklearn.preprocessing import OneHotEncoder\n",
        "from sklearn.compose import ColumnTransformer\n",
        "\n",
        "cols = [c for c in x.columns if x.dtypes[c]=='object']\n",
        "columnTransformer = ColumnTransformer([('encoder', OneHotEncoder(drop='first'), cols)], remainder='passthrough')\n",
        "data = columnTransformer.fit_transform(x)\n",
        "column_name = columnTransformer.get_feature_names()\n",
        "data =  pd.DataFrame(data, columns= column_name)\n",
        "data.head(2)"
      ]
    },
    {
      "cell_type": "code",
      "execution_count": 76,
      "id": "6db0da4c",
      "metadata": {
        "id": "6db0da4c"
      },
      "outputs": [],
      "source": [
        ""
      ]
    },
    {
      "cell_type": "markdown",
      "id": "b44496b9",
      "metadata": {
        "id": "b44496b9"
      },
      "source": [
        "# scaling the data"
      ]
    },
    {
      "cell_type": "code",
      "execution_count": 77,
      "id": "05ad8165",
      "metadata": {
        "id": "05ad8165"
      },
      "outputs": [],
      "source": [
        "from sklearn.preprocessing import StandardScaler\n",
        "\n",
        "scaler = StandardScaler()\n",
        "x = pd.DataFrame(scaler.fit_transform(data), columns=data.columns)"
      ]
    },
    {
      "cell_type": "code",
      "execution_count": 78,
      "id": "74c81c34",
      "metadata": {
        "colab": {
          "base_uri": "https://localhost:8080/",
          "height": 661
        },
        "id": "74c81c34",
        "outputId": "030c66a3-0cc6-4d9a-8e67-5c6e7841af07"
      },
      "outputs": [
        {
          "output_type": "execute_result",
          "data": {
            "text/plain": [
              "     encoder__x0_normal  encoder__x1_normal  encoder__x2_present  \\\n",
              "0              0.364890            0.484322            -0.342518   \n",
              "1              0.364890            0.484322            -0.342518   \n",
              "2              0.364890            0.484322            -0.342518   \n",
              "3              0.364890            0.484322            -0.342518   \n",
              "4             -2.740554            0.484322            -0.342518   \n",
              "..                  ...                 ...                  ...   \n",
              "395           -2.740554           -2.064742             2.919556   \n",
              "396            0.364890           -2.064742             2.919556   \n",
              "397            0.364890            0.484322            -0.342518   \n",
              "398            0.364890            0.484322            -0.342518   \n",
              "399            0.364890            0.484322            -0.342518   \n",
              "\n",
              "     encoder__x3_present  encoder__x4_yes  encoder__x5_yes  encoder__x6_yes  \\\n",
              "0              -0.241249        -0.762252        -0.721743        -0.304789   \n",
              "1              -0.241249         1.311903        -0.721743        -0.304789   \n",
              "2              -0.241249        -0.762252        -0.721743        -0.304789   \n",
              "3              -0.241249         1.311903         1.385535        -0.304789   \n",
              "4              -0.241249        -0.762252         1.385535        -0.304789   \n",
              "..                   ...              ...              ...              ...   \n",
              "395            -0.241249         1.311903         1.385535        -0.304789   \n",
              "396            -0.241249         1.311903        -0.721743         3.280961   \n",
              "397            -0.241249         1.311903         1.385535        -0.304789   \n",
              "398            -0.241249        -0.762252        -0.721743        -0.304789   \n",
              "399            -0.241249         1.311903        -0.721743         3.280961   \n",
              "\n",
              "     encoder__x7_poor  encoder__x8_yes  encoder__x9_yes  ...            su  \\\n",
              "0           -0.507801        -0.484322        -0.420084  ... -4.377969e-01   \n",
              "1            1.969276        -0.484322         2.380476  ... -4.377969e-01   \n",
              "2           -0.507801        -0.484322        -0.420084  ... -4.377969e-01   \n",
              "3           -0.507801        -0.484322        -0.420084  ... -4.377969e-01   \n",
              "4           -0.507801        -0.484322        -0.420084  ...  3.452500e+00   \n",
              "..                ...              ...              ...  ...           ...   \n",
              "395          1.969276         2.064742        -0.420084  ... -4.377969e-01   \n",
              "396         -0.507801        -0.484322        -0.420084  ... -4.377969e-01   \n",
              "397         -0.507801        -0.484322         2.380476  ...  6.478645e-16   \n",
              "398         -0.507801        -0.484322        -0.420084  ...  6.478645e-16   \n",
              "399          1.969276        -0.484322        -0.420084  ...  6.478645e-16   \n",
              "\n",
              "          bgr        bu        sc           sod           pot          hemo  \\\n",
              "0   -0.388765 -0.861887 -0.422862  1.356638e+00  9.685073e-02 -1.309624e-15   \n",
              "1   -0.616375  0.052297 -0.084209 -2.450706e+00  3.809158e-01 -1.410526e+00   \n",
              "2   -0.870763 -0.171170 -0.387215  1.600440e-01 -4.712795e-01  1.833387e+00   \n",
              "3    0.200344  0.702383  0.040557  3.776065e-01 -2.227225e-01 -1.005037e+00   \n",
              "4    0.829619  2.185392  2.660662 -2.750810e-01  2.583445e-02 -1.309624e-15   \n",
              "..        ...       ...       ...           ...           ...           ...   \n",
              "395  3.105721  0.052297 -0.066386 -7.102060e-01 -1.517063e-01 -6.364101e-01   \n",
              "396 -0.643153 -0.536844 -0.262448 -9.275247e-15  1.261503e-15 -8.207233e-01   \n",
              "397  0.320843 -0.232116 -0.244624  3.776065e-01  3.098996e-01 -1.078762e+00   \n",
              "398 -0.241488 -0.333692 -0.387215  3.776065e-01 -8.068997e-02  1.096134e+00   \n",
              "399 -0.602986  0.438286  0.397034 -2.750810e-01  5.939647e-01 -2.295229e+00   \n",
              "\n",
              "              pcv            wc            rc  \n",
              "0   -6.109653e-15  4.330817e-15 -1.375768e-14  \n",
              "1   -1.582690e+00  1.743558e+00 -1.915293e+00  \n",
              "2    1.370246e-01  5.927935e-01 -8.858894e-03  \n",
              "3   -1.337016e+00  2.457826e+00 -1.796141e+00  \n",
              "4   -6.109653e-15  4.330817e-15 -1.375768e-14  \n",
              "..            ...           ...           ...  \n",
              "395 -8.456694e-01 -1.550009e+00 -1.081228e+00  \n",
              "396 -1.091343e+00 -1.232557e+00 -1.200380e+00  \n",
              "397 -1.091343e+00  4.330817e-15 -1.375768e-14  \n",
              "398  1.611066e+00 -1.629372e+00  1.301814e+00  \n",
              "399 -2.442547e+00 -4.786079e-01 -2.511053e+00  \n",
              "\n",
              "[400 rows x 25 columns]"
            ],
            "text/html": [
              "\n",
              "  <div id=\"df-13b27327-d25c-49ed-b6ec-96fcc7ecfdd0\">\n",
              "    <div class=\"colab-df-container\">\n",
              "      <div>\n",
              "<style scoped>\n",
              "    .dataframe tbody tr th:only-of-type {\n",
              "        vertical-align: middle;\n",
              "    }\n",
              "\n",
              "    .dataframe tbody tr th {\n",
              "        vertical-align: top;\n",
              "    }\n",
              "\n",
              "    .dataframe thead th {\n",
              "        text-align: right;\n",
              "    }\n",
              "</style>\n",
              "<table border=\"1\" class=\"dataframe\">\n",
              "  <thead>\n",
              "    <tr style=\"text-align: right;\">\n",
              "      <th></th>\n",
              "      <th>encoder__x0_normal</th>\n",
              "      <th>encoder__x1_normal</th>\n",
              "      <th>encoder__x2_present</th>\n",
              "      <th>encoder__x3_present</th>\n",
              "      <th>encoder__x4_yes</th>\n",
              "      <th>encoder__x5_yes</th>\n",
              "      <th>encoder__x6_yes</th>\n",
              "      <th>encoder__x7_poor</th>\n",
              "      <th>encoder__x8_yes</th>\n",
              "      <th>encoder__x9_yes</th>\n",
              "      <th>...</th>\n",
              "      <th>su</th>\n",
              "      <th>bgr</th>\n",
              "      <th>bu</th>\n",
              "      <th>sc</th>\n",
              "      <th>sod</th>\n",
              "      <th>pot</th>\n",
              "      <th>hemo</th>\n",
              "      <th>pcv</th>\n",
              "      <th>wc</th>\n",
              "      <th>rc</th>\n",
              "    </tr>\n",
              "  </thead>\n",
              "  <tbody>\n",
              "    <tr>\n",
              "      <th>0</th>\n",
              "      <td>0.364890</td>\n",
              "      <td>0.484322</td>\n",
              "      <td>-0.342518</td>\n",
              "      <td>-0.241249</td>\n",
              "      <td>-0.762252</td>\n",
              "      <td>-0.721743</td>\n",
              "      <td>-0.304789</td>\n",
              "      <td>-0.507801</td>\n",
              "      <td>-0.484322</td>\n",
              "      <td>-0.420084</td>\n",
              "      <td>...</td>\n",
              "      <td>-4.377969e-01</td>\n",
              "      <td>-0.388765</td>\n",
              "      <td>-0.861887</td>\n",
              "      <td>-0.422862</td>\n",
              "      <td>1.356638e+00</td>\n",
              "      <td>9.685073e-02</td>\n",
              "      <td>-1.309624e-15</td>\n",
              "      <td>-6.109653e-15</td>\n",
              "      <td>4.330817e-15</td>\n",
              "      <td>-1.375768e-14</td>\n",
              "    </tr>\n",
              "    <tr>\n",
              "      <th>1</th>\n",
              "      <td>0.364890</td>\n",
              "      <td>0.484322</td>\n",
              "      <td>-0.342518</td>\n",
              "      <td>-0.241249</td>\n",
              "      <td>1.311903</td>\n",
              "      <td>-0.721743</td>\n",
              "      <td>-0.304789</td>\n",
              "      <td>1.969276</td>\n",
              "      <td>-0.484322</td>\n",
              "      <td>2.380476</td>\n",
              "      <td>...</td>\n",
              "      <td>-4.377969e-01</td>\n",
              "      <td>-0.616375</td>\n",
              "      <td>0.052297</td>\n",
              "      <td>-0.084209</td>\n",
              "      <td>-2.450706e+00</td>\n",
              "      <td>3.809158e-01</td>\n",
              "      <td>-1.410526e+00</td>\n",
              "      <td>-1.582690e+00</td>\n",
              "      <td>1.743558e+00</td>\n",
              "      <td>-1.915293e+00</td>\n",
              "    </tr>\n",
              "    <tr>\n",
              "      <th>2</th>\n",
              "      <td>0.364890</td>\n",
              "      <td>0.484322</td>\n",
              "      <td>-0.342518</td>\n",
              "      <td>-0.241249</td>\n",
              "      <td>-0.762252</td>\n",
              "      <td>-0.721743</td>\n",
              "      <td>-0.304789</td>\n",
              "      <td>-0.507801</td>\n",
              "      <td>-0.484322</td>\n",
              "      <td>-0.420084</td>\n",
              "      <td>...</td>\n",
              "      <td>-4.377969e-01</td>\n",
              "      <td>-0.870763</td>\n",
              "      <td>-0.171170</td>\n",
              "      <td>-0.387215</td>\n",
              "      <td>1.600440e-01</td>\n",
              "      <td>-4.712795e-01</td>\n",
              "      <td>1.833387e+00</td>\n",
              "      <td>1.370246e-01</td>\n",
              "      <td>5.927935e-01</td>\n",
              "      <td>-8.858894e-03</td>\n",
              "    </tr>\n",
              "    <tr>\n",
              "      <th>3</th>\n",
              "      <td>0.364890</td>\n",
              "      <td>0.484322</td>\n",
              "      <td>-0.342518</td>\n",
              "      <td>-0.241249</td>\n",
              "      <td>1.311903</td>\n",
              "      <td>1.385535</td>\n",
              "      <td>-0.304789</td>\n",
              "      <td>-0.507801</td>\n",
              "      <td>-0.484322</td>\n",
              "      <td>-0.420084</td>\n",
              "      <td>...</td>\n",
              "      <td>-4.377969e-01</td>\n",
              "      <td>0.200344</td>\n",
              "      <td>0.702383</td>\n",
              "      <td>0.040557</td>\n",
              "      <td>3.776065e-01</td>\n",
              "      <td>-2.227225e-01</td>\n",
              "      <td>-1.005037e+00</td>\n",
              "      <td>-1.337016e+00</td>\n",
              "      <td>2.457826e+00</td>\n",
              "      <td>-1.796141e+00</td>\n",
              "    </tr>\n",
              "    <tr>\n",
              "      <th>4</th>\n",
              "      <td>-2.740554</td>\n",
              "      <td>0.484322</td>\n",
              "      <td>-0.342518</td>\n",
              "      <td>-0.241249</td>\n",
              "      <td>-0.762252</td>\n",
              "      <td>1.385535</td>\n",
              "      <td>-0.304789</td>\n",
              "      <td>-0.507801</td>\n",
              "      <td>-0.484322</td>\n",
              "      <td>-0.420084</td>\n",
              "      <td>...</td>\n",
              "      <td>3.452500e+00</td>\n",
              "      <td>0.829619</td>\n",
              "      <td>2.185392</td>\n",
              "      <td>2.660662</td>\n",
              "      <td>-2.750810e-01</td>\n",
              "      <td>2.583445e-02</td>\n",
              "      <td>-1.309624e-15</td>\n",
              "      <td>-6.109653e-15</td>\n",
              "      <td>4.330817e-15</td>\n",
              "      <td>-1.375768e-14</td>\n",
              "    </tr>\n",
              "    <tr>\n",
              "      <th>...</th>\n",
              "      <td>...</td>\n",
              "      <td>...</td>\n",
              "      <td>...</td>\n",
              "      <td>...</td>\n",
              "      <td>...</td>\n",
              "      <td>...</td>\n",
              "      <td>...</td>\n",
              "      <td>...</td>\n",
              "      <td>...</td>\n",
              "      <td>...</td>\n",
              "      <td>...</td>\n",
              "      <td>...</td>\n",
              "      <td>...</td>\n",
              "      <td>...</td>\n",
              "      <td>...</td>\n",
              "      <td>...</td>\n",
              "      <td>...</td>\n",
              "      <td>...</td>\n",
              "      <td>...</td>\n",
              "      <td>...</td>\n",
              "      <td>...</td>\n",
              "    </tr>\n",
              "    <tr>\n",
              "      <th>395</th>\n",
              "      <td>-2.740554</td>\n",
              "      <td>-2.064742</td>\n",
              "      <td>2.919556</td>\n",
              "      <td>-0.241249</td>\n",
              "      <td>1.311903</td>\n",
              "      <td>1.385535</td>\n",
              "      <td>-0.304789</td>\n",
              "      <td>1.969276</td>\n",
              "      <td>2.064742</td>\n",
              "      <td>-0.420084</td>\n",
              "      <td>...</td>\n",
              "      <td>-4.377969e-01</td>\n",
              "      <td>3.105721</td>\n",
              "      <td>0.052297</td>\n",
              "      <td>-0.066386</td>\n",
              "      <td>-7.102060e-01</td>\n",
              "      <td>-1.517063e-01</td>\n",
              "      <td>-6.364101e-01</td>\n",
              "      <td>-8.456694e-01</td>\n",
              "      <td>-1.550009e+00</td>\n",
              "      <td>-1.081228e+00</td>\n",
              "    </tr>\n",
              "    <tr>\n",
              "      <th>396</th>\n",
              "      <td>0.364890</td>\n",
              "      <td>-2.064742</td>\n",
              "      <td>2.919556</td>\n",
              "      <td>-0.241249</td>\n",
              "      <td>1.311903</td>\n",
              "      <td>-0.721743</td>\n",
              "      <td>3.280961</td>\n",
              "      <td>-0.507801</td>\n",
              "      <td>-0.484322</td>\n",
              "      <td>-0.420084</td>\n",
              "      <td>...</td>\n",
              "      <td>-4.377969e-01</td>\n",
              "      <td>-0.643153</td>\n",
              "      <td>-0.536844</td>\n",
              "      <td>-0.262448</td>\n",
              "      <td>-9.275247e-15</td>\n",
              "      <td>1.261503e-15</td>\n",
              "      <td>-8.207233e-01</td>\n",
              "      <td>-1.091343e+00</td>\n",
              "      <td>-1.232557e+00</td>\n",
              "      <td>-1.200380e+00</td>\n",
              "    </tr>\n",
              "    <tr>\n",
              "      <th>397</th>\n",
              "      <td>0.364890</td>\n",
              "      <td>0.484322</td>\n",
              "      <td>-0.342518</td>\n",
              "      <td>-0.241249</td>\n",
              "      <td>1.311903</td>\n",
              "      <td>1.385535</td>\n",
              "      <td>-0.304789</td>\n",
              "      <td>-0.507801</td>\n",
              "      <td>-0.484322</td>\n",
              "      <td>2.380476</td>\n",
              "      <td>...</td>\n",
              "      <td>6.478645e-16</td>\n",
              "      <td>0.320843</td>\n",
              "      <td>-0.232116</td>\n",
              "      <td>-0.244624</td>\n",
              "      <td>3.776065e-01</td>\n",
              "      <td>3.098996e-01</td>\n",
              "      <td>-1.078762e+00</td>\n",
              "      <td>-1.091343e+00</td>\n",
              "      <td>4.330817e-15</td>\n",
              "      <td>-1.375768e-14</td>\n",
              "    </tr>\n",
              "    <tr>\n",
              "      <th>398</th>\n",
              "      <td>0.364890</td>\n",
              "      <td>0.484322</td>\n",
              "      <td>-0.342518</td>\n",
              "      <td>-0.241249</td>\n",
              "      <td>-0.762252</td>\n",
              "      <td>-0.721743</td>\n",
              "      <td>-0.304789</td>\n",
              "      <td>-0.507801</td>\n",
              "      <td>-0.484322</td>\n",
              "      <td>-0.420084</td>\n",
              "      <td>...</td>\n",
              "      <td>6.478645e-16</td>\n",
              "      <td>-0.241488</td>\n",
              "      <td>-0.333692</td>\n",
              "      <td>-0.387215</td>\n",
              "      <td>3.776065e-01</td>\n",
              "      <td>-8.068997e-02</td>\n",
              "      <td>1.096134e+00</td>\n",
              "      <td>1.611066e+00</td>\n",
              "      <td>-1.629372e+00</td>\n",
              "      <td>1.301814e+00</td>\n",
              "    </tr>\n",
              "    <tr>\n",
              "      <th>399</th>\n",
              "      <td>0.364890</td>\n",
              "      <td>0.484322</td>\n",
              "      <td>-0.342518</td>\n",
              "      <td>-0.241249</td>\n",
              "      <td>1.311903</td>\n",
              "      <td>-0.721743</td>\n",
              "      <td>3.280961</td>\n",
              "      <td>1.969276</td>\n",
              "      <td>-0.484322</td>\n",
              "      <td>-0.420084</td>\n",
              "      <td>...</td>\n",
              "      <td>6.478645e-16</td>\n",
              "      <td>-0.602986</td>\n",
              "      <td>0.438286</td>\n",
              "      <td>0.397034</td>\n",
              "      <td>-2.750810e-01</td>\n",
              "      <td>5.939647e-01</td>\n",
              "      <td>-2.295229e+00</td>\n",
              "      <td>-2.442547e+00</td>\n",
              "      <td>-4.786079e-01</td>\n",
              "      <td>-2.511053e+00</td>\n",
              "    </tr>\n",
              "  </tbody>\n",
              "</table>\n",
              "<p>400 rows × 25 columns</p>\n",
              "</div>\n",
              "      <button class=\"colab-df-convert\" onclick=\"convertToInteractive('df-13b27327-d25c-49ed-b6ec-96fcc7ecfdd0')\"\n",
              "              title=\"Convert this dataframe to an interactive table.\"\n",
              "              style=\"display:none;\">\n",
              "        \n",
              "  <svg xmlns=\"http://www.w3.org/2000/svg\" height=\"24px\"viewBox=\"0 0 24 24\"\n",
              "       width=\"24px\">\n",
              "    <path d=\"M0 0h24v24H0V0z\" fill=\"none\"/>\n",
              "    <path d=\"M18.56 5.44l.94 2.06.94-2.06 2.06-.94-2.06-.94-.94-2.06-.94 2.06-2.06.94zm-11 1L8.5 8.5l.94-2.06 2.06-.94-2.06-.94L8.5 2.5l-.94 2.06-2.06.94zm10 10l.94 2.06.94-2.06 2.06-.94-2.06-.94-.94-2.06-.94 2.06-2.06.94z\"/><path d=\"M17.41 7.96l-1.37-1.37c-.4-.4-.92-.59-1.43-.59-.52 0-1.04.2-1.43.59L10.3 9.45l-7.72 7.72c-.78.78-.78 2.05 0 2.83L4 21.41c.39.39.9.59 1.41.59.51 0 1.02-.2 1.41-.59l7.78-7.78 2.81-2.81c.8-.78.8-2.07 0-2.86zM5.41 20L4 18.59l7.72-7.72 1.47 1.35L5.41 20z\"/>\n",
              "  </svg>\n",
              "      </button>\n",
              "      \n",
              "  <style>\n",
              "    .colab-df-container {\n",
              "      display:flex;\n",
              "      flex-wrap:wrap;\n",
              "      gap: 12px;\n",
              "    }\n",
              "\n",
              "    .colab-df-convert {\n",
              "      background-color: #E8F0FE;\n",
              "      border: none;\n",
              "      border-radius: 50%;\n",
              "      cursor: pointer;\n",
              "      display: none;\n",
              "      fill: #1967D2;\n",
              "      height: 32px;\n",
              "      padding: 0 0 0 0;\n",
              "      width: 32px;\n",
              "    }\n",
              "\n",
              "    .colab-df-convert:hover {\n",
              "      background-color: #E2EBFA;\n",
              "      box-shadow: 0px 1px 2px rgba(60, 64, 67, 0.3), 0px 1px 3px 1px rgba(60, 64, 67, 0.15);\n",
              "      fill: #174EA6;\n",
              "    }\n",
              "\n",
              "    [theme=dark] .colab-df-convert {\n",
              "      background-color: #3B4455;\n",
              "      fill: #D2E3FC;\n",
              "    }\n",
              "\n",
              "    [theme=dark] .colab-df-convert:hover {\n",
              "      background-color: #434B5C;\n",
              "      box-shadow: 0px 1px 3px 1px rgba(0, 0, 0, 0.15);\n",
              "      filter: drop-shadow(0px 1px 2px rgba(0, 0, 0, 0.3));\n",
              "      fill: #FFFFFF;\n",
              "    }\n",
              "  </style>\n",
              "\n",
              "      <script>\n",
              "        const buttonEl =\n",
              "          document.querySelector('#df-13b27327-d25c-49ed-b6ec-96fcc7ecfdd0 button.colab-df-convert');\n",
              "        buttonEl.style.display =\n",
              "          google.colab.kernel.accessAllowed ? 'block' : 'none';\n",
              "\n",
              "        async function convertToInteractive(key) {\n",
              "          const element = document.querySelector('#df-13b27327-d25c-49ed-b6ec-96fcc7ecfdd0');\n",
              "          const dataTable =\n",
              "            await google.colab.kernel.invokeFunction('convertToInteractive',\n",
              "                                                     [key], {});\n",
              "          if (!dataTable) return;\n",
              "\n",
              "          const docLinkHtml = 'Like what you see? Visit the ' +\n",
              "            '<a target=\"_blank\" href=https://colab.research.google.com/notebooks/data_table.ipynb>data table notebook</a>'\n",
              "            + ' to learn more about interactive tables.';\n",
              "          element.innerHTML = '';\n",
              "          dataTable['output_type'] = 'display_data';\n",
              "          await google.colab.output.renderOutput(dataTable, element);\n",
              "          const docLink = document.createElement('div');\n",
              "          docLink.innerHTML = docLinkHtml;\n",
              "          element.appendChild(docLink);\n",
              "        }\n",
              "      </script>\n",
              "    </div>\n",
              "  </div>\n",
              "  "
            ]
          },
          "metadata": {},
          "execution_count": 78
        }
      ],
      "source": [
        "x"
      ]
    },
    {
      "cell_type": "markdown",
      "id": "4b9f8dc3",
      "metadata": {
        "id": "4b9f8dc3"
      },
      "source": [
        "# Train-Test Split"
      ]
    },
    {
      "cell_type": "code",
      "execution_count": 79,
      "id": "eedbe72e",
      "metadata": {
        "scrolled": true,
        "id": "eedbe72e"
      },
      "outputs": [],
      "source": [
        "x_train, x_test , y_train , y_test = train_test_split(x,y, random_state =41,stratify=y)"
      ]
    },
    {
      "cell_type": "markdown",
      "source": [
        "# train the models"
      ],
      "metadata": {
        "id": "qHy2SpyqplC0"
      },
      "id": "qHy2SpyqplC0"
    },
    {
      "cell_type": "code",
      "execution_count": 80,
      "id": "d3599749",
      "metadata": {
        "id": "d3599749"
      },
      "outputs": [],
      "source": [
        "modelKNN = KNeighborsClassifier()\n",
        "\n",
        "modelKNN.fit(x_train,y_train)\n",
        "y_pred =model.predict(x_test)\n"
      ]
    },
    {
      "cell_type": "code",
      "execution_count": 81,
      "id": "e9e4aabf",
      "metadata": {
        "colab": {
          "base_uri": "https://localhost:8080/"
        },
        "id": "e9e4aabf",
        "outputId": "213991fb-0fb8-4f29-b4e9-90aab8693ddf"
      },
      "outputs": [
        {
          "output_type": "execute_result",
          "data": {
            "text/plain": [
              "0.97"
            ]
          },
          "metadata": {},
          "execution_count": 81
        }
      ],
      "source": [
        "model.score(x_test, y_test)"
      ]
    },
    {
      "cell_type": "code",
      "execution_count": 82,
      "id": "861cc134",
      "metadata": {
        "colab": {
          "base_uri": "https://localhost:8080/"
        },
        "id": "861cc134",
        "outputId": "ee197db6-dc8f-44f4-deea-6a0b19ba656b"
      },
      "outputs": [
        {
          "output_type": "execute_result",
          "data": {
            "text/plain": [
              "array([[38,  0],\n",
              "       [ 3, 59]])"
            ]
          },
          "metadata": {},
          "execution_count": 82
        }
      ],
      "source": [
        "from sklearn.metrics import confusion_matrix\n",
        "y_pred = model.predict(x_test)\n",
        "cm = confusion_matrix(y_test, y_pred)\n",
        "cm"
      ]
    },
    {
      "cell_type": "markdown",
      "source": [
        " # Model selection using grid search"
      ],
      "metadata": {
        "id": "HkARgFTFqmOl"
      },
      "id": "HkARgFTFqmOl"
    },
    {
      "cell_type": "code",
      "execution_count": 83,
      "id": "98fe8876",
      "metadata": {
        "id": "98fe8876"
      },
      "outputs": [],
      "source": [
        "model_params = {\n",
        "    'KNN' : { 'model': KNeighborsClassifier(),\n",
        "             'params':{ 'n_neighbors' : [3,5],\n",
        "               'weights' : ['uniform','distance'],\n",
        "               'metric' : ['minkowski','euclidean']\n",
        "    }\n",
        "        \n",
        "    \n",
        "    },\n",
        "    \n",
        "    'random_forest': {\n",
        "        'model': RandomForestClassifier(),\n",
        "        'params' : {\n",
        "        \n",
        "           'n_estimators': [ 100,150,250],\n",
        "           'max_features': ['sqrt', 0.25, 0.5]\n",
        "        }     \n",
        "       \n",
        "    },\n",
        "    'logistic_regression' : {\n",
        "        'model': LogisticRegression(),\n",
        "        'params': {\n",
        "            'C': [ 1e-2, 1e-1],\n",
        "            'solver': [ 'lbfgs', 'liblinear'],\n",
        "            'penalty':[ 'l2', 'elasticnet']\n",
        "        }\n",
        "    }\n",
        "}"
      ]
    },
    {
      "cell_type": "code",
      "execution_count": 84,
      "id": "9f41d86e",
      "metadata": {
        "colab": {
          "base_uri": "https://localhost:8080/",
          "height": 730
        },
        "id": "9f41d86e",
        "outputId": "3c3bc867-539b-40aa-9b42-48976f007359"
      },
      "outputs": [
        {
          "output_type": "stream",
          "name": "stderr",
          "text": [
            "/usr/local/lib/python3.7/dist-packages/sklearn/model_selection/_validation.py:372: FitFailedWarning: \n",
            "60 fits failed out of a total of 120.\n",
            "The score on these train-test partitions for these parameters will be set to nan.\n",
            "If these failures are not expected, you can try to debug them by setting error_score='raise'.\n",
            "\n",
            "Below are more details about the failures:\n",
            "--------------------------------------------------------------------------------\n",
            "30 fits failed with the following error:\n",
            "Traceback (most recent call last):\n",
            "  File \"/usr/local/lib/python3.7/dist-packages/sklearn/model_selection/_validation.py\", line 680, in _fit_and_score\n",
            "    estimator.fit(X_train, y_train, **fit_params)\n",
            "  File \"/usr/local/lib/python3.7/dist-packages/sklearn/linear_model/_logistic.py\", line 1461, in fit\n",
            "    solver = _check_solver(self.solver, self.penalty, self.dual)\n",
            "  File \"/usr/local/lib/python3.7/dist-packages/sklearn/linear_model/_logistic.py\", line 449, in _check_solver\n",
            "    % (solver, penalty)\n",
            "ValueError: Solver lbfgs supports only 'l2' or 'none' penalties, got elasticnet penalty.\n",
            "\n",
            "--------------------------------------------------------------------------------\n",
            "30 fits failed with the following error:\n",
            "Traceback (most recent call last):\n",
            "  File \"/usr/local/lib/python3.7/dist-packages/sklearn/model_selection/_validation.py\", line 680, in _fit_and_score\n",
            "    estimator.fit(X_train, y_train, **fit_params)\n",
            "  File \"/usr/local/lib/python3.7/dist-packages/sklearn/linear_model/_logistic.py\", line 1461, in fit\n",
            "    solver = _check_solver(self.solver, self.penalty, self.dual)\n",
            "  File \"/usr/local/lib/python3.7/dist-packages/sklearn/linear_model/_logistic.py\", line 459, in _check_solver\n",
            "    solver\n",
            "ValueError: Only 'saga' solver supports elasticnet penalty, got solver=liblinear.\n",
            "\n",
            "  warnings.warn(some_fits_failed_message, FitFailedWarning)\n",
            "/usr/local/lib/python3.7/dist-packages/sklearn/model_selection/_search.py:972: UserWarning: One or more of the test scores are non-finite: [ 1.  1. nan nan  1.  1. nan nan]\n",
            "  category=UserWarning,\n"
          ]
        },
        {
          "output_type": "execute_result",
          "data": {
            "text/plain": [
              "                 model  best_score  \\\n",
              "0                  KNN       0.998   \n",
              "1        random_forest       1.000   \n",
              "2  logistic_regression       1.000   \n",
              "\n",
              "                                         best_params  \n",
              "0  {'metric': 'minkowski', 'n_neighbors': 5, 'wei...  \n",
              "1      {'max_features': 'sqrt', 'n_estimators': 100}  \n",
              "2    {'C': 0.01, 'penalty': 'l2', 'solver': 'lbfgs'}  "
            ],
            "text/html": [
              "\n",
              "  <div id=\"df-7deda59d-b836-4bad-afef-7458a4478e80\">\n",
              "    <div class=\"colab-df-container\">\n",
              "      <div>\n",
              "<style scoped>\n",
              "    .dataframe tbody tr th:only-of-type {\n",
              "        vertical-align: middle;\n",
              "    }\n",
              "\n",
              "    .dataframe tbody tr th {\n",
              "        vertical-align: top;\n",
              "    }\n",
              "\n",
              "    .dataframe thead th {\n",
              "        text-align: right;\n",
              "    }\n",
              "</style>\n",
              "<table border=\"1\" class=\"dataframe\">\n",
              "  <thead>\n",
              "    <tr style=\"text-align: right;\">\n",
              "      <th></th>\n",
              "      <th>model</th>\n",
              "      <th>best_score</th>\n",
              "      <th>best_params</th>\n",
              "    </tr>\n",
              "  </thead>\n",
              "  <tbody>\n",
              "    <tr>\n",
              "      <th>0</th>\n",
              "      <td>KNN</td>\n",
              "      <td>0.998</td>\n",
              "      <td>{'metric': 'minkowski', 'n_neighbors': 5, 'wei...</td>\n",
              "    </tr>\n",
              "    <tr>\n",
              "      <th>1</th>\n",
              "      <td>random_forest</td>\n",
              "      <td>1.000</td>\n",
              "      <td>{'max_features': 'sqrt', 'n_estimators': 100}</td>\n",
              "    </tr>\n",
              "    <tr>\n",
              "      <th>2</th>\n",
              "      <td>logistic_regression</td>\n",
              "      <td>1.000</td>\n",
              "      <td>{'C': 0.01, 'penalty': 'l2', 'solver': 'lbfgs'}</td>\n",
              "    </tr>\n",
              "  </tbody>\n",
              "</table>\n",
              "</div>\n",
              "      <button class=\"colab-df-convert\" onclick=\"convertToInteractive('df-7deda59d-b836-4bad-afef-7458a4478e80')\"\n",
              "              title=\"Convert this dataframe to an interactive table.\"\n",
              "              style=\"display:none;\">\n",
              "        \n",
              "  <svg xmlns=\"http://www.w3.org/2000/svg\" height=\"24px\"viewBox=\"0 0 24 24\"\n",
              "       width=\"24px\">\n",
              "    <path d=\"M0 0h24v24H0V0z\" fill=\"none\"/>\n",
              "    <path d=\"M18.56 5.44l.94 2.06.94-2.06 2.06-.94-2.06-.94-.94-2.06-.94 2.06-2.06.94zm-11 1L8.5 8.5l.94-2.06 2.06-.94-2.06-.94L8.5 2.5l-.94 2.06-2.06.94zm10 10l.94 2.06.94-2.06 2.06-.94-2.06-.94-.94-2.06-.94 2.06-2.06.94z\"/><path d=\"M17.41 7.96l-1.37-1.37c-.4-.4-.92-.59-1.43-.59-.52 0-1.04.2-1.43.59L10.3 9.45l-7.72 7.72c-.78.78-.78 2.05 0 2.83L4 21.41c.39.39.9.59 1.41.59.51 0 1.02-.2 1.41-.59l7.78-7.78 2.81-2.81c.8-.78.8-2.07 0-2.86zM5.41 20L4 18.59l7.72-7.72 1.47 1.35L5.41 20z\"/>\n",
              "  </svg>\n",
              "      </button>\n",
              "      \n",
              "  <style>\n",
              "    .colab-df-container {\n",
              "      display:flex;\n",
              "      flex-wrap:wrap;\n",
              "      gap: 12px;\n",
              "    }\n",
              "\n",
              "    .colab-df-convert {\n",
              "      background-color: #E8F0FE;\n",
              "      border: none;\n",
              "      border-radius: 50%;\n",
              "      cursor: pointer;\n",
              "      display: none;\n",
              "      fill: #1967D2;\n",
              "      height: 32px;\n",
              "      padding: 0 0 0 0;\n",
              "      width: 32px;\n",
              "    }\n",
              "\n",
              "    .colab-df-convert:hover {\n",
              "      background-color: #E2EBFA;\n",
              "      box-shadow: 0px 1px 2px rgba(60, 64, 67, 0.3), 0px 1px 3px 1px rgba(60, 64, 67, 0.15);\n",
              "      fill: #174EA6;\n",
              "    }\n",
              "\n",
              "    [theme=dark] .colab-df-convert {\n",
              "      background-color: #3B4455;\n",
              "      fill: #D2E3FC;\n",
              "    }\n",
              "\n",
              "    [theme=dark] .colab-df-convert:hover {\n",
              "      background-color: #434B5C;\n",
              "      box-shadow: 0px 1px 3px 1px rgba(0, 0, 0, 0.15);\n",
              "      filter: drop-shadow(0px 1px 2px rgba(0, 0, 0, 0.3));\n",
              "      fill: #FFFFFF;\n",
              "    }\n",
              "  </style>\n",
              "\n",
              "      <script>\n",
              "        const buttonEl =\n",
              "          document.querySelector('#df-7deda59d-b836-4bad-afef-7458a4478e80 button.colab-df-convert');\n",
              "        buttonEl.style.display =\n",
              "          google.colab.kernel.accessAllowed ? 'block' : 'none';\n",
              "\n",
              "        async function convertToInteractive(key) {\n",
              "          const element = document.querySelector('#df-7deda59d-b836-4bad-afef-7458a4478e80');\n",
              "          const dataTable =\n",
              "            await google.colab.kernel.invokeFunction('convertToInteractive',\n",
              "                                                     [key], {});\n",
              "          if (!dataTable) return;\n",
              "\n",
              "          const docLinkHtml = 'Like what you see? Visit the ' +\n",
              "            '<a target=\"_blank\" href=https://colab.research.google.com/notebooks/data_table.ipynb>data table notebook</a>'\n",
              "            + ' to learn more about interactive tables.';\n",
              "          element.innerHTML = '';\n",
              "          dataTable['output_type'] = 'display_data';\n",
              "          await google.colab.output.renderOutput(dataTable, element);\n",
              "          const docLink = document.createElement('div');\n",
              "          docLink.innerHTML = docLinkHtml;\n",
              "          element.appendChild(docLink);\n",
              "        }\n",
              "      </script>\n",
              "    </div>\n",
              "  </div>\n",
              "  "
            ]
          },
          "metadata": {},
          "execution_count": 84
        }
      ],
      "source": [
        "from sklearn.model_selection import RepeatedStratifiedKFold\n",
        "from sklearn.model_selection import GridSearchCV\n",
        "scores = []\n",
        "cv = RepeatedStratifiedKFold(n_splits=5, n_repeats=3, random_state=1)\n",
        "\n",
        "for model_name, mp in model_params.items():\n",
        "    clf =  GridSearchCV(mp['model'], mp['params'], cv=cv, return_train_score=False,scoring='roc_auc')\n",
        "    clf.fit(x, y)\n",
        "    scores.append({\n",
        "        'model': model_name,\n",
        "        'best_score': clf.best_score_,\n",
        "        'best_params': clf.best_params_\n",
        "    })\n",
        "    \n",
        "df = pd.DataFrame(scores,columns=['model','best_score','best_params'])\n",
        "df\n"
      ]
    },
    {
      "cell_type": "markdown",
      "source": [
        "# random forst classiffier"
      ],
      "metadata": {
        "id": "NQCM54IuxKBV"
      },
      "id": "NQCM54IuxKBV"
    },
    {
      "cell_type": "code",
      "execution_count": 85,
      "id": "7478f5dd",
      "metadata": {
        "id": "7478f5dd"
      },
      "outputs": [],
      "source": [
        "rf = RandomForestClassifier(max_features= 'sqrt', n_estimators= 100)"
      ]
    },
    {
      "cell_type": "code",
      "execution_count": 86,
      "id": "bd53be3d",
      "metadata": {
        "colab": {
          "base_uri": "https://localhost:8080/"
        },
        "id": "bd53be3d",
        "outputId": "933dff7a-c97f-4ad7-93a3-9e1c4792a0b0"
      },
      "outputs": [
        {
          "output_type": "execute_result",
          "data": {
            "text/plain": [
              "array([[38,  0],\n",
              "       [ 0, 62]])"
            ]
          },
          "metadata": {},
          "execution_count": 86
        }
      ],
      "source": [
        "\n",
        "rf.fit(x_train, y_train)\n",
        "y_pred =rf.predict(x_test)\n",
        "cm = confusion_matrix(y_test, y_pred)\n",
        "cm"
      ]
    },
    {
      "cell_type": "code",
      "execution_count": 89,
      "id": "e8653cd0",
      "metadata": {
        "colab": {
          "base_uri": "https://localhost:8080/",
          "height": 311
        },
        "id": "e8653cd0",
        "outputId": "9ea151e9-6079-44de-f0c8-7d21f138e598"
      },
      "outputs": [
        {
          "output_type": "execute_result",
          "data": {
            "text/plain": [
              "Text(0.5, 15.0, 'Predicted label')"
            ]
          },
          "metadata": {},
          "execution_count": 89
        },
        {
          "output_type": "display_data",
          "data": {
            "text/plain": [
              "<Figure size 432x288 with 2 Axes>"
            ],
            "image/png": "[encoded data removed]"
          },
          "metadata": {
            "needs_background": "light"
          }
        }
      ],
      "source": [
        "import matplotlib.pyplot as plt\n",
        "import seaborn as sns\n",
        "class_names=[0,1] # name  of classes\n",
        "fig, ax = plt.subplots()\n",
        "tick_marks = np.arange(len(class_names))\n",
        "plt.xticks(tick_marks, class_names)\n",
        "plt.yticks(tick_marks, class_names)\n",
        "# create heatmap\n",
        "sns.heatmap(cm, annot=True)\n",
        "ax.xaxis.set_label_position(\"top\")\n",
        "#plt.tight_layout()\n",
        "plt.title('Confusion matrix', y=1.1)\n",
        "plt.ylabel('Actual label')\n",
        "plt.xlabel('Predicted label')"
      ]
    },
    {
      "cell_type": "code",
      "execution_count": 90,
      "id": "c63644be",
      "metadata": {
        "colab": {
          "base_uri": "https://localhost:8080/"
        },
        "id": "c63644be",
        "outputId": "7e5fe9ff-57c2-42b2-a5e0-35b27626a4a7"
      },
      "outputs": [
        {
          "output_type": "stream",
          "name": "stdout",
          "text": [
            "              precision    recall  f1-score   support\n",
            "\n",
            "           0       1.00      1.00      1.00        38\n",
            "           1       1.00      1.00      1.00        62\n",
            "\n",
            "    accuracy                           1.00       100\n",
            "   macro avg       1.00      1.00      1.00       100\n",
            "weighted avg       1.00      1.00      1.00       100\n",
            "\n"
          ]
        }
      ],
      "source": [
        "from sklearn.metrics import classification_report\n",
        "print(classification_report(y_test, y_pred))"
      ]
    },
    {
      "cell_type": "markdown",
      "source": [
        "resultat extraordinaire 0 faute. algorithme trés puissant."
      ],
      "metadata": {
        "id": "lSdJKoczz_pV"
      },
      "id": "lSdJKoczz_pV"
    },
    {
      "cell_type": "code",
      "execution_count": 84,
      "id": "57603225",
      "metadata": {
        "id": "57603225"
      },
      "outputs": [],
      "source": [
        ""
      ]
    },
    {
      "cell_type": "markdown",
      "source": [
        "# logisitic regression"
      ],
      "metadata": {
        "id": "8lgtGojyy_Vw"
      },
      "id": "8lgtGojyy_Vw"
    },
    {
      "cell_type": "code",
      "execution_count": 91,
      "id": "de8160a0",
      "metadata": {
        "id": "de8160a0"
      },
      "outputs": [],
      "source": [
        "m = LogisticRegression(C= 0.01, penalty='l2', solver= 'lbfgs')"
      ]
    },
    {
      "cell_type": "code",
      "execution_count": 92,
      "id": "efd80447",
      "metadata": {
        "colab": {
          "base_uri": "https://localhost:8080/"
        },
        "id": "efd80447",
        "outputId": "d35f5dfd-855c-4720-e102-4e5c435ff03c"
      },
      "outputs": [
        {
          "output_type": "execute_result",
          "data": {
            "text/plain": [
              "array([[38,  0],\n",
              "       [ 1, 61]])"
            ]
          },
          "metadata": {},
          "execution_count": 92
        }
      ],
      "source": [
        "m.fit(x_train, y_train)\n",
        "y_pred =m.predict(x_test)\n",
        "cm = confusion_matrix(y_test, y_pred)\n",
        "cm\n"
      ]
    },
    {
      "cell_type": "code",
      "source": [
        ""
      ],
      "metadata": {
        "id": "6pNqgjUZzz-9"
      },
      "id": "6pNqgjUZzz-9",
      "execution_count": null,
      "outputs": []
    },
    {
      "cell_type": "markdown",
      "source": [
        "# KNN"
      ],
      "metadata": {
        "id": "amkH3QKT0XkK"
      },
      "id": "amkH3QKT0XkK"
    },
    {
      "cell_type": "code",
      "source": [
        "df.loc[0,'best_params']"
      ],
      "metadata": {
        "colab": {
          "base_uri": "https://localhost:8080/"
        },
        "id": "wuRuyPtP0e3C",
        "outputId": "864a128e-7557-4eaa-b481-1e3c82d0f5fc"
      },
      "id": "wuRuyPtP0e3C",
      "execution_count": 96,
      "outputs": [
        {
          "output_type": "execute_result",
          "data": {
            "text/plain": [
              "{'metric': 'minkowski', 'n_neighbors': 5, 'weights': 'distance'}"
            ]
          },
          "metadata": {},
          "execution_count": 96
        }
      ]
    },
    {
      "cell_type": "code",
      "source": [
        "modelKNN = KNeighborsClassifier(metric= 'minkowski',n_neighbors= 5, weights='distance')\n",
        "\n",
        "modelKNN.fit(x_train,y_train)\n",
        "y_pred =model.predict(x_test)"
      ],
      "metadata": {
        "id": "FGV-3uBE0ZWT"
      },
      "id": "FGV-3uBE0ZWT",
      "execution_count": 98,
      "outputs": []
    },
    {
      "cell_type": "code",
      "source": [
        "model.score(x_test, y_test)"
      ],
      "metadata": {
        "colab": {
          "base_uri": "https://localhost:8080/"
        },
        "id": "i1AsUVbK09aV",
        "outputId": "ae8696d9-d986-422f-a0ee-8d15f5544f5e"
      },
      "id": "i1AsUVbK09aV",
      "execution_count": 99,
      "outputs": [
        {
          "output_type": "execute_result",
          "data": {
            "text/plain": [
              "0.97"
            ]
          },
          "metadata": {},
          "execution_count": 99
        }
      ]
    },
    {
      "cell_type": "code",
      "source": [
        "from sklearn.metrics import confusion_matrix\n",
        "y_pred = model.predict(x_test)\n",
        "cm = confusion_matrix(y_test, y_pred)\n",
        "cm"
      ],
      "metadata": {
        "colab": {
          "base_uri": "https://localhost:8080/"
        },
        "id": "96pjYdYH1CB8",
        "outputId": "195ac67f-219b-4912-e4a9-729b10d0e467"
      },
      "id": "96pjYdYH1CB8",
      "execution_count": 100,
      "outputs": [
        {
          "output_type": "execute_result",
          "data": {
            "text/plain": [
              "array([[38,  0],\n",
              "       [ 3, 59]])"
            ]
          },
          "metadata": {},
          "execution_count": 100
        }
      ]
    },
    {
      "cell_type": "code",
      "source": [
        "print(classification_report(y_test, y_pred))"
      ],
      "metadata": {
        "colab": {
          "base_uri": "https://localhost:8080/"
        },
        "id": "qOAA3d2j1fT-",
        "outputId": "41534a69-9b8d-4ca3-ff23-3f998d2433eb"
      },
      "id": "qOAA3d2j1fT-",
      "execution_count": 101,
      "outputs": [
        {
          "output_type": "stream",
          "name": "stdout",
          "text": [
            "              precision    recall  f1-score   support\n",
            "\n",
            "           0       0.93      1.00      0.96        38\n",
            "           1       1.00      0.95      0.98        62\n",
            "\n",
            "    accuracy                           0.97       100\n",
            "   macro avg       0.96      0.98      0.97       100\n",
            "weighted avg       0.97      0.97      0.97       100\n",
            "\n"
          ]
        }
      ]
    },
    {
      "cell_type": "markdown",
      "source": [
        "on a obtenu les meme resulta de celui du model knn avant le hyperparapeter tuning avec gridsearch."
      ],
      "metadata": {
        "id": "w2Ld30hW1D5k"
      },
      "id": "w2Ld30hW1D5k"
    },
    {
      "cell_type": "markdown",
      "source": [
        "conclusion : le model qui a meilleures resultats est RandomForest classifier"
      ],
      "metadata": {
        "id": "QGjD0ncwz0vH"
      },
      "id": "QGjD0ncwz0vH"
    },
    {
      "cell_type": "markdown",
      "source": [
        "classemeent par resultat:\n",
        "\n",
        "1/randomforest classifier\n",
        "\n",
        "2/logisitc regression\n",
        "\n",
        "3/knn"
      ],
      "metadata": {
        "id": "7v6NHn9h0KCU"
      },
      "id": "7v6NHn9h0KCU"
    },
    {
      "cell_type": "code",
      "source": [
        ""
      ],
      "metadata": {
        "id": "KfkdrX2pz9Uo"
      },
      "id": "KfkdrX2pz9Uo",
      "execution_count": null,
      "outputs": []
    }
  ],
  "metadata": {
    "kernelspec": {
      "display_name": "Python 3",
      "language": "python",
      "name": "python3"
    },
    "language_info": {
      "codemirror_mode": {
        "name": "ipython",
        "version": 3
      },
      "file_extension": ".py",
      "mimetype": "text/x-python",
      "name": "python",
      "nbconvert_exporter": "python",
      "pygments_lexer": "ipython3",
      "version": "3.8.8"
    },
    "colab": {
      "name": "TP ML-Fathi chamseddine Mhiri.ipynb",
      "provenance": [],
      "collapsed_sections": [
        "5cb42efa"
      ]
    },
    "accelerator": "TPU"
  },
  "nbformat": 4,
  "nbformat_minor": 5
}